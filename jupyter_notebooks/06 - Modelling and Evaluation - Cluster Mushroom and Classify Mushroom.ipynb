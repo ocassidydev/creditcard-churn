{
  "cells": [
    {
      "cell_type": "markdown",
      "metadata": {
        "id": "0aStgWSO0E0E"
      },
      "source": [
        "# **Cluster**"
      ]
    },
    {
      "cell_type": "markdown",
      "metadata": {
        "id": "1eLEkw5O0ECa"
      },
      "source": [
        "## Objectives\n",
        "\n",
        "* Fit and evaluate a cluster model to group similar data\n",
        "* Understand the profile for each cluster\n",
        "\n",
        "## Inputs\n",
        "\n",
        "* outputs/datasets/collection/mushrooms.csv\n",
        "* Instructions on which variables to use for data cleaning and feature engineering. They are found in their respective notebooks.\n",
        "\n",
        "## Outputs\n",
        "\n",
        "* Cluster Pipeline\n",
        "* Train Set\n",
        "* Most important features to define a cluster plot\n",
        "* Clusters Profile Description\n",
        "* Cluster Silhouette"
      ]
    },
    {
      "cell_type": "markdown",
      "metadata": {
        "id": "9uWZXH9LwoQg"
      },
      "source": [
        "---"
      ]
    },
    {
      "cell_type": "markdown",
      "metadata": {
        "id": "cqP-UeN-z3i2"
      },
      "source": [
        "# Change working directory"
      ]
    },
    {
      "cell_type": "markdown",
      "metadata": {},
      "source": [
        "* We are assuming you will store the notebooks in a subfolder, therefore when running the notebook in the editor, you will need to change the working directory"
      ]
    },
    {
      "cell_type": "markdown",
      "metadata": {
        "id": "aOGIGS-uz3i2"
      },
      "source": [
        "We need to change the working directory from its current folder to its parent folder\n",
        "* We access the current directory with os.getcwd()"
      ]
    },
    {
      "cell_type": "code",
      "execution_count": 2,
      "metadata": {
        "id": "wZfF_j-Bz3i4",
        "outputId": "66943449-1436-4c3d-85c7-b85f9f78349b"
      },
      "outputs": [
        {
          "data": {
            "text/plain": [
              "'/workspace/mushroom-safety/jupyter_notebooks'"
            ]
          },
          "execution_count": 2,
          "metadata": {},
          "output_type": "execute_result"
        }
      ],
      "source": [
        "import os\n",
        "current_dir = os.getcwd()\n",
        "current_dir"
      ]
    },
    {
      "cell_type": "markdown",
      "metadata": {
        "id": "9MWW8E7lz3i7"
      },
      "source": [
        "We want to make the parent of the current directory the new current directory\n",
        "* os.path.dirname() gets the parent directory\n",
        "* os.chir() defines the new current directory"
      ]
    },
    {
      "cell_type": "code",
      "execution_count": 3,
      "metadata": {
        "id": "TwHsQRWjz3i9",
        "outputId": "86849db3-cd2f-4cc5-ebb8-2d0caafa1a2c"
      },
      "outputs": [
        {
          "name": "stdout",
          "output_type": "stream",
          "text": [
            "You set a new current directory\n"
          ]
        }
      ],
      "source": [
        "os.chdir(os.path.dirname(current_dir))\n",
        "print(\"You set a new current directory\")"
      ]
    },
    {
      "cell_type": "markdown",
      "metadata": {
        "id": "M_xPk_Ijz3i-"
      },
      "source": [
        "Confirm the new current directory"
      ]
    },
    {
      "cell_type": "code",
      "execution_count": 4,
      "metadata": {
        "id": "vz3S-_kjz3jA",
        "outputId": "00b79ae4-75d0-4a96-d193-ac9ef9847ea2"
      },
      "outputs": [
        {
          "data": {
            "text/plain": [
              "'/workspace/mushroom-safety'"
            ]
          },
          "execution_count": 4,
          "metadata": {},
          "output_type": "execute_result"
        }
      ],
      "source": [
        "current_dir = os.getcwd()\n",
        "current_dir"
      ]
    },
    {
      "cell_type": "markdown",
      "metadata": {
        "id": "ZY3l0-AxO93d"
      },
      "source": [
        "---"
      ]
    },
    {
      "cell_type": "markdown",
      "metadata": {
        "id": "uFQo3ycuO-v6"
      },
      "source": [
        "# Load Data"
      ]
    },
    {
      "cell_type": "code",
      "execution_count": 5,
      "metadata": {},
      "outputs": [
        {
          "name": "stdout",
          "output_type": "stream",
          "text": [
            "(8124, 23)\n"
          ]
        },
        {
          "data": {
            "text/html": [
              "<div>\n",
              "<style scoped>\n",
              "    .dataframe tbody tr th:only-of-type {\n",
              "        vertical-align: middle;\n",
              "    }\n",
              "\n",
              "    .dataframe tbody tr th {\n",
              "        vertical-align: top;\n",
              "    }\n",
              "\n",
              "    .dataframe thead th {\n",
              "        text-align: right;\n",
              "    }\n",
              "</style>\n",
              "<table border=\"1\" class=\"dataframe\">\n",
              "  <thead>\n",
              "    <tr style=\"text-align: right;\">\n",
              "      <th></th>\n",
              "      <th>edible</th>\n",
              "      <th>cap-shape</th>\n",
              "      <th>cap-surface</th>\n",
              "      <th>cap-color</th>\n",
              "      <th>bruises</th>\n",
              "      <th>odor</th>\n",
              "      <th>gill-attachment</th>\n",
              "      <th>gill-spacing</th>\n",
              "      <th>gill-size</th>\n",
              "      <th>gill-color</th>\n",
              "      <th>...</th>\n",
              "      <th>stalk-surface-below-ring</th>\n",
              "      <th>stalk-color-above-ring</th>\n",
              "      <th>stalk-color-below-ring</th>\n",
              "      <th>veil-type</th>\n",
              "      <th>veil-color</th>\n",
              "      <th>ring-number</th>\n",
              "      <th>ring-type</th>\n",
              "      <th>spore-print-color</th>\n",
              "      <th>population</th>\n",
              "      <th>habitat</th>\n",
              "    </tr>\n",
              "  </thead>\n",
              "  <tbody>\n",
              "    <tr>\n",
              "      <th>0</th>\n",
              "      <td>0</td>\n",
              "      <td>convex</td>\n",
              "      <td>smooth</td>\n",
              "      <td>brown</td>\n",
              "      <td>bruises</td>\n",
              "      <td>pungent</td>\n",
              "      <td>free</td>\n",
              "      <td>close</td>\n",
              "      <td>narrow</td>\n",
              "      <td>black</td>\n",
              "      <td>...</td>\n",
              "      <td>smooth</td>\n",
              "      <td>white</td>\n",
              "      <td>white</td>\n",
              "      <td>partial</td>\n",
              "      <td>white</td>\n",
              "      <td>one</td>\n",
              "      <td>pendant</td>\n",
              "      <td>black</td>\n",
              "      <td>scattered</td>\n",
              "      <td>urban</td>\n",
              "    </tr>\n",
              "    <tr>\n",
              "      <th>1</th>\n",
              "      <td>1</td>\n",
              "      <td>convex</td>\n",
              "      <td>smooth</td>\n",
              "      <td>yellow</td>\n",
              "      <td>bruises</td>\n",
              "      <td>almond</td>\n",
              "      <td>free</td>\n",
              "      <td>close</td>\n",
              "      <td>broad</td>\n",
              "      <td>black</td>\n",
              "      <td>...</td>\n",
              "      <td>smooth</td>\n",
              "      <td>white</td>\n",
              "      <td>white</td>\n",
              "      <td>partial</td>\n",
              "      <td>white</td>\n",
              "      <td>one</td>\n",
              "      <td>pendant</td>\n",
              "      <td>brown</td>\n",
              "      <td>numerous</td>\n",
              "      <td>grasses</td>\n",
              "    </tr>\n",
              "    <tr>\n",
              "      <th>2</th>\n",
              "      <td>1</td>\n",
              "      <td>bell</td>\n",
              "      <td>smooth</td>\n",
              "      <td>white</td>\n",
              "      <td>bruises</td>\n",
              "      <td>anise</td>\n",
              "      <td>free</td>\n",
              "      <td>close</td>\n",
              "      <td>broad</td>\n",
              "      <td>brown</td>\n",
              "      <td>...</td>\n",
              "      <td>smooth</td>\n",
              "      <td>white</td>\n",
              "      <td>white</td>\n",
              "      <td>partial</td>\n",
              "      <td>white</td>\n",
              "      <td>one</td>\n",
              "      <td>pendant</td>\n",
              "      <td>brown</td>\n",
              "      <td>numerous</td>\n",
              "      <td>meadows</td>\n",
              "    </tr>\n",
              "    <tr>\n",
              "      <th>3</th>\n",
              "      <td>0</td>\n",
              "      <td>convex</td>\n",
              "      <td>scaly</td>\n",
              "      <td>white</td>\n",
              "      <td>bruises</td>\n",
              "      <td>pungent</td>\n",
              "      <td>free</td>\n",
              "      <td>close</td>\n",
              "      <td>narrow</td>\n",
              "      <td>brown</td>\n",
              "      <td>...</td>\n",
              "      <td>smooth</td>\n",
              "      <td>white</td>\n",
              "      <td>white</td>\n",
              "      <td>partial</td>\n",
              "      <td>white</td>\n",
              "      <td>one</td>\n",
              "      <td>pendant</td>\n",
              "      <td>black</td>\n",
              "      <td>scattered</td>\n",
              "      <td>urban</td>\n",
              "    </tr>\n",
              "    <tr>\n",
              "      <th>4</th>\n",
              "      <td>1</td>\n",
              "      <td>convex</td>\n",
              "      <td>smooth</td>\n",
              "      <td>gray</td>\n",
              "      <td>no</td>\n",
              "      <td>none</td>\n",
              "      <td>free</td>\n",
              "      <td>crowded</td>\n",
              "      <td>broad</td>\n",
              "      <td>black</td>\n",
              "      <td>...</td>\n",
              "      <td>smooth</td>\n",
              "      <td>white</td>\n",
              "      <td>white</td>\n",
              "      <td>partial</td>\n",
              "      <td>white</td>\n",
              "      <td>one</td>\n",
              "      <td>evanescent</td>\n",
              "      <td>brown</td>\n",
              "      <td>abundant</td>\n",
              "      <td>grasses</td>\n",
              "    </tr>\n",
              "  </tbody>\n",
              "</table>\n",
              "<p>5 rows × 23 columns</p>\n",
              "</div>"
            ],
            "text/plain": [
              "   edible cap-shape cap-surface cap-color  bruises     odor gill-attachment  \\\n",
              "0       0    convex      smooth     brown  bruises  pungent            free   \n",
              "1       1    convex      smooth    yellow  bruises   almond            free   \n",
              "2       1      bell      smooth     white  bruises    anise            free   \n",
              "3       0    convex       scaly     white  bruises  pungent            free   \n",
              "4       1    convex      smooth      gray       no     none            free   \n",
              "\n",
              "  gill-spacing gill-size gill-color  ... stalk-surface-below-ring  \\\n",
              "0        close    narrow      black  ...                   smooth   \n",
              "1        close     broad      black  ...                   smooth   \n",
              "2        close     broad      brown  ...                   smooth   \n",
              "3        close    narrow      brown  ...                   smooth   \n",
              "4      crowded     broad      black  ...                   smooth   \n",
              "\n",
              "  stalk-color-above-ring stalk-color-below-ring veil-type veil-color  \\\n",
              "0                  white                  white   partial      white   \n",
              "1                  white                  white   partial      white   \n",
              "2                  white                  white   partial      white   \n",
              "3                  white                  white   partial      white   \n",
              "4                  white                  white   partial      white   \n",
              "\n",
              "  ring-number   ring-type spore-print-color population  habitat  \n",
              "0         one     pendant             black  scattered    urban  \n",
              "1         one     pendant             brown   numerous  grasses  \n",
              "2         one     pendant             brown   numerous  meadows  \n",
              "3         one     pendant             black  scattered    urban  \n",
              "4         one  evanescent             brown   abundant  grasses  \n",
              "\n",
              "[5 rows x 23 columns]"
            ]
          },
          "execution_count": 5,
          "metadata": {},
          "output_type": "execute_result"
        }
      ],
      "source": [
        "import pandas as pd\n",
        "\n",
        "df = pd.read_csv(\"outputs/datasets/collection/mushrooms.csv\")\n",
        "\n",
        "print(df.shape)\n",
        "df.head()"
      ]
    },
    {
      "cell_type": "markdown",
      "metadata": {},
      "source": [
        "---"
      ]
    },
    {
      "cell_type": "markdown",
      "metadata": {},
      "source": [
        "# Cluster Mushroom Pipeline with all data"
      ]
    },
    {
      "cell_type": "markdown",
      "metadata": {},
      "source": [
        "## ML Cluster Pipeline"
      ]
    },
    {
      "cell_type": "markdown",
      "metadata": {},
      "source": [
        "As previously identified in the Data Cleaning notebook, no data cleaning is needed. Target Encoding followed by Smart Correlated Selection will be used as before. Principal Component Analysis will then been performed to extract correlated components that explain the variance in the data. K-means clustering will be applied to the principal components to identify a set number of clusters."
      ]
    },
    {
      "cell_type": "code",
      "execution_count": 7,
      "metadata": {},
      "outputs": [],
      "source": [
        "from sklearn.pipeline import Pipeline\n",
        "\n",
        "# Feature Engineering\n",
        "from category_encoders import TargetEncoder\n",
        "from feature_engine.selection import SmartCorrelatedSelection\n",
        "\n",
        "# Feat Scaling\n",
        "from sklearn.preprocessing import StandardScaler\n",
        "\n",
        "# PCA\n",
        "from sklearn.decomposition import PCA\n",
        "\n",
        "# ML algorithm\n",
        "from sklearn.cluster import KMeans\n",
        "\n",
        "cols = df.columns[df.dtypes=='object'].to_list()\n",
        "\n",
        "cat_list=[]\n",
        "\n",
        "for col in cols:\n",
        "    cat_list.append(list(df[col].unique()))\n",
        "\n",
        "def PipelineCluster():\n",
        "    \"\"\" Creates a pipeline for a k-means clustering model \"\"\"\n",
        "    pipeline_base = Pipeline([\n",
        "        (\"TargetEncoder\", TargetEncoder()),\n",
        "        (\"SmartCorrelatedSelection\", SmartCorrelatedSelection(variables=None, method=\"spearman\", threshold=0.6, selection_method=\"variance\")),\n",
        "        (\"scaler\", StandardScaler()),\n",
        "        (\"PCA\", PCA(n_components=50, random_state=0)),\n",
        "        (\"model\", KMeans(n_clusters=50, random_state=0)),\n",
        "    ])\n",
        "    return pipeline_base"
      ]
    },
    {
      "cell_type": "markdown",
      "metadata": {},
      "source": [
        "## Principal Component Analysis (PCA)"
      ]
    },
    {
      "cell_type": "code",
      "execution_count": 8,
      "metadata": {},
      "outputs": [
        {
          "name": "stdout",
          "output_type": "stream",
          "text": [
            "(8124, 17) \n",
            " <class 'numpy.ndarray'>\n"
          ]
        },
        {
          "name": "stderr",
          "output_type": "stream",
          "text": [
            "/home/gitpod/.pyenv/versions/3.8.12/lib/python3.8/site-packages/feature_engine/selection/smart_correlation_selection.py:271: FutureWarning: Passing a set as an indexer is deprecated and will raise in a future version. Use a list instead.\n",
            "  f = X[feature_group].std().sort_values(ascending=False).index[0]\n",
            "/home/gitpod/.pyenv/versions/3.8.12/lib/python3.8/site-packages/feature_engine/selection/smart_correlation_selection.py:271: FutureWarning: Passing a set as an indexer is deprecated and will raise in a future version. Use a list instead.\n",
            "  f = X[feature_group].std().sort_values(ascending=False).index[0]\n",
            "/home/gitpod/.pyenv/versions/3.8.12/lib/python3.8/site-packages/feature_engine/selection/smart_correlation_selection.py:271: FutureWarning: Passing a set as an indexer is deprecated and will raise in a future version. Use a list instead.\n",
            "  f = X[feature_group].std().sort_values(ascending=False).index[0]\n"
          ]
        }
      ],
      "source": [
        "pipeline_cluster = PipelineCluster()\n",
        "pipeline_pca = Pipeline(pipeline_cluster.steps[:-2])\n",
        "df_pca = pipeline_pca.fit_transform(df, df['edible'])\n",
        "\n",
        "print(df_pca.shape,'\\n', type(df_pca))"
      ]
    },
    {
      "cell_type": "markdown",
      "metadata": {},
      "source": [
        "Apply PCA separately to the scaled data to determine how many principal components account for the variance in the data."
      ]
    },
    {
      "cell_type": "code",
      "execution_count": 9,
      "metadata": {},
      "outputs": [
        {
          "name": "stdout",
          "output_type": "stream",
          "text": [
            "* The 17 components explain 100.0% of the data \n",
            "\n"
          ]
        },
        {
          "data": {
            "image/png": "[encoded data removed]",
            "text/plain": [
              "<Figure size 900x600 with 1 Axes>"
            ]
          },
          "metadata": {},
          "output_type": "display_data"
        }
      ],
      "source": [
        "import numpy as np\n",
        "import matplotlib.pyplot as plt\n",
        "import seaborn as sns\n",
        "sns.set_style(\"whitegrid\")\n",
        "\n",
        "n_components = 17\n",
        "\n",
        "def pca_components_analysis(df_pca, n_components):\n",
        "    \"\"\" performs analysis on the number of components needed to explain the variance in the dataset and visually plots this \"\"\"\n",
        "    pca = PCA(n_components=n_components).fit(df_pca)\n",
        "    x_PCA = pca.transform(df_pca)\n",
        "\n",
        "    ComponentsList = [\"Component \" + str(number) for number in range(n_components)]\n",
        "    dfExplVarRatio = pd.DataFrame(\n",
        "        data=np.round(100 * pca.explained_variance_ratio_, 3),\n",
        "        index=ComponentsList,\n",
        "        columns=['Explained Variance Ratio (%)'])\n",
        "\n",
        "    dfExplVarRatio['Accumulated Variance'] = dfExplVarRatio['Explained Variance Ratio (%)'].cumsum()\n",
        "\n",
        "    PercentageOfDataExplained = dfExplVarRatio['Explained Variance Ratio (%)'].sum()\n",
        "\n",
        "    print(f\"* The {n_components} components explain {round(PercentageOfDataExplained,2)}% of the data \\n\")\n",
        "    plt.figure(figsize=(9, 6))\n",
        "    sns.lineplot(data=dfExplVarRatio,  marker=\"o\")\n",
        "    plt.xticks(rotation=90)\n",
        "    plt.yticks(np.arange(0, 110, 10))\n",
        "    plt.show()\n",
        "\n",
        "\n",
        "pca_components_analysis(df_pca=df_pca, n_components=n_components)"
      ]
    },
    {
      "cell_type": "markdown",
      "metadata": {},
      "source": [
        "In order to reduce the complexity of the model, only the most relevant components which explain the majority of the variance in the dataset will be used. For this, we will look at taking the 6 most important components."
      ]
    },
    {
      "cell_type": "code",
      "execution_count": null,
      "metadata": {},
      "outputs": [],
      "source": [
        "n_components = 6\n",
        "pca_components_analysis(df_pca=df_pca, n_components=n_components)"
      ]
    },
    {
      "cell_type": "markdown",
      "metadata": {},
      "source": [
        "Will set `n_components` argument of PCA to 6. "
      ]
    },
    {
      "cell_type": "code",
      "execution_count": null,
      "metadata": {},
      "outputs": [],
      "source": [
        "def PipelineCluster():\n",
        "    \"\"\" Creates a pipeline for a k-means clustering model \"\"\"\n",
        "    pipeline_base = Pipeline([\n",
        "        (\"TargetEncoder\", TargetEncoder()),\n",
        "        (\"SmartCorrelatedSelection\", SmartCorrelatedSelection(variables=None, method=\"spearman\", threshold=0.6, selection_method=\"variance\")),\n",
        "        (\"scaler\", StandardScaler()),\n",
        "        (\"PCA\", PCA(n_components=6, random_state=0)),\n",
        "        (\"model\", KMeans(n_clusters=50, random_state=0)),\n",
        "    ])\n",
        "    return pipeline_base\n",
        "\n",
        "\n",
        "PipelineCluster()"
      ]
    },
    {
      "cell_type": "markdown",
      "metadata": {},
      "source": [
        "## Elbow Method and Silhouette Score"
      ]
    },
    {
      "cell_type": "markdown",
      "metadata": {},
      "source": [
        "Initialize the new version of the pipeline, and then fit and transform the data to the feature engineering and PCA steps."
      ]
    },
    {
      "cell_type": "code",
      "execution_count": null,
      "metadata": {},
      "outputs": [],
      "source": [
        "pipeline_cluster = PipelineCluster()\n",
        "pipeline_analysis = Pipeline(pipeline_cluster.steps[:-1])\n",
        "df_analysis = pipeline_analysis.fit_transform(df, df['edible'])\n",
        "\n",
        "print(df_analysis.shape,'\\n', type(df_analysis))"
      ]
    },
    {
      "cell_type": "markdown",
      "metadata": {},
      "source": [
        "Will perform the elbow method to determine the best value of k for the k-means clustering."
      ]
    },
    {
      "cell_type": "code",
      "execution_count": null,
      "metadata": {},
      "outputs": [],
      "source": [
        "from yellowbrick.cluster import KElbowVisualizer\n",
        "\n",
        "visualizer = KElbowVisualizer(KMeans(random_state=0), k=(1,14)) \n",
        "visualizer.fit(df_analysis) \n",
        "visualizer.show() \n",
        "plt.show()"
      ]
    },
    {
      "cell_type": "markdown",
      "metadata": {},
      "source": [
        "The elbow appears at k=6. We will now visualize the change in silhouette score for differing values of k distributed around this value."
      ]
    },
    {
      "cell_type": "code",
      "execution_count": null,
      "metadata": {},
      "outputs": [],
      "source": [
        "from yellowbrick.cluster import SilhouetteVisualizer\n",
        "\n",
        "n_cluster_start, n_cluster_stop = 2, 11\n",
        "\n",
        "print(\"=== Average Silhouette Score for different number of clusters ===\")\n",
        "visualizer = KElbowVisualizer(KMeans(random_state=0), k=(n_cluster_start, n_cluster_stop), metric='silhouette')\n",
        "visualizer.fit(df_analysis)\n",
        "visualizer.show()\n",
        "plt.show()\n",
        "print(\"\\n\")\n",
        "\n",
        "\n",
        "for n_clusters in np.arange(start=n_cluster_start, stop=n_cluster_stop):\n",
        "    print(f\"=== Silhouette plot for {n_clusters} Clusters ===\")\n",
        "    visualizer = SilhouetteVisualizer(estimator=KMeans(n_clusters=n_clusters, random_state=0), colors='yellowbrick')\n",
        "    visualizer.fit(df_analysis)\n",
        "    visualizer.show()\n",
        "    plt.show()\n",
        "    print(\"\\n\")"
      ]
    },
    {
      "cell_type": "markdown",
      "metadata": {},
      "source": [
        "The elbow on the average silhouette score plot is at k=7. To optimize for both average distortion store and average silhouette score, we will choose 7 clusters. "
      ]
    },
    {
      "cell_type": "markdown",
      "metadata": {},
      "source": [
        "## Fit Cluster Pipeline\n"
      ]
    },
    {
      "cell_type": "markdown",
      "metadata": {},
      "source": [
        "Define cluster pipeline based on findings of above sections"
      ]
    },
    {
      "cell_type": "code",
      "execution_count": 10,
      "metadata": {},
      "outputs": [
        {
          "data": {
            "text/plain": [
              "Pipeline(steps=[('TargetEncoder', TargetEncoder()),\n",
              "                ('SmartCorrelatedSelection',\n",
              "                 SmartCorrelatedSelection(method='spearman',\n",
              "                                          selection_method='variance',\n",
              "                                          threshold=0.6)),\n",
              "                ('scaler', StandardScaler()),\n",
              "                ('PCA', PCA(n_components=6, random_state=0)),\n",
              "                ('model', KMeans(n_clusters=7, random_state=0))])"
            ]
          },
          "execution_count": 10,
          "metadata": {},
          "output_type": "execute_result"
        }
      ],
      "source": [
        "def PipelineCluster():\n",
        "    \"\"\" Creates a pipeline for a k-means clustering model \"\"\"\n",
        "    pipeline_base = Pipeline([\n",
        "        (\"TargetEncoder\", TargetEncoder()),\n",
        "        (\"SmartCorrelatedSelection\", SmartCorrelatedSelection(variables=None, method=\"spearman\", threshold=0.6, selection_method=\"variance\")),\n",
        "        (\"scaler\", StandardScaler()),\n",
        "        (\"PCA\", PCA(n_components=6, random_state=0)),\n",
        "        (\"model\", KMeans(n_clusters=7, random_state=0))])\n",
        "    return pipeline_base\n",
        "\n",
        "\n",
        "PipelineCluster()"
      ]
    },
    {
      "cell_type": "markdown",
      "metadata": {},
      "source": [
        "Copy of data for training cluster pipeline"
      ]
    },
    {
      "cell_type": "code",
      "execution_count": 11,
      "metadata": {},
      "outputs": [
        {
          "name": "stdout",
          "output_type": "stream",
          "text": [
            "(8124, 23)\n"
          ]
        },
        {
          "data": {
            "text/html": [
              "<div>\n",
              "<style scoped>\n",
              "    .dataframe tbody tr th:only-of-type {\n",
              "        vertical-align: middle;\n",
              "    }\n",
              "\n",
              "    .dataframe tbody tr th {\n",
              "        vertical-align: top;\n",
              "    }\n",
              "\n",
              "    .dataframe thead th {\n",
              "        text-align: right;\n",
              "    }\n",
              "</style>\n",
              "<table border=\"1\" class=\"dataframe\">\n",
              "  <thead>\n",
              "    <tr style=\"text-align: right;\">\n",
              "      <th></th>\n",
              "      <th>edible</th>\n",
              "      <th>cap-shape</th>\n",
              "      <th>cap-surface</th>\n",
              "      <th>cap-color</th>\n",
              "      <th>bruises</th>\n",
              "      <th>odor</th>\n",
              "      <th>gill-attachment</th>\n",
              "      <th>gill-spacing</th>\n",
              "      <th>gill-size</th>\n",
              "      <th>gill-color</th>\n",
              "      <th>...</th>\n",
              "      <th>stalk-surface-below-ring</th>\n",
              "      <th>stalk-color-above-ring</th>\n",
              "      <th>stalk-color-below-ring</th>\n",
              "      <th>veil-type</th>\n",
              "      <th>veil-color</th>\n",
              "      <th>ring-number</th>\n",
              "      <th>ring-type</th>\n",
              "      <th>spore-print-color</th>\n",
              "      <th>population</th>\n",
              "      <th>habitat</th>\n",
              "    </tr>\n",
              "  </thead>\n",
              "  <tbody>\n",
              "    <tr>\n",
              "      <th>0</th>\n",
              "      <td>0</td>\n",
              "      <td>convex</td>\n",
              "      <td>smooth</td>\n",
              "      <td>brown</td>\n",
              "      <td>bruises</td>\n",
              "      <td>pungent</td>\n",
              "      <td>free</td>\n",
              "      <td>close</td>\n",
              "      <td>narrow</td>\n",
              "      <td>black</td>\n",
              "      <td>...</td>\n",
              "      <td>smooth</td>\n",
              "      <td>white</td>\n",
              "      <td>white</td>\n",
              "      <td>partial</td>\n",
              "      <td>white</td>\n",
              "      <td>one</td>\n",
              "      <td>pendant</td>\n",
              "      <td>black</td>\n",
              "      <td>scattered</td>\n",
              "      <td>urban</td>\n",
              "    </tr>\n",
              "    <tr>\n",
              "      <th>1</th>\n",
              "      <td>1</td>\n",
              "      <td>convex</td>\n",
              "      <td>smooth</td>\n",
              "      <td>yellow</td>\n",
              "      <td>bruises</td>\n",
              "      <td>almond</td>\n",
              "      <td>free</td>\n",
              "      <td>close</td>\n",
              "      <td>broad</td>\n",
              "      <td>black</td>\n",
              "      <td>...</td>\n",
              "      <td>smooth</td>\n",
              "      <td>white</td>\n",
              "      <td>white</td>\n",
              "      <td>partial</td>\n",
              "      <td>white</td>\n",
              "      <td>one</td>\n",
              "      <td>pendant</td>\n",
              "      <td>brown</td>\n",
              "      <td>numerous</td>\n",
              "      <td>grasses</td>\n",
              "    </tr>\n",
              "    <tr>\n",
              "      <th>2</th>\n",
              "      <td>1</td>\n",
              "      <td>bell</td>\n",
              "      <td>smooth</td>\n",
              "      <td>white</td>\n",
              "      <td>bruises</td>\n",
              "      <td>anise</td>\n",
              "      <td>free</td>\n",
              "      <td>close</td>\n",
              "      <td>broad</td>\n",
              "      <td>brown</td>\n",
              "      <td>...</td>\n",
              "      <td>smooth</td>\n",
              "      <td>white</td>\n",
              "      <td>white</td>\n",
              "      <td>partial</td>\n",
              "      <td>white</td>\n",
              "      <td>one</td>\n",
              "      <td>pendant</td>\n",
              "      <td>brown</td>\n",
              "      <td>numerous</td>\n",
              "      <td>meadows</td>\n",
              "    </tr>\n",
              "  </tbody>\n",
              "</table>\n",
              "<p>3 rows × 23 columns</p>\n",
              "</div>"
            ],
            "text/plain": [
              "   edible cap-shape cap-surface cap-color  bruises     odor gill-attachment  \\\n",
              "0       0    convex      smooth     brown  bruises  pungent            free   \n",
              "1       1    convex      smooth    yellow  bruises   almond            free   \n",
              "2       1      bell      smooth     white  bruises    anise            free   \n",
              "\n",
              "  gill-spacing gill-size gill-color  ... stalk-surface-below-ring  \\\n",
              "0        close    narrow      black  ...                   smooth   \n",
              "1        close     broad      black  ...                   smooth   \n",
              "2        close     broad      brown  ...                   smooth   \n",
              "\n",
              "  stalk-color-above-ring stalk-color-below-ring veil-type veil-color  \\\n",
              "0                  white                  white   partial      white   \n",
              "1                  white                  white   partial      white   \n",
              "2                  white                  white   partial      white   \n",
              "\n",
              "  ring-number ring-type spore-print-color population  habitat  \n",
              "0         one   pendant             black  scattered    urban  \n",
              "1         one   pendant             brown   numerous  grasses  \n",
              "2         one   pendant             brown   numerous  meadows  \n",
              "\n",
              "[3 rows x 23 columns]"
            ]
          },
          "execution_count": 11,
          "metadata": {},
          "output_type": "execute_result"
        }
      ],
      "source": [
        "X = df.copy()\n",
        "print(X.shape)\n",
        "X.head(3)"
      ]
    },
    {
      "cell_type": "markdown",
      "metadata": {},
      "source": [
        "Fit Cluster pipeline to data"
      ]
    },
    {
      "cell_type": "code",
      "execution_count": 12,
      "metadata": {},
      "outputs": [
        {
          "name": "stderr",
          "output_type": "stream",
          "text": [
            "/home/gitpod/.pyenv/versions/3.8.12/lib/python3.8/site-packages/feature_engine/selection/smart_correlation_selection.py:271: FutureWarning: Passing a set as an indexer is deprecated and will raise in a future version. Use a list instead.\n",
            "  f = X[feature_group].std().sort_values(ascending=False).index[0]\n",
            "/home/gitpod/.pyenv/versions/3.8.12/lib/python3.8/site-packages/feature_engine/selection/smart_correlation_selection.py:271: FutureWarning: Passing a set as an indexer is deprecated and will raise in a future version. Use a list instead.\n",
            "  f = X[feature_group].std().sort_values(ascending=False).index[0]\n",
            "/home/gitpod/.pyenv/versions/3.8.12/lib/python3.8/site-packages/feature_engine/selection/smart_correlation_selection.py:271: FutureWarning: Passing a set as an indexer is deprecated and will raise in a future version. Use a list instead.\n",
            "  f = X[feature_group].std().sort_values(ascending=False).index[0]\n"
          ]
        },
        {
          "data": {
            "text/plain": [
              "Pipeline(steps=[('TargetEncoder',\n",
              "                 TargetEncoder(cols=['cap-shape', 'cap-surface', 'cap-color',\n",
              "                                     'bruises', 'odor', 'gill-attachment',\n",
              "                                     'gill-spacing', 'gill-size', 'gill-color',\n",
              "                                     'stalk-shape', 'stalk-root',\n",
              "                                     'stalk-surface-above-ring',\n",
              "                                     'stalk-surface-below-ring',\n",
              "                                     'stalk-color-above-ring',\n",
              "                                     'stalk-color-below-ring', 'veil-type',\n",
              "                                     'veil-color', 'ring-number', 'ring-type',\n",
              "                                     's...\n",
              "                                                     'gill-size', 'gill-color',\n",
              "                                                     'stalk-shape',\n",
              "                                                     'stalk-root',\n",
              "                                                     'stalk-surface-above-ring',\n",
              "                                                     'stalk-surface-below-ring',\n",
              "                                                     'stalk-color-above-ring',\n",
              "                                                     'stalk-color-below-ring',\n",
              "                                                     'veil-type', 'veil-color',\n",
              "                                                     'ring-number', 'ring-type',\n",
              "                                                     'spore-print-color',\n",
              "                                                     'population',\n",
              "                                                     'habitat'])),\n",
              "                ('scaler', StandardScaler()),\n",
              "                ('PCA', PCA(n_components=6, random_state=0)),\n",
              "                ('model', KMeans(n_clusters=7, random_state=0))])"
            ]
          },
          "execution_count": 12,
          "metadata": {},
          "output_type": "execute_result"
        }
      ],
      "source": [
        "pipeline_cluster = PipelineCluster()\n",
        "pipeline_cluster.fit(X, X['edible'])"
      ]
    },
    {
      "cell_type": "markdown",
      "metadata": {},
      "source": [
        "### Add cluster predictions to dataset"
      ]
    },
    {
      "cell_type": "markdown",
      "metadata": {},
      "source": [
        "We add a column `Clusters` from the cluster pipeline predictions to the dataset"
      ]
    },
    {
      "cell_type": "code",
      "execution_count": 13,
      "metadata": {},
      "outputs": [
        {
          "name": "stdout",
          "output_type": "stream",
          "text": [
            "(8124, 24)\n"
          ]
        },
        {
          "data": {
            "text/html": [
              "<div>\n",
              "<style scoped>\n",
              "    .dataframe tbody tr th:only-of-type {\n",
              "        vertical-align: middle;\n",
              "    }\n",
              "\n",
              "    .dataframe tbody tr th {\n",
              "        vertical-align: top;\n",
              "    }\n",
              "\n",
              "    .dataframe thead th {\n",
              "        text-align: right;\n",
              "    }\n",
              "</style>\n",
              "<table border=\"1\" class=\"dataframe\">\n",
              "  <thead>\n",
              "    <tr style=\"text-align: right;\">\n",
              "      <th></th>\n",
              "      <th>edible</th>\n",
              "      <th>cap-shape</th>\n",
              "      <th>cap-surface</th>\n",
              "      <th>cap-color</th>\n",
              "      <th>bruises</th>\n",
              "      <th>odor</th>\n",
              "      <th>gill-attachment</th>\n",
              "      <th>gill-spacing</th>\n",
              "      <th>gill-size</th>\n",
              "      <th>gill-color</th>\n",
              "      <th>...</th>\n",
              "      <th>stalk-color-above-ring</th>\n",
              "      <th>stalk-color-below-ring</th>\n",
              "      <th>veil-type</th>\n",
              "      <th>veil-color</th>\n",
              "      <th>ring-number</th>\n",
              "      <th>ring-type</th>\n",
              "      <th>spore-print-color</th>\n",
              "      <th>population</th>\n",
              "      <th>habitat</th>\n",
              "      <th>Clusters</th>\n",
              "    </tr>\n",
              "  </thead>\n",
              "  <tbody>\n",
              "    <tr>\n",
              "      <th>0</th>\n",
              "      <td>0</td>\n",
              "      <td>convex</td>\n",
              "      <td>smooth</td>\n",
              "      <td>brown</td>\n",
              "      <td>bruises</td>\n",
              "      <td>pungent</td>\n",
              "      <td>free</td>\n",
              "      <td>close</td>\n",
              "      <td>narrow</td>\n",
              "      <td>black</td>\n",
              "      <td>...</td>\n",
              "      <td>white</td>\n",
              "      <td>white</td>\n",
              "      <td>partial</td>\n",
              "      <td>white</td>\n",
              "      <td>one</td>\n",
              "      <td>pendant</td>\n",
              "      <td>black</td>\n",
              "      <td>scattered</td>\n",
              "      <td>urban</td>\n",
              "      <td>2</td>\n",
              "    </tr>\n",
              "    <tr>\n",
              "      <th>1</th>\n",
              "      <td>1</td>\n",
              "      <td>convex</td>\n",
              "      <td>smooth</td>\n",
              "      <td>yellow</td>\n",
              "      <td>bruises</td>\n",
              "      <td>almond</td>\n",
              "      <td>free</td>\n",
              "      <td>close</td>\n",
              "      <td>broad</td>\n",
              "      <td>black</td>\n",
              "      <td>...</td>\n",
              "      <td>white</td>\n",
              "      <td>white</td>\n",
              "      <td>partial</td>\n",
              "      <td>white</td>\n",
              "      <td>one</td>\n",
              "      <td>pendant</td>\n",
              "      <td>brown</td>\n",
              "      <td>numerous</td>\n",
              "      <td>grasses</td>\n",
              "      <td>2</td>\n",
              "    </tr>\n",
              "    <tr>\n",
              "      <th>2</th>\n",
              "      <td>1</td>\n",
              "      <td>bell</td>\n",
              "      <td>smooth</td>\n",
              "      <td>white</td>\n",
              "      <td>bruises</td>\n",
              "      <td>anise</td>\n",
              "      <td>free</td>\n",
              "      <td>close</td>\n",
              "      <td>broad</td>\n",
              "      <td>brown</td>\n",
              "      <td>...</td>\n",
              "      <td>white</td>\n",
              "      <td>white</td>\n",
              "      <td>partial</td>\n",
              "      <td>white</td>\n",
              "      <td>one</td>\n",
              "      <td>pendant</td>\n",
              "      <td>brown</td>\n",
              "      <td>numerous</td>\n",
              "      <td>meadows</td>\n",
              "      <td>2</td>\n",
              "    </tr>\n",
              "  </tbody>\n",
              "</table>\n",
              "<p>3 rows × 24 columns</p>\n",
              "</div>"
            ],
            "text/plain": [
              "   edible cap-shape cap-surface cap-color  bruises     odor gill-attachment  \\\n",
              "0       0    convex      smooth     brown  bruises  pungent            free   \n",
              "1       1    convex      smooth    yellow  bruises   almond            free   \n",
              "2       1      bell      smooth     white  bruises    anise            free   \n",
              "\n",
              "  gill-spacing gill-size gill-color  ... stalk-color-above-ring  \\\n",
              "0        close    narrow      black  ...                  white   \n",
              "1        close     broad      black  ...                  white   \n",
              "2        close     broad      brown  ...                  white   \n",
              "\n",
              "  stalk-color-below-ring veil-type veil-color ring-number ring-type  \\\n",
              "0                  white   partial      white         one   pendant   \n",
              "1                  white   partial      white         one   pendant   \n",
              "2                  white   partial      white         one   pendant   \n",
              "\n",
              "  spore-print-color population  habitat Clusters  \n",
              "0             black  scattered    urban        2  \n",
              "1             brown   numerous  grasses        2  \n",
              "2             brown   numerous  meadows        2  \n",
              "\n",
              "[3 rows x 24 columns]"
            ]
          },
          "execution_count": 13,
          "metadata": {},
          "output_type": "execute_result"
        }
      ],
      "source": [
        "X['Clusters'] = pipeline_cluster['model'].labels_\n",
        "print(X.shape)\n",
        "X.head(3)"
      ]
    },
    {
      "cell_type": "code",
      "execution_count": null,
      "metadata": {},
      "outputs": [],
      "source": [
        "print(f\"* Clusters frequencies \\n{ X['Clusters'].value_counts(normalize=True).to_frame().round(2)} \\n\\n\")\n",
        "X['Clusters'].value_counts().sort_values().plot(kind='bar')\n",
        "plt.show()"
      ]
    },
    {
      "cell_type": "markdown",
      "metadata": {},
      "source": [
        "## Plot Clusters"
      ]
    },
    {
      "cell_type": "code",
      "execution_count": null,
      "metadata": {},
      "outputs": [],
      "source": [
        "import seaborn as sns\n",
        "import matplotlib.pyplot as plt\n",
        "sns.set_style(\"whitegrid\")\n",
        "plt.figure(figsize=(10, 6))\n",
        "sns.scatterplot(x=df_analysis[:, 0], y=df_analysis[:, 1], hue=X['Clusters'], style=X['edible'], palette='Set1', alpha=0.6)\n",
        "plt.scatter(x=pipeline_cluster['model'].cluster_centers_[:, 0], y=pipeline_cluster['model'].cluster_centers_[:, 1], marker=\"x\", s=169, linewidths=3, color=\"black\")\n",
        "plt.xlabel(\"PCA Component 0\")\n",
        "plt.ylabel(\"PCA Component 1\")\n",
        "plt.title(\"PCA Components colored by Clusters\")\n",
        "plt.show()"
      ]
    },
    {
      "cell_type": "markdown",
      "metadata": {},
      "source": [
        "Evaluation: We cross check with metrics defined in the ML business case\n",
        "\n",
        "* A minimum mean silhouette score of 0.5 on the model's clusters\n",
        "\n",
        "Getting mean silhouette score and distortion score for the model"
      ]
    },
    {
      "cell_type": "code",
      "execution_count": null,
      "metadata": {},
      "outputs": [],
      "source": [
        "from sklearn.metrics import silhouette_samples\n",
        "\n",
        "sample_silhouette_values = silhouette_samples(df_analysis, X['Clusters'])\n",
        "num_clusters = 7\n",
        "cluster_labels = pipeline_cluster['model'].labels_\n",
        "\n",
        "means_lst = []\n",
        "for label in range(num_clusters):\n",
        "    means_lst.append(sample_silhouette_values[cluster_labels == label].mean())\n",
        "\n",
        "np.mean(means_lst)"
      ]
    },
    {
      "cell_type": "code",
      "execution_count": null,
      "metadata": {},
      "outputs": [],
      "source": [
        "pipeline_cluster['model'].inertia_"
      ]
    },
    {
      "cell_type": "markdown",
      "metadata": {},
      "source": [
        "It appears from the plot of PCA components, cluster and edibility above that the clustering model is somewhat successful at identifying unique groupings of mushrooms, which appear distinct in the rates of edibility among them. The model also has an average silhouette score of 0.52, which satisfies the business requirement for this model. "
      ]
    },
    {
      "cell_type": "markdown",
      "metadata": {},
      "source": [
        "We save the cluster predictions from this pipeline to use in the future."
      ]
    },
    {
      "cell_type": "code",
      "execution_count": 14,
      "metadata": {},
      "outputs": [
        {
          "data": {
            "text/plain": [
              "0       2\n",
              "1       2\n",
              "2       2\n",
              "3       2\n",
              "4       6\n",
              "       ..\n",
              "8119    1\n",
              "8120    1\n",
              "8121    1\n",
              "8122    4\n",
              "8123    1\n",
              "Name: Clusters, Length: 8124, dtype: int32"
            ]
          },
          "execution_count": 14,
          "metadata": {},
          "output_type": "execute_result"
        }
      ],
      "source": [
        "cluster_predictions_with_all_variables = X['Clusters']\n",
        "cluster_predictions_with_all_variables"
      ]
    },
    {
      "cell_type": "markdown",
      "metadata": {},
      "source": [
        "---"
      ]
    },
    {
      "cell_type": "markdown",
      "metadata": {},
      "source": [
        "# Classify Mushroom Pipeline"
      ]
    },
    {
      "cell_type": "markdown",
      "metadata": {},
      "source": [
        "We copy `X` to a DataFrame `dl_clf`"
      ]
    },
    {
      "cell_type": "code",
      "execution_count": 80,
      "metadata": {},
      "outputs": [
        {
          "name": "stdout",
          "output_type": "stream",
          "text": [
            "(8124, 24)\n"
          ]
        },
        {
          "data": {
            "text/html": [
              "<div>\n",
              "<style scoped>\n",
              "    .dataframe tbody tr th:only-of-type {\n",
              "        vertical-align: middle;\n",
              "    }\n",
              "\n",
              "    .dataframe tbody tr th {\n",
              "        vertical-align: top;\n",
              "    }\n",
              "\n",
              "    .dataframe thead th {\n",
              "        text-align: right;\n",
              "    }\n",
              "</style>\n",
              "<table border=\"1\" class=\"dataframe\">\n",
              "  <thead>\n",
              "    <tr style=\"text-align: right;\">\n",
              "      <th></th>\n",
              "      <th>edible</th>\n",
              "      <th>cap-shape</th>\n",
              "      <th>cap-surface</th>\n",
              "      <th>cap-color</th>\n",
              "      <th>bruises</th>\n",
              "      <th>odor</th>\n",
              "      <th>gill-attachment</th>\n",
              "      <th>gill-spacing</th>\n",
              "      <th>gill-size</th>\n",
              "      <th>gill-color</th>\n",
              "      <th>...</th>\n",
              "      <th>stalk-color-above-ring</th>\n",
              "      <th>stalk-color-below-ring</th>\n",
              "      <th>veil-type</th>\n",
              "      <th>veil-color</th>\n",
              "      <th>ring-number</th>\n",
              "      <th>ring-type</th>\n",
              "      <th>spore-print-color</th>\n",
              "      <th>population</th>\n",
              "      <th>habitat</th>\n",
              "      <th>Clusters</th>\n",
              "    </tr>\n",
              "  </thead>\n",
              "  <tbody>\n",
              "    <tr>\n",
              "      <th>0</th>\n",
              "      <td>0</td>\n",
              "      <td>convex</td>\n",
              "      <td>smooth</td>\n",
              "      <td>brown</td>\n",
              "      <td>bruises</td>\n",
              "      <td>pungent</td>\n",
              "      <td>free</td>\n",
              "      <td>close</td>\n",
              "      <td>narrow</td>\n",
              "      <td>black</td>\n",
              "      <td>...</td>\n",
              "      <td>white</td>\n",
              "      <td>white</td>\n",
              "      <td>partial</td>\n",
              "      <td>white</td>\n",
              "      <td>one</td>\n",
              "      <td>pendant</td>\n",
              "      <td>black</td>\n",
              "      <td>scattered</td>\n",
              "      <td>urban</td>\n",
              "      <td>2</td>\n",
              "    </tr>\n",
              "    <tr>\n",
              "      <th>1</th>\n",
              "      <td>1</td>\n",
              "      <td>convex</td>\n",
              "      <td>smooth</td>\n",
              "      <td>yellow</td>\n",
              "      <td>bruises</td>\n",
              "      <td>almond</td>\n",
              "      <td>free</td>\n",
              "      <td>close</td>\n",
              "      <td>broad</td>\n",
              "      <td>black</td>\n",
              "      <td>...</td>\n",
              "      <td>white</td>\n",
              "      <td>white</td>\n",
              "      <td>partial</td>\n",
              "      <td>white</td>\n",
              "      <td>one</td>\n",
              "      <td>pendant</td>\n",
              "      <td>brown</td>\n",
              "      <td>numerous</td>\n",
              "      <td>grasses</td>\n",
              "      <td>2</td>\n",
              "    </tr>\n",
              "    <tr>\n",
              "      <th>2</th>\n",
              "      <td>1</td>\n",
              "      <td>bell</td>\n",
              "      <td>smooth</td>\n",
              "      <td>white</td>\n",
              "      <td>bruises</td>\n",
              "      <td>anise</td>\n",
              "      <td>free</td>\n",
              "      <td>close</td>\n",
              "      <td>broad</td>\n",
              "      <td>brown</td>\n",
              "      <td>...</td>\n",
              "      <td>white</td>\n",
              "      <td>white</td>\n",
              "      <td>partial</td>\n",
              "      <td>white</td>\n",
              "      <td>one</td>\n",
              "      <td>pendant</td>\n",
              "      <td>brown</td>\n",
              "      <td>numerous</td>\n",
              "      <td>meadows</td>\n",
              "      <td>2</td>\n",
              "    </tr>\n",
              "  </tbody>\n",
              "</table>\n",
              "<p>3 rows × 24 columns</p>\n",
              "</div>"
            ],
            "text/plain": [
              "   edible cap-shape cap-surface cap-color  bruises     odor gill-attachment  \\\n",
              "0       0    convex      smooth     brown  bruises  pungent            free   \n",
              "1       1    convex      smooth    yellow  bruises   almond            free   \n",
              "2       1      bell      smooth     white  bruises    anise            free   \n",
              "\n",
              "  gill-spacing gill-size gill-color  ... stalk-color-above-ring  \\\n",
              "0        close    narrow      black  ...                  white   \n",
              "1        close     broad      black  ...                  white   \n",
              "2        close     broad      brown  ...                  white   \n",
              "\n",
              "  stalk-color-below-ring veil-type veil-color ring-number ring-type  \\\n",
              "0                  white   partial      white         one   pendant   \n",
              "1                  white   partial      white         one   pendant   \n",
              "2                  white   partial      white         one   pendant   \n",
              "\n",
              "  spore-print-color population  habitat Clusters  \n",
              "0             black  scattered    urban        2  \n",
              "1             brown   numerous  grasses        2  \n",
              "2             brown   numerous  meadows        2  \n",
              "\n",
              "[3 rows x 24 columns]"
            ]
          },
          "execution_count": 80,
          "metadata": {},
          "output_type": "execute_result"
        }
      ],
      "source": [
        "df_clf = X.copy()\n",
        "print(df_clf.shape)\n",
        "df_clf.head(3)"
      ]
    },
    {
      "cell_type": "markdown",
      "metadata": {},
      "source": [
        "Split Train and Test sets"
      ]
    },
    {
      "cell_type": "code",
      "execution_count": 81,
      "metadata": {},
      "outputs": [
        {
          "name": "stdout",
          "output_type": "stream",
          "text": [
            "(6499, 22) (1625, 22)\n"
          ]
        }
      ],
      "source": [
        "from sklearn.model_selection import train_test_split\n",
        "X_train, X_test, y_train, y_test = train_test_split(\n",
        "    df_clf.drop(['Clusters', 'edible'], axis=1),\n",
        "    df_clf['Clusters'],\n",
        "    test_size=0.2,\n",
        "    random_state=0\n",
        ")\n",
        "\n",
        "print(X_train.shape, X_test.shape)"
      ]
    },
    {
      "cell_type": "markdown",
      "metadata": {},
      "source": [
        "## Create Pipeline"
      ]
    },
    {
      "cell_type": "markdown",
      "metadata": {},
      "source": [
        "Create classifier pipeline steps. As with the Predict Edible pipeline, this pipeline will use Target Encoding, Smart Correlated Selection, Standard Scaling, Feature Selection, and then will be fitted using an Adaptive Boost Classifier algorithm with the same optimal hyperparameters."
      ]
    },
    {
      "cell_type": "code",
      "execution_count": 86,
      "metadata": {},
      "outputs": [],
      "source": [
        "# Feat Selection\n",
        "from sklearn.feature_selection import SelectFromModel\n",
        "\n",
        "# ML algorithm\n",
        "from sklearn.linear_model import LogisticRegression\n",
        "from sklearn.tree import DecisionTreeClassifier\n",
        "from sklearn.ensemble import RandomForestClassifier\n",
        "from sklearn.ensemble import GradientBoostingClassifier\n",
        "from sklearn.ensemble import ExtraTreesClassifier\n",
        "from sklearn.ensemble import AdaBoostClassifier\n",
        "from xgboost import XGBClassifier\n",
        "\n",
        "\n",
        "def PipelineClf2ExplainClusters():\n",
        "    \"\"\" generates clf pipeline for classifying mushrooms to cluster \"\"\"\n",
        "    pipeline_base = Pipeline([\n",
        "        (\"TargetCategoricalEncoder\", TargetEncoder()),\n",
        "        (\"SmartCorrelatedSelection\", SmartCorrelatedSelection(variables=None, method=\"spearman\", threshold=0.6, selection_method=\"variance\")),\n",
        "        (\"scaler\", StandardScaler()),\n",
        "        (\"feat_selection\", SelectFromModel(AdaBoostClassifier(base_estimator=DecisionTreeClassifier(max_depth=3), learning_rate=0.01, n_estimators=500))),\n",
        "        (\"model\", AdaBoostClassifier(base_estimator=DecisionTreeClassifier(max_depth=3), learning_rate=0.01, n_estimators=500))\n",
        "    ])\n",
        "    return pipeline_base"
      ]
    },
    {
      "cell_type": "markdown",
      "metadata": {},
      "source": [
        "## Fit Data"
      ]
    },
    {
      "cell_type": "markdown",
      "metadata": {},
      "source": [
        "Fit classifier to the training data"
      ]
    },
    {
      "cell_type": "code",
      "execution_count": 87,
      "metadata": {},
      "outputs": [
        {
          "name": "stderr",
          "output_type": "stream",
          "text": [
            "/home/gitpod/.pyenv/versions/3.8.12/lib/python3.8/site-packages/feature_engine/selection/smart_correlation_selection.py:271: FutureWarning: Passing a set as an indexer is deprecated and will raise in a future version. Use a list instead.\n",
            "  f = X[feature_group].std().sort_values(ascending=False).index[0]\n",
            "/home/gitpod/.pyenv/versions/3.8.12/lib/python3.8/site-packages/feature_engine/selection/smart_correlation_selection.py:271: FutureWarning: Passing a set as an indexer is deprecated and will raise in a future version. Use a list instead.\n",
            "  f = X[feature_group].std().sort_values(ascending=False).index[0]\n"
          ]
        },
        {
          "data": {
            "text/plain": [
              "Pipeline(steps=[('TargetCategoricalEncoder',\n",
              "                 TargetEncoder(cols=['cap-shape', 'cap-surface', 'cap-color',\n",
              "                                     'bruises', 'odor', 'gill-attachment',\n",
              "                                     'gill-spacing', 'gill-size', 'gill-color',\n",
              "                                     'stalk-shape', 'stalk-root',\n",
              "                                     'stalk-surface-above-ring',\n",
              "                                     'stalk-surface-below-ring',\n",
              "                                     'stalk-color-above-ring',\n",
              "                                     'stalk-color-below-ring', 'veil-type',\n",
              "                                     'veil-color', 'ring-number', 'ri...\n",
              "                                                     'ring-number', 'ring-type',\n",
              "                                                     'spore-print-color',\n",
              "                                                     'population',\n",
              "                                                     'habitat'])),\n",
              "                ('scaler', StandardScaler()),\n",
              "                ('feat_selection',\n",
              "                 SelectFromModel(estimator=AdaBoostClassifier(base_estimator=DecisionTreeClassifier(max_depth=3),\n",
              "                                                              learning_rate=0.01,\n",
              "                                                              n_estimators=500))),\n",
              "                ('model',\n",
              "                 AdaBoostClassifier(base_estimator=DecisionTreeClassifier(max_depth=3),\n",
              "                                    learning_rate=0.01, n_estimators=500))])"
            ]
          },
          "execution_count": 87,
          "metadata": {},
          "output_type": "execute_result"
        }
      ],
      "source": [
        "pipeline_clf_cluster = PipelineClf2ExplainClusters()\n",
        "pipeline_clf_cluster.fit(X_train, y_train)"
      ]
    },
    {
      "cell_type": "markdown",
      "metadata": {},
      "source": [
        "### Evaluate classifier performance on Train and Test Sets"
      ]
    },
    {
      "cell_type": "code",
      "execution_count": 88,
      "metadata": {},
      "outputs": [
        {
          "name": "stdout",
          "output_type": "stream",
          "text": [
            "              precision    recall  f1-score   support\n",
            "\n",
            "           0       0.98      0.96      0.97      1677\n",
            "           1       1.00      1.00      1.00       139\n",
            "           2       0.94      0.99      0.97       792\n",
            "           3       1.00      0.98      0.99      1079\n",
            "           4       0.92      1.00      0.96      1496\n",
            "           5       0.98      0.94      0.96       480\n",
            "           6       0.99      0.88      0.93       836\n",
            "\n",
            "    accuracy                           0.97      6499\n",
            "   macro avg       0.97      0.97      0.97      6499\n",
            "weighted avg       0.97      0.97      0.97      6499\n",
            "\n"
          ]
        }
      ],
      "source": [
        "from sklearn.metrics import classification_report\n",
        "print(classification_report(y_train, pipeline_clf_cluster.predict(X_train)))"
      ]
    },
    {
      "cell_type": "markdown",
      "metadata": {},
      "source": [
        "Evaluation: We cross check with metrics defined in the ML business case\n",
        "\n",
        "* A minimum average recall of 0.7 in predicting the model's cluster"
      ]
    },
    {
      "cell_type": "code",
      "execution_count": 89,
      "metadata": {},
      "outputs": [
        {
          "name": "stdout",
          "output_type": "stream",
          "text": [
            "              precision    recall  f1-score   support\n",
            "\n",
            "           0       0.98      0.96      0.97       427\n",
            "           1       1.00      1.00      1.00        53\n",
            "           2       0.95      1.00      0.97       204\n",
            "           3       1.00      0.98      0.99       277\n",
            "           4       0.91      1.00      0.95       364\n",
            "           5       0.99      0.93      0.96       112\n",
            "           6       0.99      0.85      0.92       188\n",
            "\n",
            "    accuracy                           0.96      1625\n",
            "   macro avg       0.97      0.96      0.97      1625\n",
            "weighted avg       0.97      0.96      0.96      1625\n",
            "\n"
          ]
        }
      ],
      "source": [
        "print(classification_report(y_test, pipeline_clf_cluster.predict(X_test)))"
      ]
    },
    {
      "cell_type": "markdown",
      "metadata": {},
      "source": [
        "The model performs to the required level of precision on the test set, and can therefore be said to be usable for the business case. "
      ]
    },
    {
      "cell_type": "markdown",
      "metadata": {},
      "source": [
        "### Most Important Features that Define a Cluster"
      ]
    },
    {
      "cell_type": "markdown",
      "metadata": {},
      "source": [
        "The variables that were selected for in the Feature Selection step of the pipeline are picked out and plotted in terms of feature importance in the model."
      ]
    },
    {
      "cell_type": "code",
      "execution_count": 91,
      "metadata": {},
      "outputs": [
        {
          "name": "stdout",
          "output_type": "stream",
          "text": [
            "* These are the 7 most important features in descending order. The model was trained on them: \n",
            "['population', 'gill-size', 'stalk-root', 'gill-spacing', 'stalk-color-below-ring', 'ring-type', 'habitat'] \n",
            "\n"
          ]
        },
        {
          "data": {
            "image/png": "[encoded data removed]",
            "text/plain": [
              "<Figure size 640x480 with 1 Axes>"
            ]
          },
          "metadata": {},
          "output_type": "display_data"
        }
      ],
      "source": [
        "data_cleaning_feat_eng_steps = 2\n",
        "columns_after_data_cleaning_feat_eng = (Pipeline(pipeline_clf_cluster.steps[:data_cleaning_feat_eng_steps]).transform(X_train).columns)\n",
        "\n",
        "best_features = columns_after_data_cleaning_feat_eng[pipeline_clf_cluster['feat_selection'].get_support()].to_list()\n",
        "\n",
        "# create DataFrame to display feature importance\n",
        "df_feature_importance = (pd.DataFrame(data={\n",
        "    'Feature': columns_after_data_cleaning_feat_eng[pipeline_clf_cluster['feat_selection'].get_support()],\n",
        "    'Importance': pipeline_clf_cluster['model'].feature_importances_})\n",
        "    .sort_values(by='Importance', ascending=False))\n",
        "\n",
        "# reassign best features in importance order\n",
        "best_features = df_feature_importance['Feature'].to_list()\n",
        "\n",
        "# Most important features statement and plot\n",
        "print(f\"* These are the {len(best_features)} most important features in descending order. \"\n",
        "      f\"The model was trained on them: \\n{best_features} \\n\")\n",
        "df_feature_importance.plot(kind='bar', x='Feature', y='Importance')\n",
        "plt.show()"
      ]
    },
    {
      "cell_type": "markdown",
      "metadata": {},
      "source": [
        "We will store the best_features to use at a later stage."
      ]
    },
    {
      "cell_type": "code",
      "execution_count": 92,
      "metadata": {},
      "outputs": [
        {
          "data": {
            "text/plain": [
              "['population',\n",
              " 'gill-size',\n",
              " 'stalk-root',\n",
              " 'gill-spacing',\n",
              " 'stalk-color-below-ring',\n",
              " 'ring-type',\n",
              " 'habitat']"
            ]
          },
          "execution_count": 92,
          "metadata": {},
          "output_type": "execute_result"
        }
      ],
      "source": [
        "best_features_pipeline_all_variables = best_features\n",
        "best_features_pipeline_all_variables"
      ]
    },
    {
      "cell_type": "markdown",
      "metadata": {},
      "source": [
        "---"
      ]
    },
    {
      "cell_type": "markdown",
      "metadata": {},
      "source": [
        "# Cluster Analysis"
      ]
    },
    {
      "cell_type": "markdown",
      "metadata": {},
      "source": [
        "Load function that plots a table with description for all clusters"
      ]
    },
    {
      "cell_type": "code",
      "execution_count": 94,
      "metadata": {},
      "outputs": [],
      "source": [
        "def DescriptionAllClusters(df, decimal_points=3):\n",
        "    \"\"\"  provides a dataframe describing the distribution of clusters in the dataset \"\"\"\n",
        "    DescriptionAllClusters = pd.DataFrame(columns=df.drop(['Clusters'], axis=1).columns)\n",
        "\n",
        "    for cluster in df.sort_values(by='Clusters')['Clusters'].unique():\n",
        "\n",
        "        EDA_ClusterSubset = df.query(f\"Clusters == {cluster}\").drop(['Clusters'], axis=1)\n",
        "        ClusterDescription = Clusters_IndividualDescription(EDA_ClusterSubset, cluster, decimal_points)\n",
        "        DescriptionAllClusters = DescriptionAllClusters.append(ClusterDescription)\n",
        "\n",
        "    DescriptionAllClusters.set_index(['Cluster'], inplace=True)\n",
        "    return DescriptionAllClusters\n",
        "\n",
        "\n",
        "def Clusters_IndividualDescription(EDA_Cluster, cluster, decimal_points):\n",
        "    \"\"\" Produces statistical information on the distribution of variable categories in each cluster \"\"\"\n",
        "    ClustersDescription = pd.DataFrame(columns=EDA_Cluster.columns)\n",
        "\n",
        "    for col in EDA_Cluster.columns:\n",
        "        try:\n",
        "            top_frequencies = EDA_Cluster.dropna(subset=[col])[[col]].value_counts(normalize=True).nlargest(n=3)\n",
        "            Description = ''\n",
        "\n",
        "            for x in range(len(top_frequencies)):\n",
        "                freq = top_frequencies.iloc[x]\n",
        "                category = top_frequencies.index[x][0]\n",
        "                CategoryPercentage = int(round(freq*100, 0))\n",
        "                statement = f\"'{category}': {CategoryPercentage}% , \"\n",
        "                Description = Description + statement\n",
        "\n",
        "            ClustersDescription.at[0, col] = Description[:-2]\n",
        "            \n",
        "        except Exception as e:\n",
        "            ClustersDescription.at[0, col] = 'Not available'\n",
        "            print(f\"** Error Exception: {e} - cluster {cluster}, variable {col}\")\n",
        "\n",
        "    ClustersDescription['Cluster'] = str(cluster)\n",
        "\n",
        "    return ClustersDescription"
      ]
    },
    {
      "cell_type": "markdown",
      "metadata": {},
      "source": [
        "Load a custom function to plot cluster distribution per Variable (absolute and relative levels)"
      ]
    },
    {
      "cell_type": "code",
      "execution_count": 95,
      "metadata": {},
      "outputs": [],
      "source": [
        "import plotly.express as px\n",
        "\n",
        "\n",
        "def cluster_distribution_per_variable(df, target):\n",
        "    \"\"\"\n",
        "    The data should have 2 variables, the cluster predictions and\n",
        "    the variable you want to analyze with, in this case we call \"target\".\n",
        "    We use plotly express to create 2 plots:\n",
        "    Cluster distribution across the target.\n",
        "    Relative presence of the target level in each cluster.\n",
        "    \"\"\"\n",
        "    df_bar_plot = df.value_counts([\"Clusters\", target]).reset_index()\n",
        "    df_bar_plot.columns = ['Clusters', target, 'Count']\n",
        "    df_bar_plot[target] = df_bar_plot[target].astype('object')\n",
        "\n",
        "    print(f\"Clusters distribution across {target} levels\")\n",
        "    fig = px.bar(df_bar_plot, x='Clusters', y='Count', color=target, width=800, height=500)\n",
        "    fig.update_layout(xaxis=dict(tickmode='array', tickvals=df['Clusters'].unique()))\n",
        "    fig.show()\n",
        "\n",
        "    df_relative = (df\n",
        "                   .groupby([\"Clusters\", target])\n",
        "                   .size()\n",
        "                   .groupby(level=0)\n",
        "                   .apply(lambda x:  100*x / x.sum())\n",
        "                   .reset_index()\n",
        "                   .sort_values(by=['Clusters'])\n",
        "                   )\n",
        "    df_relative.columns = ['Clusters', target, 'Relative Percentage (%)']\n",
        "\n",
        "    print(f\"Relative Percentage (%) of {target} in each cluster\")\n",
        "    fig = px.line(df_relative, x='Clusters', y='Relative Percentage (%)', color=target, width=800, height=500)\n",
        "    fig.update_layout(xaxis=dict(tickmode='array', tickvals=df['Clusters'].unique()))\n",
        "    fig.update_traces(mode='markers+lines')\n",
        "    fig.show()"
      ]
    },
    {
      "cell_type": "markdown",
      "metadata": {},
      "source": [
        "Create a DataFrame that contains best features and Clusters Predictions since we want to analyse the patterns for each cluster."
      ]
    },
    {
      "cell_type": "code",
      "execution_count": 96,
      "metadata": {},
      "outputs": [
        {
          "name": "stdout",
          "output_type": "stream",
          "text": [
            "(8124, 8)\n"
          ]
        },
        {
          "data": {
            "text/html": [
              "<div>\n",
              "<style scoped>\n",
              "    .dataframe tbody tr th:only-of-type {\n",
              "        vertical-align: middle;\n",
              "    }\n",
              "\n",
              "    .dataframe tbody tr th {\n",
              "        vertical-align: top;\n",
              "    }\n",
              "\n",
              "    .dataframe thead th {\n",
              "        text-align: right;\n",
              "    }\n",
              "</style>\n",
              "<table border=\"1\" class=\"dataframe\">\n",
              "  <thead>\n",
              "    <tr style=\"text-align: right;\">\n",
              "      <th></th>\n",
              "      <th>population</th>\n",
              "      <th>gill-size</th>\n",
              "      <th>stalk-root</th>\n",
              "      <th>gill-spacing</th>\n",
              "      <th>stalk-color-below-ring</th>\n",
              "      <th>ring-type</th>\n",
              "      <th>habitat</th>\n",
              "      <th>Clusters</th>\n",
              "    </tr>\n",
              "  </thead>\n",
              "  <tbody>\n",
              "    <tr>\n",
              "      <th>0</th>\n",
              "      <td>scattered</td>\n",
              "      <td>narrow</td>\n",
              "      <td>equal</td>\n",
              "      <td>close</td>\n",
              "      <td>white</td>\n",
              "      <td>pendant</td>\n",
              "      <td>urban</td>\n",
              "      <td>2</td>\n",
              "    </tr>\n",
              "    <tr>\n",
              "      <th>1</th>\n",
              "      <td>numerous</td>\n",
              "      <td>broad</td>\n",
              "      <td>club</td>\n",
              "      <td>close</td>\n",
              "      <td>white</td>\n",
              "      <td>pendant</td>\n",
              "      <td>grasses</td>\n",
              "      <td>2</td>\n",
              "    </tr>\n",
              "    <tr>\n",
              "      <th>2</th>\n",
              "      <td>numerous</td>\n",
              "      <td>broad</td>\n",
              "      <td>club</td>\n",
              "      <td>close</td>\n",
              "      <td>white</td>\n",
              "      <td>pendant</td>\n",
              "      <td>meadows</td>\n",
              "      <td>2</td>\n",
              "    </tr>\n",
              "  </tbody>\n",
              "</table>\n",
              "</div>"
            ],
            "text/plain": [
              "  population gill-size stalk-root gill-spacing stalk-color-below-ring  \\\n",
              "0  scattered    narrow      equal        close                  white   \n",
              "1   numerous     broad       club        close                  white   \n",
              "2   numerous     broad       club        close                  white   \n",
              "\n",
              "  ring-type  habitat  Clusters  \n",
              "0   pendant    urban         2  \n",
              "1   pendant  grasses         2  \n",
              "2   pendant  meadows         2  "
            ]
          },
          "execution_count": 96,
          "metadata": {},
          "output_type": "execute_result"
        }
      ],
      "source": [
        "df_cluster_profile = df_clf.copy()\n",
        "df_cluster_profile = df_cluster_profile.filter(items=best_features + ['Clusters'], axis=1)\n",
        "print(df_cluster_profile.shape)\n",
        "df_cluster_profile.head(3)"
      ]
    },
    {
      "cell_type": "markdown",
      "metadata": {},
      "source": [
        "We want also to analyse edibility levels."
      ]
    },
    {
      "cell_type": "code",
      "execution_count": 97,
      "metadata": {},
      "outputs": [
        {
          "data": {
            "text/html": [
              "<div>\n",
              "<style scoped>\n",
              "    .dataframe tbody tr th:only-of-type {\n",
              "        vertical-align: middle;\n",
              "    }\n",
              "\n",
              "    .dataframe tbody tr th {\n",
              "        vertical-align: top;\n",
              "    }\n",
              "\n",
              "    .dataframe thead th {\n",
              "        text-align: right;\n",
              "    }\n",
              "</style>\n",
              "<table border=\"1\" class=\"dataframe\">\n",
              "  <thead>\n",
              "    <tr style=\"text-align: right;\">\n",
              "      <th></th>\n",
              "      <th>edible</th>\n",
              "    </tr>\n",
              "  </thead>\n",
              "  <tbody>\n",
              "    <tr>\n",
              "      <th>0</th>\n",
              "      <td>0</td>\n",
              "    </tr>\n",
              "    <tr>\n",
              "      <th>1</th>\n",
              "      <td>1</td>\n",
              "    </tr>\n",
              "    <tr>\n",
              "      <th>2</th>\n",
              "      <td>1</td>\n",
              "    </tr>\n",
              "  </tbody>\n",
              "</table>\n",
              "</div>"
            ],
            "text/plain": [
              "  edible\n",
              "0      0\n",
              "1      1\n",
              "2      1"
            ]
          },
          "execution_count": 97,
          "metadata": {},
          "output_type": "execute_result"
        }
      ],
      "source": [
        "df_edible = pd.read_csv(\"outputs/datasets/collection/mushrooms.csv\").filter(['edible'])\n",
        "df_edible['edible'] = df_edible['edible'].astype('object')\n",
        "df_edible.head(3)"
      ]
    },
    {
      "cell_type": "markdown",
      "metadata": {},
      "source": [
        "### Cluster profile based on the best features"
      ]
    },
    {
      "cell_type": "code",
      "execution_count": null,
      "metadata": {},
      "outputs": [],
      "source": [
        "pd.set_option('display.max_colwidth', None)\n",
        "clusters_profile = DescriptionAllClusters(df=pd.concat([df_cluster_profile,df_edible], axis=1), decimal_points=0)\n",
        "clusters_profile"
      ]
    },
    {
      "cell_type": "markdown",
      "metadata": {},
      "source": [
        "### Cluster distribution across edible levels & Relative Percentage of edible in each cluster"
      ]
    },
    {
      "cell_type": "code",
      "execution_count": null,
      "metadata": {},
      "outputs": [],
      "source": [
        "df_cluster_vs_edible=  df_edible.copy()\n",
        "df_cluster_vs_edible['Clusters'] = X['Clusters']\n",
        "cluster_distribution_per_variable(df=df_cluster_vs_edible, target='class')"
      ]
    },
    {
      "cell_type": "markdown",
      "metadata": {},
      "source": [
        "## Fit New Cluster Pipeline with most important features"
      ]
    },
    {
      "cell_type": "markdown",
      "metadata": {},
      "source": [
        "In order to reduce feature space, we will study the trade-off between the previous Cluster Pipeline (fitted with all variables) and Pipeline using the variables that are most important to define the clusters from the previous pipeline"
      ]
    },
    {
      "cell_type": "code",
      "execution_count": null,
      "metadata": {},
      "outputs": [],
      "source": [
        "best_features_pipeline_all_variables"
      ]
    },
    {
      "cell_type": "markdown",
      "metadata": {},
      "source": [
        "### Define trade-off and metrics to compare new and previous Cluster Pipeline"
      ]
    },
    {
      "cell_type": "markdown",
      "metadata": {},
      "source": [
        "To evaluate this trade-off we will\n",
        "\n",
        "1. Conduct a elbow method and silhouette analysis and check if the same number of clusters is suggested\n",
        "2. Fit new cluster pipeline and compare if the predictions from this pipeline are \"equivalent\" to the predictions from the previous pipeline\n",
        "3. Fit a classifier to explain cluster, and check if performance on Train and Test sets is similar to the previous pipeline\n",
        "4. Check if the most important features for the classifier are the same from the previous pipeline\n",
        "5. Compare if the cluster profile from both pipelines are \"equivalent\"\n",
        "\n",
        "If we are happy to say yes for them, we can use a cluster pipeline using the features that best define the clusters from previous pipeline!"
      ]
    },
    {
      "cell_type": "markdown",
      "metadata": {},
      "source": [
        "### Subset data with the most relevant variables"
      ]
    },
    {
      "cell_type": "code",
      "execution_count": null,
      "metadata": {},
      "outputs": [],
      "source": [
        "df_reduced = df.filter(best_features_pipeline_all_variables)\n",
        "df_reduced.head(3)"
      ]
    },
    {
      "cell_type": "markdown",
      "metadata": {},
      "source": [
        "### Rewrite Cluster Pipeline"
      ]
    },
    {
      "cell_type": "code",
      "execution_count": null,
      "metadata": {},
      "outputs": [],
      "source": [
        "def PipelineCluster():\n",
        "    pipeline_base = Pipeline([\n",
        "\n",
        "        # we update the pipeline, considering only the most important variables from the previous pipeline\n",
        "        (\"TargetEncoder\", TargetEncoder()),\n",
        "\n",
        "        # it doesn't need SmartCorrelation\n",
        "\n",
        "        (\"scaler\", StandardScaler()),\n",
        "\n",
        "        # No PCA step needed, since we know which features to consider\n",
        "\n",
        "        (\"model\", KMeans(n_clusters=4, random_state=0)),\n",
        "\n",
        "\n",
        "    ])\n",
        "    return pipeline_base\n",
        "\n",
        "\n",
        "PipelineCluster()"
      ]
    },
    {
      "cell_type": "markdown",
      "metadata": {},
      "source": [
        "### Apply Elbow Method and Silhouette analysis\n"
      ]
    },
    {
      "cell_type": "code",
      "execution_count": null,
      "metadata": {},
      "outputs": [],
      "source": [
        "pipeline_cluster = PipelineCluster()\n",
        "pipeline_analysis = Pipeline(pipeline_cluster.steps[:-1])\n",
        "df_analysis = pipeline_analysis.fit_transform(df_reduced, df['class'])\n",
        "\n",
        "print(df_analysis.shape,'\\n', type(df_analysis))"
      ]
    },
    {
      "cell_type": "markdown",
      "metadata": {},
      "source": [
        "Elbow Analysis"
      ]
    },
    {
      "cell_type": "code",
      "execution_count": null,
      "metadata": {},
      "outputs": [],
      "source": [
        "from yellowbrick.cluster import KElbowVisualizer\n",
        "visualizer = KElbowVisualizer(KMeans(random_state=0), k=(1,11))\n",
        "visualizer.fit(df_analysis) \n",
        "visualizer.show() \n",
        "plt.show()"
      ]
    },
    {
      "cell_type": "code",
      "execution_count": null,
      "metadata": {},
      "outputs": [],
      "source": [
        "from yellowbrick.cluster import SilhouetteVisualizer\n",
        "\n",
        "n_cluster_start, n_cluster_stop = 2, 9\n",
        "\n",
        "print(\"=== Average Silhouette Score for different number of clusters ===\")\n",
        "visualizer = KElbowVisualizer(KMeans(random_state=0), k=(\n",
        "    n_cluster_start, n_cluster_stop), metric='silhouette')\n",
        "visualizer.fit(df_analysis)\n",
        "visualizer.show()\n",
        "plt.show()\n",
        "print(\"\\n\")\n",
        "\n",
        "\n",
        "for n_clusters in np.arange(start=n_cluster_start, stop=n_cluster_stop):\n",
        "\n",
        "    print(f\"=== Silhouette plot for {n_clusters} Clusters ===\")\n",
        "    visualizer = SilhouetteVisualizer(estimator=KMeans(n_clusters=n_clusters, random_state=0),\n",
        "                                      colors='yellowbrick')\n",
        "    visualizer.fit(df_analysis)\n",
        "    visualizer.show()\n",
        "    plt.show()\n",
        "    print(\"\\n\")"
      ]
    },
    {
      "cell_type": "markdown",
      "metadata": {},
      "source": [
        "## Fit New Cluster Pipeline"
      ]
    },
    {
      "cell_type": "markdown",
      "metadata": {},
      "source": [
        "Set X as training set for the cluster. It's a copy of df_reduced."
      ]
    },
    {
      "cell_type": "code",
      "execution_count": null,
      "metadata": {},
      "outputs": [],
      "source": [
        "X = df_reduced.copy()\n",
        "print(X.shape)\n",
        "X.head(3)"
      ]
    },
    {
      "cell_type": "code",
      "execution_count": null,
      "metadata": {},
      "outputs": [],
      "source": [
        "pipeline_cluster = PipelineCluster()\n",
        "pipeline_cluster.fit(X, df['class'])"
      ]
    },
    {
      "cell_type": "markdown",
      "metadata": {},
      "source": [
        "## Add cluster predictions to dataset"
      ]
    },
    {
      "cell_type": "markdown",
      "metadata": {},
      "source": [
        "We add column `Clusters` (with cluster pipeline predictions) to the dataset"
      ]
    },
    {
      "cell_type": "code",
      "execution_count": null,
      "metadata": {},
      "outputs": [],
      "source": [
        "X['Clusters'] = pipeline_cluster['model'].labels_\n",
        "print(X.shape)\n",
        "X.head(3)"
      ]
    },
    {
      "cell_type": "code",
      "execution_count": null,
      "metadata": {},
      "outputs": [],
      "source": [
        "print(f\"* Clusters frequencies \\n{ X['Clusters'].value_counts(normalize=True).to_frame().round(2)} \\n\\n\")\n",
        "X['Clusters'].value_counts().sort_values().plot(kind='bar')\n",
        "plt.show()"
      ]
    },
    {
      "cell_type": "markdown",
      "metadata": {},
      "source": [
        "## Compare current cluster predictions to previous cluster predictions"
      ]
    },
    {
      "cell_type": "markdown",
      "metadata": {},
      "source": [
        "Just fitted a new cluster pipeline, and wish to compare if its predictions are \"equivalent\" to the previous cluster."
      ]
    },
    {
      "cell_type": "markdown",
      "metadata": {},
      "source": [
        "These are the predictions from the previous cluster pipeline - trained with all variables"
      ]
    },
    {
      "cell_type": "code",
      "execution_count": null,
      "metadata": {},
      "outputs": [],
      "source": [
        "cluster_predictions_with_all_variables"
      ]
    },
    {
      "cell_type": "markdown",
      "metadata": {},
      "source": [
        "And these are the predictions from current cluster pipeline (trained with `['gill-size', 'stalk-surface-below-ring', 'gill-spacing', 'population', 'bruises', 'stalk-root']`)"
      ]
    },
    {
      "cell_type": "code",
      "execution_count": null,
      "metadata": {},
      "outputs": [],
      "source": [
        "cluster_predictions_with_best_features = X['Clusters'] \n",
        "cluster_predictions_with_best_features"
      ]
    },
    {
      "cell_type": "markdown",
      "metadata": {},
      "source": [
        "We use a confusion matrix to evaluate if the predictions of both pipelines are \"equivalent\""
      ]
    },
    {
      "cell_type": "code",
      "execution_count": null,
      "metadata": {},
      "outputs": [],
      "source": [
        "from sklearn.metrics import confusion_matrix\n",
        "print(confusion_matrix(cluster_predictions_with_all_variables, cluster_predictions_with_best_features))"
      ]
    },
    {
      "cell_type": "markdown",
      "metadata": {},
      "source": [
        "The ordering of the middle two clusters has been reversed, but otherwise these two pipelines are reasonably equivalent."
      ]
    },
    {
      "cell_type": "markdown",
      "metadata": {},
      "source": [
        "### Fit a classifier, where the target is cluster predictions and features remaining variables"
      ]
    },
    {
      "cell_type": "code",
      "execution_count": null,
      "metadata": {},
      "outputs": [],
      "source": [
        "df_clf = X.copy()\n",
        "print(df_clf.shape)\n",
        "df_clf.head(3)"
      ]
    },
    {
      "cell_type": "markdown",
      "metadata": {},
      "source": [
        "Split Train and Test sets"
      ]
    },
    {
      "cell_type": "code",
      "execution_count": null,
      "metadata": {},
      "outputs": [],
      "source": [
        "from sklearn.model_selection import train_test_split\n",
        "\n",
        "X_train, X_test, y_train, y_test = train_test_split(\n",
        "    df_clf.drop(['Clusters'], axis=1),\n",
        "    df_clf['Clusters'],\n",
        "    test_size=0.2,\n",
        "    random_state=0\n",
        ")\n",
        "\n",
        "print(X_train.shape, X_test.shape)"
      ]
    },
    {
      "cell_type": "markdown",
      "metadata": {},
      "source": [
        "Rewrite pipeline to explain clusters"
      ]
    },
    {
      "cell_type": "code",
      "execution_count": null,
      "metadata": {},
      "outputs": [],
      "source": [
        "def PipelineClf2ExplainClusters():\n",
        "    pipeline_base = Pipeline([\n",
        "\n",
        "        (\"TargetEncoder\", TargetEncoder()),\n",
        "\n",
        "        # it doesn't need SmartCorrelation\n",
        "\n",
        "        (\"scaler\", StandardScaler()),\n",
        "\n",
        "        # we don't consider feature selection step, since we know which features to consider\n",
        "\n",
        "        (\"model\", AdaBoostClassifier(random_state=0)),\n",
        "\n",
        "    ])\n",
        "    return pipeline_base\n",
        "\n",
        "\n",
        "PipelineClf2ExplainClusters()"
      ]
    },
    {
      "cell_type": "markdown",
      "metadata": {},
      "source": [
        "### Fit a classifier, where the target is cluster labels and features remaining variables"
      ]
    },
    {
      "cell_type": "markdown",
      "metadata": {},
      "source": [
        "Create and fit a classifier pipeline to learn the feature importance when defining a cluster"
      ]
    },
    {
      "cell_type": "code",
      "execution_count": null,
      "metadata": {},
      "outputs": [],
      "source": [
        "pipeline_clf_cluster = PipelineClf2ExplainClusters()\n",
        "pipeline_clf_cluster.fit(X_train,y_train)"
      ]
    },
    {
      "cell_type": "markdown",
      "metadata": {},
      "source": [
        "### Evaluate classifier performance on Train and Test Sets"
      ]
    },
    {
      "cell_type": "code",
      "execution_count": null,
      "metadata": {},
      "outputs": [],
      "source": [
        "print(classification_report(y_train, pipeline_clf_cluster.predict(X_train)))"
      ]
    },
    {
      "cell_type": "code",
      "execution_count": null,
      "metadata": {},
      "outputs": [],
      "source": [
        "print(classification_report(y_test, pipeline_clf_cluster.predict(X_test)))"
      ]
    },
    {
      "cell_type": "markdown",
      "metadata": {},
      "source": [
        "## Assess Most Important Features\n"
      ]
    },
    {
      "cell_type": "code",
      "execution_count": null,
      "metadata": {},
      "outputs": [],
      "source": [
        "# since we don't have feature selection step in this pipeline, best_features is Xtrain columns\n",
        "best_features = X_train.columns.to_list()\n",
        "\n",
        "# create a DataFrame to display feature importance\n",
        "df_feature_importance = (pd.DataFrame(data={\n",
        "    'Feature': best_features,\n",
        "    'Importance': pipeline_clf_cluster['model'].feature_importances_})\n",
        "    .sort_values(by='Importance', ascending=False)\n",
        ")\n",
        "\n",
        "best_features = df_feature_importance['Feature'].to_list()\n",
        "\n",
        "# Most important features statement and plot\n",
        "print(f\"* These are the {len(best_features)} most important features in descending order. \"\n",
        "      f\"The model was trained on them: \\n{df_feature_importance['Feature'].to_list()}\")\n",
        "\n",
        "df_feature_importance.plot(kind='bar', x='Feature', y='Importance')\n",
        "plt.show()"
      ]
    },
    {
      "cell_type": "markdown",
      "metadata": {},
      "source": [
        "## Cluster Analysis"
      ]
    },
    {
      "cell_type": "markdown",
      "metadata": {},
      "source": [
        "Create a DataFrame that contains the best features and Clusters Predictions: we want to analyse the patterns for each cluster."
      ]
    },
    {
      "cell_type": "code",
      "execution_count": null,
      "metadata": {},
      "outputs": [],
      "source": [
        "df_cluster_profile = df_clf.copy()\n",
        "df_cluster_profile = df_cluster_profile.filter(items=best_features + ['Clusters'], axis=1)\n",
        "df_cluster_profile.head(3)"
      ]
    },
    {
      "cell_type": "markdown",
      "metadata": {},
      "source": [
        "We want also to analyse edibility levels"
      ]
    },
    {
      "cell_type": "code",
      "execution_count": null,
      "metadata": {},
      "outputs": [],
      "source": [
        "df_edible = pd.read_csv(\"outputs/datasets/collection/mushrooms.csv\").filter(['class'])\n",
        "df_edible['class'] = df_edible['class'].astype('object')\n",
        "df_edible.head(3)"
      ]
    },
    {
      "cell_type": "markdown",
      "metadata": {},
      "source": [
        "### Cluster profile on most important features"
      ]
    },
    {
      "cell_type": "code",
      "execution_count": null,
      "metadata": {},
      "outputs": [],
      "source": [
        "pd.set_option('display.max_colwidth', None)\n",
        "clusters_profile = DescriptionAllClusters(df= pd.concat([df_cluster_profile,df_edible], axis=1), decimal_points=0)\n",
        "clusters_profile"
      ]
    },
    {
      "cell_type": "markdown",
      "metadata": {},
      "source": [
        "### Clusters distribution across Churn levels & Relative Percentage of Churn in each cluster"
      ]
    },
    {
      "cell_type": "code",
      "execution_count": null,
      "metadata": {},
      "outputs": [],
      "source": [
        "df_cluster_vs_edible=  df_edible.copy()\n",
        "df_cluster_vs_edible['Clusters'] = X['Clusters']\n",
        "cluster_distribution_per_variable(df=df_cluster_vs_edible, target='class')"
      ]
    },
    {
      "cell_type": "markdown",
      "metadata": {},
      "source": [
        "## Which pipeline to deploy"
      ]
    },
    {
      "cell_type": "code",
      "execution_count": null,
      "metadata": {},
      "outputs": [],
      "source": [
        "pipeline_cluster"
      ]
    },
    {
      "cell_type": "markdown",
      "metadata": {},
      "source": [
        "## Push files to Repo"
      ]
    },
    {
      "cell_type": "markdown",
      "metadata": {},
      "source": [
        "We will generate the following files\n",
        "\n",
        "* Cluster Pipeline\n",
        "* Train Set\n",
        "* Feature Importance plot\n",
        "* Clusters Description\n",
        "* Cluster Silhouette~"
      ]
    },
    {
      "cell_type": "code",
      "execution_count": null,
      "metadata": {},
      "outputs": [],
      "source": [
        "import joblib\n",
        "import os\n",
        "\n",
        "version = 'v1'\n",
        "file_path = f'outputs/ml_pipeline/cluster_analysis/{version}'\n",
        "\n",
        "try:\n",
        "    os.makedirs(name=file_path)\n",
        "except Exception as e:\n",
        "    print(e)"
      ]
    },
    {
      "cell_type": "markdown",
      "metadata": {},
      "source": [
        "## Cluster pipeline"
      ]
    },
    {
      "cell_type": "code",
      "execution_count": null,
      "metadata": {},
      "outputs": [],
      "source": [
        "pipeline_cluster"
      ]
    },
    {
      "cell_type": "code",
      "execution_count": null,
      "metadata": {},
      "outputs": [],
      "source": [
        "joblib.dump(value=pipeline_cluster, filename=f\"{file_path}/cluster_pipeline.pkl\")"
      ]
    },
    {
      "cell_type": "markdown",
      "metadata": {},
      "source": [
        "## Train Set"
      ]
    },
    {
      "cell_type": "code",
      "execution_count": null,
      "metadata": {},
      "outputs": [],
      "source": [
        "print(df_reduced.shape)\n",
        "df_reduced.head(3)"
      ]
    },
    {
      "cell_type": "code",
      "execution_count": null,
      "metadata": {},
      "outputs": [],
      "source": [
        "df_reduced.to_csv(f\"{file_path}/TrainSet.csv\", index=False)"
      ]
    },
    {
      "cell_type": "markdown",
      "metadata": {},
      "source": [
        "## Most important features plot"
      ]
    },
    {
      "cell_type": "markdown",
      "metadata": {},
      "source": [
        "These are the features that define a cluster"
      ]
    },
    {
      "cell_type": "code",
      "execution_count": null,
      "metadata": {},
      "outputs": [],
      "source": [
        "df_feature_importance.plot(kind='bar',x='Feature',y='Importance', figsize=(8,4))\n",
        "plt.show()"
      ]
    },
    {
      "cell_type": "code",
      "execution_count": null,
      "metadata": {},
      "outputs": [],
      "source": [
        "df_feature_importance.plot(kind='bar',x='Feature',y='Importance', figsize=(8,4))\n",
        "plt.savefig(f\"{file_path}/features_define_cluster.png\", bbox_inches='tight', dpi=150)"
      ]
    },
    {
      "cell_type": "markdown",
      "metadata": {},
      "source": [
        "## Cluster Profile"
      ]
    },
    {
      "cell_type": "code",
      "execution_count": null,
      "metadata": {},
      "outputs": [],
      "source": [
        "clusters_profile"
      ]
    },
    {
      "cell_type": "code",
      "execution_count": null,
      "metadata": {},
      "outputs": [],
      "source": [
        "clusters_profile.to_csv(f\"{file_path}/clusters_profile.csv\")"
      ]
    },
    {
      "cell_type": "markdown",
      "metadata": {},
      "source": [
        "## Cluster silhouette plot"
      ]
    },
    {
      "cell_type": "code",
      "execution_count": null,
      "metadata": {},
      "outputs": [],
      "source": [
        "visualizer = SilhouetteVisualizer(Pipeline(pipeline_cluster.steps[-1:])[0] , colors='yellowbrick')\n",
        "visualizer.fit(df_analysis)\n",
        "visualizer.show()\n",
        "plt.show()"
      ]
    },
    {
      "cell_type": "code",
      "execution_count": null,
      "metadata": {},
      "outputs": [],
      "source": [
        "fig, axes = plt.subplots(figsize=(7,5))\n",
        "fig = SilhouetteVisualizer(Pipeline(pipeline_cluster.steps[-1:])[0] , colors='yellowbrick', ax=axes)\n",
        "fig.fit(df_analysis)\n",
        "\n",
        "plt.savefig(f\"{file_path}/clusters_silhouette.png\", bbox_inches='tight',dpi=150)"
      ]
    }
  ],
  "metadata": {
    "accelerator": "GPU",
    "colab": {
      "name": "Data Practitioner Jupyter Notebook.ipynb",
      "provenance": [],
      "toc_visible": true
    },
    "interpreter": {
      "hash": "8b8334dab9339717f727a1deaf837b322d7a41c20d15cc86be99a8e69ceec8ce"
    },
    "kernelspec": {
      "display_name": "Python 3.8.12 64-bit ('3.8.12': pyenv)",
      "name": "python3"
    },
    "language_info": {
      "codemirror_mode": {
        "name": "ipython",
        "version": 3
      },
      "file_extension": ".py",
      "mimetype": "text/x-python",
      "name": "python",
      "nbconvert_exporter": "python",
      "pygments_lexer": "ipython3",
      "version": "3.8.12"
    },
    "orig_nbformat": 2
  },
  "nbformat": 4,
  "nbformat_minor": 2
}
