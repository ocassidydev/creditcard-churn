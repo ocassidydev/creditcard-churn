{
  "cells": [
    {
      "cell_type": "markdown",
      "metadata": {
        "id": "0aStgWSO0E0E"
      },
      "source": [
        "# **Classification**"
      ]
    },
    {
      "cell_type": "markdown",
      "metadata": {
        "id": "1eLEkw5O0ECa"
      },
      "source": [
        "## Objectives\n",
        "\n",
        "* Fit and evaluate a classification model to predict if a mushroom is edible or not.\n",
        "\n",
        "## Inputs\n",
        "\n",
        "* outputs/datasets/collection/mushrooms.csv\n",
        "* Instructions on which variables to use for data cleaning and feature engineering. They are found in each respective notebook.\n",
        "\n",
        "## Outputs\n",
        "\n",
        "* Train set (features and target)\n",
        "* Test set (features and target)\n",
        "* Data cleaning and Feature Engineering pipeline\n",
        "* Modelling pipeline\n",
        "* Feature importance plot\n"
      ]
    },
    {
      "cell_type": "markdown",
      "metadata": {
        "id": "9uWZXH9LwoQg"
      },
      "source": [
        "---"
      ]
    },
    {
      "cell_type": "markdown",
      "metadata": {
        "id": "cqP-UeN-z3i2"
      },
      "source": [
        "# Change working directory"
      ]
    },
    {
      "cell_type": "markdown",
      "metadata": {},
      "source": [
        "* We are assuming you will store the notebooks in a subfolder, therefore when running the notebook in the editor, you will need to change the working directory"
      ]
    },
    {
      "cell_type": "markdown",
      "metadata": {
        "id": "aOGIGS-uz3i2"
      },
      "source": [
        "We need to change the working directory from its current folder to its parent folder\n",
        "* We access the current directory with os.getcwd()"
      ]
    },
    {
      "cell_type": "code",
      "execution_count": null,
      "metadata": {
        "id": "wZfF_j-Bz3i4",
        "outputId": "66943449-1436-4c3d-85c7-b85f9f78349b"
      },
      "outputs": [],
      "source": [
        "import os\n",
        "current_dir = os.getcwd()\n",
        "current_dir"
      ]
    },
    {
      "cell_type": "markdown",
      "metadata": {
        "id": "9MWW8E7lz3i7"
      },
      "source": [
        "We want to make the parent of the current directory the new current directory\n",
        "* os.path.dirname() gets the parent directory\n",
        "* os.chir() defines the new current directory"
      ]
    },
    {
      "cell_type": "code",
      "execution_count": null,
      "metadata": {
        "id": "TwHsQRWjz3i9",
        "outputId": "86849db3-cd2f-4cc5-ebb8-2d0caafa1a2c"
      },
      "outputs": [],
      "source": [
        "os.chdir(os.path.dirname(current_dir))\n",
        "print(\"You set a new current directory\")"
      ]
    },
    {
      "cell_type": "markdown",
      "metadata": {
        "id": "M_xPk_Ijz3i-"
      },
      "source": [
        "Confirm the new current directory"
      ]
    },
    {
      "cell_type": "code",
      "execution_count": 28,
      "metadata": {
        "id": "vz3S-_kjz3jA",
        "outputId": "00b79ae4-75d0-4a96-d193-ac9ef9847ea2"
      },
      "outputs": [
        {
          "data": {
            "text/plain": [
              "'/workspace/mushroom-safety'"
            ]
          },
          "execution_count": 28,
          "metadata": {},
          "output_type": "execute_result"
        }
      ],
      "source": [
        "current_dir = os.getcwd()\n",
        "current_dir"
      ]
    },
    {
      "cell_type": "markdown",
      "metadata": {
        "id": "ZY3l0-AxO93d"
      },
      "source": [
        "---"
      ]
    },
    {
      "cell_type": "markdown",
      "metadata": {
        "id": "uFQo3ycuO-v6"
      },
      "source": [
        "# Load Data"
      ]
    },
    {
      "cell_type": "code",
      "execution_count": 29,
      "metadata": {},
      "outputs": [
        {
          "name": "stdout",
          "output_type": "stream",
          "text": [
            "(8124, 23)\n"
          ]
        },
        {
          "data": {
            "text/html": [
              "<div>\n",
              "<style scoped>\n",
              "    .dataframe tbody tr th:only-of-type {\n",
              "        vertical-align: middle;\n",
              "    }\n",
              "\n",
              "    .dataframe tbody tr th {\n",
              "        vertical-align: top;\n",
              "    }\n",
              "\n",
              "    .dataframe thead th {\n",
              "        text-align: right;\n",
              "    }\n",
              "</style>\n",
              "<table border=\"1\" class=\"dataframe\">\n",
              "  <thead>\n",
              "    <tr style=\"text-align: right;\">\n",
              "      <th></th>\n",
              "      <th>edible</th>\n",
              "      <th>cap-shape</th>\n",
              "      <th>cap-surface</th>\n",
              "      <th>cap-color</th>\n",
              "      <th>bruises</th>\n",
              "      <th>odor</th>\n",
              "      <th>gill-attachment</th>\n",
              "      <th>gill-spacing</th>\n",
              "      <th>gill-size</th>\n",
              "      <th>gill-color</th>\n",
              "      <th>...</th>\n",
              "      <th>stalk-surface-below-ring</th>\n",
              "      <th>stalk-color-above-ring</th>\n",
              "      <th>stalk-color-below-ring</th>\n",
              "      <th>veil-type</th>\n",
              "      <th>veil-color</th>\n",
              "      <th>ring-number</th>\n",
              "      <th>ring-type</th>\n",
              "      <th>spore-print-color</th>\n",
              "      <th>population</th>\n",
              "      <th>habitat</th>\n",
              "    </tr>\n",
              "  </thead>\n",
              "  <tbody>\n",
              "    <tr>\n",
              "      <th>0</th>\n",
              "      <td>0</td>\n",
              "      <td>convex</td>\n",
              "      <td>smooth</td>\n",
              "      <td>brown</td>\n",
              "      <td>bruises</td>\n",
              "      <td>pungent</td>\n",
              "      <td>free</td>\n",
              "      <td>close</td>\n",
              "      <td>narrow</td>\n",
              "      <td>black</td>\n",
              "      <td>...</td>\n",
              "      <td>smooth</td>\n",
              "      <td>white</td>\n",
              "      <td>white</td>\n",
              "      <td>partial</td>\n",
              "      <td>white</td>\n",
              "      <td>one</td>\n",
              "      <td>pendant</td>\n",
              "      <td>black</td>\n",
              "      <td>scattered</td>\n",
              "      <td>urban</td>\n",
              "    </tr>\n",
              "    <tr>\n",
              "      <th>1</th>\n",
              "      <td>1</td>\n",
              "      <td>convex</td>\n",
              "      <td>smooth</td>\n",
              "      <td>yellow</td>\n",
              "      <td>bruises</td>\n",
              "      <td>almond</td>\n",
              "      <td>free</td>\n",
              "      <td>close</td>\n",
              "      <td>broad</td>\n",
              "      <td>black</td>\n",
              "      <td>...</td>\n",
              "      <td>smooth</td>\n",
              "      <td>white</td>\n",
              "      <td>white</td>\n",
              "      <td>partial</td>\n",
              "      <td>white</td>\n",
              "      <td>one</td>\n",
              "      <td>pendant</td>\n",
              "      <td>brown</td>\n",
              "      <td>numerous</td>\n",
              "      <td>grasses</td>\n",
              "    </tr>\n",
              "    <tr>\n",
              "      <th>2</th>\n",
              "      <td>1</td>\n",
              "      <td>bell</td>\n",
              "      <td>smooth</td>\n",
              "      <td>white</td>\n",
              "      <td>bruises</td>\n",
              "      <td>anise</td>\n",
              "      <td>free</td>\n",
              "      <td>close</td>\n",
              "      <td>broad</td>\n",
              "      <td>brown</td>\n",
              "      <td>...</td>\n",
              "      <td>smooth</td>\n",
              "      <td>white</td>\n",
              "      <td>white</td>\n",
              "      <td>partial</td>\n",
              "      <td>white</td>\n",
              "      <td>one</td>\n",
              "      <td>pendant</td>\n",
              "      <td>brown</td>\n",
              "      <td>numerous</td>\n",
              "      <td>meadows</td>\n",
              "    </tr>\n",
              "    <tr>\n",
              "      <th>3</th>\n",
              "      <td>0</td>\n",
              "      <td>convex</td>\n",
              "      <td>scaly</td>\n",
              "      <td>white</td>\n",
              "      <td>bruises</td>\n",
              "      <td>pungent</td>\n",
              "      <td>free</td>\n",
              "      <td>close</td>\n",
              "      <td>narrow</td>\n",
              "      <td>brown</td>\n",
              "      <td>...</td>\n",
              "      <td>smooth</td>\n",
              "      <td>white</td>\n",
              "      <td>white</td>\n",
              "      <td>partial</td>\n",
              "      <td>white</td>\n",
              "      <td>one</td>\n",
              "      <td>pendant</td>\n",
              "      <td>black</td>\n",
              "      <td>scattered</td>\n",
              "      <td>urban</td>\n",
              "    </tr>\n",
              "    <tr>\n",
              "      <th>4</th>\n",
              "      <td>1</td>\n",
              "      <td>convex</td>\n",
              "      <td>smooth</td>\n",
              "      <td>gray</td>\n",
              "      <td>no</td>\n",
              "      <td>none</td>\n",
              "      <td>free</td>\n",
              "      <td>crowded</td>\n",
              "      <td>broad</td>\n",
              "      <td>black</td>\n",
              "      <td>...</td>\n",
              "      <td>smooth</td>\n",
              "      <td>white</td>\n",
              "      <td>white</td>\n",
              "      <td>partial</td>\n",
              "      <td>white</td>\n",
              "      <td>one</td>\n",
              "      <td>evanescent</td>\n",
              "      <td>brown</td>\n",
              "      <td>abundant</td>\n",
              "      <td>grasses</td>\n",
              "    </tr>\n",
              "  </tbody>\n",
              "</table>\n",
              "<p>5 rows × 23 columns</p>\n",
              "</div>"
            ],
            "text/plain": [
              "   edible cap-shape cap-surface cap-color  bruises     odor gill-attachment  \\\n",
              "0       0    convex      smooth     brown  bruises  pungent            free   \n",
              "1       1    convex      smooth    yellow  bruises   almond            free   \n",
              "2       1      bell      smooth     white  bruises    anise            free   \n",
              "3       0    convex       scaly     white  bruises  pungent            free   \n",
              "4       1    convex      smooth      gray       no     none            free   \n",
              "\n",
              "  gill-spacing gill-size gill-color  ... stalk-surface-below-ring  \\\n",
              "0        close    narrow      black  ...                   smooth   \n",
              "1        close     broad      black  ...                   smooth   \n",
              "2        close     broad      brown  ...                   smooth   \n",
              "3        close    narrow      brown  ...                   smooth   \n",
              "4      crowded     broad      black  ...                   smooth   \n",
              "\n",
              "  stalk-color-above-ring stalk-color-below-ring veil-type veil-color  \\\n",
              "0                  white                  white   partial      white   \n",
              "1                  white                  white   partial      white   \n",
              "2                  white                  white   partial      white   \n",
              "3                  white                  white   partial      white   \n",
              "4                  white                  white   partial      white   \n",
              "\n",
              "  ring-number   ring-type spore-print-color population  habitat  \n",
              "0         one     pendant             black  scattered    urban  \n",
              "1         one     pendant             brown   numerous  grasses  \n",
              "2         one     pendant             brown   numerous  meadows  \n",
              "3         one     pendant             black  scattered    urban  \n",
              "4         one  evanescent             brown   abundant  grasses  \n",
              "\n",
              "[5 rows x 23 columns]"
            ]
          },
          "execution_count": 29,
          "metadata": {},
          "output_type": "execute_result"
        }
      ],
      "source": [
        "import pandas as pd\n",
        "\n",
        "df = pd.read_csv(\"outputs/datasets/collection/mushrooms.csv\")\n",
        "\n",
        "print(df.shape)\n",
        "df.head()"
      ]
    },
    {
      "cell_type": "markdown",
      "metadata": {},
      "source": [
        "---"
      ]
    },
    {
      "cell_type": "markdown",
      "metadata": {},
      "source": [
        "# ML Pipeline with all data"
      ]
    },
    {
      "cell_type": "markdown",
      "metadata": {},
      "source": [
        "## ML pipeline for Data Cleaning and Feature Engineering"
      ]
    },
    {
      "cell_type": "markdown",
      "metadata": {},
      "source": [
        "This pipeline is created from the findings of the Data Cleaning and Feature Engineering notebooks. As there is no Data Cleaning tasks that need to be done, it is just referred to as a Feature Engineering pipeline."
      ]
    },
    {
      "cell_type": "code",
      "execution_count": 30,
      "metadata": {},
      "outputs": [
        {
          "data": {
            "text/plain": [
              "Pipeline(steps=[('TargetCategoricalEncoder', TargetEncoder()),\n",
              "                ('SmartCorrelatedSelection',\n",
              "                 SmartCorrelatedSelection(method='spearman',\n",
              "                                          selection_method='variance',\n",
              "                                          threshold=0.6))])"
            ]
          },
          "execution_count": 30,
          "metadata": {},
          "output_type": "execute_result"
        }
      ],
      "source": [
        "from sklearn.pipeline import Pipeline\n",
        "from feature_engine.selection import SmartCorrelatedSelection\n",
        "from category_encoders import TargetEncoder\n",
        "\n",
        "def PipelineFeatureEngineering():\n",
        "    \"\"\" Create data cleaning and feature engineering \"\"\"\n",
        "\n",
        "    pipeline_base = Pipeline([\n",
        "        (\"TargetCategoricalEncoder\", TargetEncoder()),\n",
        "        (\"SmartCorrelatedSelection\", SmartCorrelatedSelection(variables=None, method=\"spearman\", threshold=0.6, selection_method=\"variance\"))\n",
        "    ])\n",
        "\n",
        "    return pipeline_base\n",
        "\n",
        "PipelineFeatureEngineering()"
      ]
    },
    {
      "cell_type": "markdown",
      "metadata": {},
      "source": [
        "## ML Pipeline for Modelling and Hyperparameter Optimisation"
      ]
    },
    {
      "cell_type": "markdown",
      "metadata": {},
      "source": [
        "This pipeline will have a Standard Scaler as its first step, which transforms the variables into their z scores. The most relevant features to the model will then be selected from the set of variables, and then finally fit by the model, which will now be chosen based on a model hyperparameter grid search."
      ]
    },
    {
      "cell_type": "code",
      "execution_count": 31,
      "metadata": {},
      "outputs": [],
      "source": [
        "# Feat Scaling\n",
        "from sklearn.preprocessing import StandardScaler\n",
        "\n",
        "# Feat Selection\n",
        "from sklearn.feature_selection import SelectFromModel\n",
        "\n",
        "# ML algorithms\n",
        "from sklearn.linear_model import LogisticRegression\n",
        "from sklearn.tree import DecisionTreeClassifier\n",
        "from sklearn.ensemble import RandomForestClassifier\n",
        "from sklearn.ensemble import GradientBoostingClassifier\n",
        "from sklearn.ensemble import ExtraTreesClassifier\n",
        "from sklearn.ensemble import AdaBoostClassifier\n",
        "from xgboost import XGBClassifier\n",
        "\n",
        "\n",
        "def PipelineClf(model):\n",
        "    \"\"\" Creates classifier model pipeline \"\"\"\n",
        "    pipeline_base = Pipeline([\n",
        "        (\"scaler\", StandardScaler()),\n",
        "        (\"feat_selection\", SelectFromModel(model)),\n",
        "        (\"model\", model),\n",
        "    ])\n",
        "\n",
        "    return pipeline_base"
      ]
    },
    {
      "cell_type": "markdown",
      "metadata": {},
      "source": [
        "Custom Class for Hyperparameter Optimisation - this class, taken from the model cross validation lessons, will allow performing a hyperparameter grid search to determine the best performing classifier model and it's ideal hyperparameters for the model pipeline."
      ]
    },
    {
      "cell_type": "code",
      "execution_count": 32,
      "metadata": {},
      "outputs": [],
      "source": [
        "from sklearn.model_selection import GridSearchCV\n",
        "import numpy as np\n",
        "\n",
        "class HyperparameterOptimizationSearch:\n",
        "    \"\"\" \n",
        "    Initializes as sets of models and hyperparameters for each model\n",
        "    Methods:\n",
        "    fit - fits each of the declared models for each of their stated hyperparameter sets\n",
        "    score_summary - generates a summary output of each fitted model's performance for comparison purposes\n",
        "    \"\"\"\n",
        "    def __init__(self, models, params):\n",
        "        self.models = models\n",
        "        self.params = params\n",
        "        self.keys = models.keys()\n",
        "        self.grid_searches = {}\n",
        "\n",
        "    def fit(self, X, y, cv, n_jobs, verbose=1, scoring=None, refit=False):\n",
        "        \"\"\" \n",
        "        fits each of the search's models and model hyperparameter sets\n",
        "        cv controls the number of folds in the cross validation, n_jobs controls processor parallelisation \"\"\"\n",
        "        for key in self.keys:\n",
        "            print(f\"\\nRunning GridSearchCV for {key} \\n\")\n",
        "\n",
        "            model = PipelineClf(self.models[key])\n",
        "            params = self.params[key]\n",
        "            gs = GridSearchCV(model, params, cv=cv, n_jobs=n_jobs,\n",
        "                              verbose=verbose, scoring=scoring, )\n",
        "            gs.fit(X, y)\n",
        "            self.grid_searches[key] = gs\n",
        "\n",
        "    def score_summary(self, sort_by='mean_score'):\n",
        "        \"\"\" Creates a summation of each models performance to be displayed in a DataFrame \"\"\"\n",
        "        def row(key, scores, params):\n",
        "            d = {\n",
        "                'estimator': key,\n",
        "                'min_score': min(scores),\n",
        "                'max_score': max(scores),\n",
        "                'mean_score': np.mean(scores),\n",
        "                'std_score': np.std(scores),\n",
        "            }\n",
        "            return pd.Series({**params, **d})\n",
        "\n",
        "        rows = []\n",
        "        for k in self.grid_searches:\n",
        "            params = self.grid_searches[k].cv_results_['params']\n",
        "            scores = []\n",
        "            for i in range(self.grid_searches[k].cv):\n",
        "                key = \"split{}_test_score\".format(i)\n",
        "                r = self.grid_searches[k].cv_results_[key]\n",
        "                scores.append(r.reshape(len(params), 1))\n",
        "\n",
        "            all_scores = np.hstack(scores)\n",
        "            for p, s in zip(params, all_scores):\n",
        "                rows.append((row(k, s, p)))\n",
        "\n",
        "        df = pd.concat(rows, axis=1).T.sort_values([sort_by], ascending=False)\n",
        "        columns = ['estimator', 'min_score', 'mean_score', 'max_score', 'std_score']\n",
        "        columns = columns + [c for c in df.columns if c not in columns]\n",
        "        return df[columns], self.grid_searches"
      ]
    },
    {
      "cell_type": "markdown",
      "metadata": {},
      "source": [
        "## Split Train and Test Set"
      ]
    },
    {
      "cell_type": "code",
      "execution_count": 33,
      "metadata": {},
      "outputs": [
        {
          "name": "stdout",
          "output_type": "stream",
          "text": [
            "(6499, 22) (6499,) (1625, 22) (1625,)\n"
          ]
        }
      ],
      "source": [
        "from sklearn.model_selection import train_test_split\n",
        "X_train, X_test, y_train, y_test = train_test_split(\n",
        "    df.drop(['edible'], axis=1),\n",
        "    df['edible'],\n",
        "    test_size=0.2,\n",
        "    random_state=0,\n",
        ")\n",
        "\n",
        "print(X_train.shape, y_train.shape, X_test.shape, y_test.shape)"
      ]
    },
    {
      "cell_type": "markdown",
      "metadata": {},
      "source": [
        "## Fit and Transform Train and Test Sets"
      ]
    },
    {
      "cell_type": "markdown",
      "metadata": {},
      "source": [
        "Using `y_train` as the target input for the `\"TargetEncoder\"` step, the feature engineering pipeline is fit to and then transforms the Train Set, and then is used to transform the Test Set"
      ]
    },
    {
      "cell_type": "code",
      "execution_count": 34,
      "metadata": {},
      "outputs": [
        {
          "name": "stdout",
          "output_type": "stream",
          "text": [
            "(6499, 17) (6499,) (1625, 17) (1625,)\n"
          ]
        },
        {
          "name": "stderr",
          "output_type": "stream",
          "text": [
            "/home/gitpod/.pyenv/versions/3.8.12/lib/python3.8/site-packages/feature_engine/selection/smart_correlation_selection.py:271: FutureWarning: Passing a set as an indexer is deprecated and will raise in a future version. Use a list instead.\n",
            "  f = X[feature_group].std().sort_values(ascending=False).index[0]\n",
            "/home/gitpod/.pyenv/versions/3.8.12/lib/python3.8/site-packages/feature_engine/selection/smart_correlation_selection.py:271: FutureWarning: Passing a set as an indexer is deprecated and will raise in a future version. Use a list instead.\n",
            "  f = X[feature_group].std().sort_values(ascending=False).index[0]\n",
            "/home/gitpod/.pyenv/versions/3.8.12/lib/python3.8/site-packages/feature_engine/selection/smart_correlation_selection.py:271: FutureWarning: Passing a set as an indexer is deprecated and will raise in a future version. Use a list instead.\n",
            "  f = X[feature_group].std().sort_values(ascending=False).index[0]\n",
            "/home/gitpod/.pyenv/versions/3.8.12/lib/python3.8/site-packages/feature_engine/selection/smart_correlation_selection.py:271: FutureWarning: Passing a set as an indexer is deprecated and will raise in a future version. Use a list instead.\n",
            "  f = X[feature_group].std().sort_values(ascending=False).index[0]\n"
          ]
        }
      ],
      "source": [
        "pipeline_data_cleaning_feat_eng = PipelineFeatureEngineering()\n",
        "X_train = pipeline_data_cleaning_feat_eng.fit_transform(X_train, y_train)\n",
        "X_test = pipeline_data_cleaning_feat_eng.transform(X_test)\n",
        "print(X_train.shape, y_train.shape, X_test.shape, y_test.shape)"
      ]
    },
    {
      "cell_type": "markdown",
      "metadata": {},
      "source": [
        "---"
      ]
    },
    {
      "cell_type": "markdown",
      "metadata": {},
      "source": [
        "# Handle Target Imbalance"
      ]
    },
    {
      "cell_type": "markdown",
      "metadata": {},
      "source": [
        "Check Train Set edibility distribution"
      ]
    },
    {
      "cell_type": "code",
      "execution_count": 35,
      "metadata": {},
      "outputs": [
        {
          "data": {
            "image/png": "[encoded data removed]",
            "text/plain": [
              "<Figure size 640x480 with 1 Axes>"
            ]
          },
          "metadata": {},
          "output_type": "display_data"
        }
      ],
      "source": [
        "import matplotlib.pyplot as plt\n",
        "import seaborn as sns\n",
        "sns.set_style(\"whitegrid\")\n",
        "y_train.value_counts().plot(kind='bar', title='Train Set Target Distribution')\n",
        "plt.show()"
      ]
    },
    {
      "cell_type": "markdown",
      "metadata": {},
      "source": [
        "It appears the dataset is slightly skewed toward having more edible mushrooms. To balance the target, we use SMOTE (Synthetic Minority Oversampling TEchnique) on the Train Set"
      ]
    },
    {
      "cell_type": "code",
      "execution_count": 36,
      "metadata": {},
      "outputs": [
        {
          "name": "stdout",
          "output_type": "stream",
          "text": [
            "(6712, 17) (6712,) (1625, 17) (1625,)\n"
          ]
        }
      ],
      "source": [
        "from imblearn.over_sampling import SMOTE\n",
        "oversample = SMOTE(sampling_strategy='minority', random_state=0)\n",
        "X_train, y_train = oversample.fit_resample(X_train, y_train)\n",
        "print(X_train.shape, y_train.shape, X_test.shape, y_test.shape)"
      ]
    },
    {
      "cell_type": "markdown",
      "metadata": {},
      "source": [
        "Check Train Set Target distribution after resampling - it is now balanced between edible and poisonous mushrooms."
      ]
    },
    {
      "cell_type": "code",
      "execution_count": 37,
      "metadata": {},
      "outputs": [
        {
          "data": {
            "image/png": "[encoded data removed]",
            "text/plain": [
              "<Figure size 640x480 with 1 Axes>"
            ]
          },
          "metadata": {},
          "output_type": "display_data"
        }
      ],
      "source": [
        "import matplotlib.pyplot as plt\n",
        "y_train.value_counts().plot(kind='bar', title='Train Set Target Distribution')\n",
        "plt.show()"
      ]
    },
    {
      "cell_type": "markdown",
      "metadata": {},
      "source": [
        "---"
      ]
    },
    {
      "cell_type": "markdown",
      "metadata": {},
      "source": [
        "# Grid Search CV - Sklearn"
      ]
    },
    {
      "cell_type": "markdown",
      "metadata": {},
      "source": [
        "### Use standard hyperparameters to find most suitable algorithm"
      ]
    },
    {
      "cell_type": "markdown",
      "metadata": {},
      "source": [
        "We define a set of different classifier algorithms to perform a grid search over. The hyperparameters will be left to their defaults, here we wish to find the best algorithm only."
      ]
    },
    {
      "cell_type": "code",
      "execution_count": 38,
      "metadata": {},
      "outputs": [],
      "source": [
        "models_quick_search = {\n",
        "    \"LogisticRegression\": LogisticRegression(random_state=0),\n",
        "    \"XGBClassifier\": XGBClassifier(random_state=0),\n",
        "    \"DecisionTreeClassifier\": DecisionTreeClassifier(random_state=0),\n",
        "    \"RandomForestClassifier\": RandomForestClassifier(random_state=0),\n",
        "    \"GradientBoostingClassifier\": GradientBoostingClassifier(random_state=0),\n",
        "    \"ExtraTreesClassifier\": ExtraTreesClassifier(random_state=0),\n",
        "    \"AdaBoostClassifier\": AdaBoostClassifier(random_state=0),\n",
        "}\n",
        "\n",
        "params_quick_search = {\n",
        "    \"LogisticRegression\": {},\n",
        "    \"XGBClassifier\": {},\n",
        "    \"DecisionTreeClassifier\": {},\n",
        "    \"RandomForestClassifier\": {},\n",
        "    \"GradientBoostingClassifier\": {},\n",
        "    \"ExtraTreesClassifier\": {},\n",
        "    \"AdaBoostClassifier\": {},\n",
        "}"
      ]
    },
    {
      "cell_type": "markdown",
      "metadata": {},
      "source": [
        "Quick GridSearch CV - Binary Classifier. As we need to optimize with respect to the precision and recall on edibility, we will set the scorer to f1_score, a metric that includes the two. "
      ]
    },
    {
      "cell_type": "code",
      "execution_count": 39,
      "metadata": {},
      "outputs": [
        {
          "name": "stdout",
          "output_type": "stream",
          "text": [
            "\n",
            "Running GridSearchCV for LogisticRegression \n",
            "\n",
            "Fitting 5 folds for each of 1 candidates, totalling 5 fits\n",
            "\n",
            "Running GridSearchCV for XGBClassifier \n",
            "\n",
            "Fitting 5 folds for each of 1 candidates, totalling 5 fits\n"
          ]
        },
        {
          "name": "stderr",
          "output_type": "stream",
          "text": [
            "/home/gitpod/.pyenv/versions/3.8.12/lib/python3.8/site-packages/xgboost/compat.py:93: FutureWarning: pandas.Int64Index is deprecated and will be removed from pandas in a future version. Use pandas.Index with the appropriate dtype instead.\n",
            "  from pandas import MultiIndex, Int64Index\n",
            "/home/gitpod/.pyenv/versions/3.8.12/lib/python3.8/site-packages/xgboost/compat.py:93: FutureWarning: pandas.Int64Index is deprecated and will be removed from pandas in a future version. Use pandas.Index with the appropriate dtype instead.\n",
            "  from pandas import MultiIndex, Int64Index\n",
            "/home/gitpod/.pyenv/versions/3.8.12/lib/python3.8/site-packages/xgboost/compat.py:93: FutureWarning: pandas.Int64Index is deprecated and will be removed from pandas in a future version. Use pandas.Index with the appropriate dtype instead.\n",
            "  from pandas import MultiIndex, Int64Index\n",
            "/home/gitpod/.pyenv/versions/3.8.12/lib/python3.8/site-packages/xgboost/compat.py:93: FutureWarning: pandas.Int64Index is deprecated and will be removed from pandas in a future version. Use pandas.Index with the appropriate dtype instead.\n",
            "  from pandas import MultiIndex, Int64Index\n",
            "/home/gitpod/.pyenv/versions/3.8.12/lib/python3.8/site-packages/xgboost/compat.py:93: FutureWarning: pandas.Int64Index is deprecated and will be removed from pandas in a future version. Use pandas.Index with the appropriate dtype instead.\n",
            "  from pandas import MultiIndex, Int64Index\n"
          ]
        },
        {
          "name": "stdout",
          "output_type": "stream",
          "text": [
            "\n",
            "Running GridSearchCV for DecisionTreeClassifier \n",
            "\n",
            "Fitting 5 folds for each of 1 candidates, totalling 5 fits\n",
            "\n",
            "Running GridSearchCV for RandomForestClassifier \n",
            "\n",
            "Fitting 5 folds for each of 1 candidates, totalling 5 fits\n",
            "\n",
            "Running GridSearchCV for GradientBoostingClassifier \n",
            "\n",
            "Fitting 5 folds for each of 1 candidates, totalling 5 fits\n",
            "\n",
            "Running GridSearchCV for ExtraTreesClassifier \n",
            "\n",
            "Fitting 5 folds for each of 1 candidates, totalling 5 fits\n",
            "\n",
            "Running GridSearchCV for AdaBoostClassifier \n",
            "\n",
            "Fitting 5 folds for each of 1 candidates, totalling 5 fits\n"
          ]
        }
      ],
      "source": [
        "from sklearn.metrics import make_scorer, f1_score\n",
        "search = HyperparameterOptimizationSearch(models=models_quick_search, params=params_quick_search)\n",
        "search.fit(X_train, y_train,\n",
        "           scoring =  make_scorer(f1_score, pos_label=1),\n",
        "           n_jobs=-1, cv=5)"
      ]
    },
    {
      "cell_type": "markdown",
      "metadata": {},
      "source": [
        "Check results - will select `AdaBoostClassifier` as best performing model."
      ]
    },
    {
      "cell_type": "code",
      "execution_count": 40,
      "metadata": {},
      "outputs": [
        {
          "data": {
            "text/html": [
              "<div>\n",
              "<style scoped>\n",
              "    .dataframe tbody tr th:only-of-type {\n",
              "        vertical-align: middle;\n",
              "    }\n",
              "\n",
              "    .dataframe tbody tr th {\n",
              "        vertical-align: top;\n",
              "    }\n",
              "\n",
              "    .dataframe thead th {\n",
              "        text-align: right;\n",
              "    }\n",
              "</style>\n",
              "<table border=\"1\" class=\"dataframe\">\n",
              "  <thead>\n",
              "    <tr style=\"text-align: right;\">\n",
              "      <th></th>\n",
              "      <th>estimator</th>\n",
              "      <th>min_score</th>\n",
              "      <th>mean_score</th>\n",
              "      <th>max_score</th>\n",
              "      <th>std_score</th>\n",
              "    </tr>\n",
              "  </thead>\n",
              "  <tbody>\n",
              "    <tr>\n",
              "      <th>6</th>\n",
              "      <td>AdaBoostClassifier</td>\n",
              "      <td>0.99777</td>\n",
              "      <td>0.999108</td>\n",
              "      <td>1.0</td>\n",
              "      <td>0.001093</td>\n",
              "    </tr>\n",
              "    <tr>\n",
              "      <th>3</th>\n",
              "      <td>RandomForestClassifier</td>\n",
              "      <td>0.988218</td>\n",
              "      <td>0.989827</td>\n",
              "      <td>0.992604</td>\n",
              "      <td>0.001491</td>\n",
              "    </tr>\n",
              "    <tr>\n",
              "      <th>5</th>\n",
              "      <td>ExtraTreesClassifier</td>\n",
              "      <td>0.988218</td>\n",
              "      <td>0.989827</td>\n",
              "      <td>0.992604</td>\n",
              "      <td>0.001491</td>\n",
              "    </tr>\n",
              "    <tr>\n",
              "      <th>0</th>\n",
              "      <td>LogisticRegression</td>\n",
              "      <td>0.986765</td>\n",
              "      <td>0.988077</td>\n",
              "      <td>0.989691</td>\n",
              "      <td>0.001168</td>\n",
              "    </tr>\n",
              "    <tr>\n",
              "      <th>1</th>\n",
              "      <td>XGBClassifier</td>\n",
              "      <td>0.98315</td>\n",
              "      <td>0.984599</td>\n",
              "      <td>0.98604</td>\n",
              "      <td>0.001211</td>\n",
              "    </tr>\n",
              "    <tr>\n",
              "      <th>2</th>\n",
              "      <td>DecisionTreeClassifier</td>\n",
              "      <td>0.98315</td>\n",
              "      <td>0.984599</td>\n",
              "      <td>0.98604</td>\n",
              "      <td>0.001211</td>\n",
              "    </tr>\n",
              "    <tr>\n",
              "      <th>4</th>\n",
              "      <td>GradientBoostingClassifier</td>\n",
              "      <td>0.98315</td>\n",
              "      <td>0.984599</td>\n",
              "      <td>0.98604</td>\n",
              "      <td>0.001211</td>\n",
              "    </tr>\n",
              "  </tbody>\n",
              "</table>\n",
              "</div>"
            ],
            "text/plain": [
              "                    estimator min_score mean_score max_score std_score\n",
              "6          AdaBoostClassifier   0.99777   0.999108       1.0  0.001093\n",
              "3      RandomForestClassifier  0.988218   0.989827  0.992604  0.001491\n",
              "5        ExtraTreesClassifier  0.988218   0.989827  0.992604  0.001491\n",
              "0          LogisticRegression  0.986765   0.988077  0.989691  0.001168\n",
              "1               XGBClassifier   0.98315   0.984599   0.98604  0.001211\n",
              "2      DecisionTreeClassifier   0.98315   0.984599   0.98604  0.001211\n",
              "4  GradientBoostingClassifier   0.98315   0.984599   0.98604  0.001211"
            ]
          },
          "execution_count": 40,
          "metadata": {},
          "output_type": "execute_result"
        }
      ],
      "source": [
        "grid_search_summary, grid_search_pipelines = search.score_summary(sort_by='mean_score')\n",
        "grid_search_summary "
      ]
    },
    {
      "cell_type": "markdown",
      "metadata": {},
      "source": [
        "Define a set of hyperparameters for `AdaBoostClassifier` to perform the grid search over."
      ]
    },
    {
      "cell_type": "code",
      "execution_count": 41,
      "metadata": {},
      "outputs": [],
      "source": [
        "models_search = {\n",
        "    \"AdaBoostClassifier\":AdaBoostClassifier(random_state=0),\n",
        "}\n",
        "\n",
        "params_search = {\n",
        "    \"AdaBoostClassifier\":{\n",
        "        'model__n_estimators': [10, 25, 50, 100, 500],\n",
        "        'model__learning_rate': [0.01, 0.05, 0.2, 1],\n",
        "        'model__base_estimator': [DecisionTreeClassifier(max_depth=1), DecisionTreeClassifier(max_depth=3), DecisionTreeClassifier(max_depth=5)]\n",
        "    }\n",
        "}"
      ]
    },
    {
      "cell_type": "markdown",
      "metadata": {},
      "source": [
        "Extensive GridSearch CV - Binary Classifier. As we need to optimize with respect to the precision and recall on edibility, we will set the scorer to f1_score, a metric that includes the two. "
      ]
    },
    {
      "cell_type": "code",
      "execution_count": 42,
      "metadata": {},
      "outputs": [
        {
          "name": "stdout",
          "output_type": "stream",
          "text": [
            "\n",
            "Running GridSearchCV for AdaBoostClassifier \n",
            "\n",
            "Fitting 5 folds for each of 60 candidates, totalling 300 fits\n"
          ]
        }
      ],
      "source": [
        "from sklearn.metrics import make_scorer, f1_score\n",
        "search = HyperparameterOptimizationSearch(models=models_search, params=params_search)\n",
        "search.fit(X_train, y_train,\n",
        "           scoring = make_scorer(f1_score, pos_label=1),\n",
        "           n_jobs=-1, cv=5)"
      ]
    },
    {
      "cell_type": "markdown",
      "metadata": {},
      "source": [
        "Check results"
      ]
    },
    {
      "cell_type": "code",
      "execution_count": 43,
      "metadata": {},
      "outputs": [
        {
          "data": {
            "text/html": [
              "<div>\n",
              "<style scoped>\n",
              "    .dataframe tbody tr th:only-of-type {\n",
              "        vertical-align: middle;\n",
              "    }\n",
              "\n",
              "    .dataframe tbody tr th {\n",
              "        vertical-align: top;\n",
              "    }\n",
              "\n",
              "    .dataframe thead th {\n",
              "        text-align: right;\n",
              "    }\n",
              "</style>\n",
              "<table border=\"1\" class=\"dataframe\">\n",
              "  <thead>\n",
              "    <tr style=\"text-align: right;\">\n",
              "      <th></th>\n",
              "      <th>estimator</th>\n",
              "      <th>min_score</th>\n",
              "      <th>mean_score</th>\n",
              "      <th>max_score</th>\n",
              "      <th>std_score</th>\n",
              "      <th>model__base_estimator</th>\n",
              "      <th>model__learning_rate</th>\n",
              "      <th>model__n_estimators</th>\n",
              "    </tr>\n",
              "  </thead>\n",
              "  <tbody>\n",
              "    <tr>\n",
              "      <th>30</th>\n",
              "      <td>AdaBoostClassifier</td>\n",
              "      <td>1.0</td>\n",
              "      <td>1.0</td>\n",
              "      <td>1.0</td>\n",
              "      <td>0.0</td>\n",
              "      <td>DecisionTreeClassifier(max_depth=3)</td>\n",
              "      <td>0.2</td>\n",
              "      <td>10</td>\n",
              "    </tr>\n",
              "    <tr>\n",
              "      <th>46</th>\n",
              "      <td>AdaBoostClassifier</td>\n",
              "      <td>1.0</td>\n",
              "      <td>1.0</td>\n",
              "      <td>1.0</td>\n",
              "      <td>0.0</td>\n",
              "      <td>DecisionTreeClassifier(max_depth=5)</td>\n",
              "      <td>0.05</td>\n",
              "      <td>25</td>\n",
              "    </tr>\n",
              "    <tr>\n",
              "      <th>29</th>\n",
              "      <td>AdaBoostClassifier</td>\n",
              "      <td>1.0</td>\n",
              "      <td>1.0</td>\n",
              "      <td>1.0</td>\n",
              "      <td>0.0</td>\n",
              "      <td>DecisionTreeClassifier(max_depth=3)</td>\n",
              "      <td>0.05</td>\n",
              "      <td>500</td>\n",
              "    </tr>\n",
              "    <tr>\n",
              "      <th>31</th>\n",
              "      <td>AdaBoostClassifier</td>\n",
              "      <td>1.0</td>\n",
              "      <td>1.0</td>\n",
              "      <td>1.0</td>\n",
              "      <td>0.0</td>\n",
              "      <td>DecisionTreeClassifier(max_depth=3)</td>\n",
              "      <td>0.2</td>\n",
              "      <td>25</td>\n",
              "    </tr>\n",
              "    <tr>\n",
              "      <th>32</th>\n",
              "      <td>AdaBoostClassifier</td>\n",
              "      <td>1.0</td>\n",
              "      <td>1.0</td>\n",
              "      <td>1.0</td>\n",
              "      <td>0.0</td>\n",
              "      <td>DecisionTreeClassifier(max_depth=3)</td>\n",
              "      <td>0.2</td>\n",
              "      <td>50</td>\n",
              "    </tr>\n",
              "    <tr>\n",
              "      <th>33</th>\n",
              "      <td>AdaBoostClassifier</td>\n",
              "      <td>1.0</td>\n",
              "      <td>1.0</td>\n",
              "      <td>1.0</td>\n",
              "      <td>0.0</td>\n",
              "      <td>DecisionTreeClassifier(max_depth=3)</td>\n",
              "      <td>0.2</td>\n",
              "      <td>100</td>\n",
              "    </tr>\n",
              "    <tr>\n",
              "      <th>34</th>\n",
              "      <td>AdaBoostClassifier</td>\n",
              "      <td>1.0</td>\n",
              "      <td>1.0</td>\n",
              "      <td>1.0</td>\n",
              "      <td>0.0</td>\n",
              "      <td>DecisionTreeClassifier(max_depth=3)</td>\n",
              "      <td>0.2</td>\n",
              "      <td>500</td>\n",
              "    </tr>\n",
              "    <tr>\n",
              "      <th>35</th>\n",
              "      <td>AdaBoostClassifier</td>\n",
              "      <td>1.0</td>\n",
              "      <td>1.0</td>\n",
              "      <td>1.0</td>\n",
              "      <td>0.0</td>\n",
              "      <td>DecisionTreeClassifier(max_depth=3)</td>\n",
              "      <td>1</td>\n",
              "      <td>10</td>\n",
              "    </tr>\n",
              "    <tr>\n",
              "      <th>36</th>\n",
              "      <td>AdaBoostClassifier</td>\n",
              "      <td>1.0</td>\n",
              "      <td>1.0</td>\n",
              "      <td>1.0</td>\n",
              "      <td>0.0</td>\n",
              "      <td>DecisionTreeClassifier(max_depth=3)</td>\n",
              "      <td>1</td>\n",
              "      <td>25</td>\n",
              "    </tr>\n",
              "    <tr>\n",
              "      <th>37</th>\n",
              "      <td>AdaBoostClassifier</td>\n",
              "      <td>1.0</td>\n",
              "      <td>1.0</td>\n",
              "      <td>1.0</td>\n",
              "      <td>0.0</td>\n",
              "      <td>DecisionTreeClassifier(max_depth=3)</td>\n",
              "      <td>1</td>\n",
              "      <td>50</td>\n",
              "    </tr>\n",
              "    <tr>\n",
              "      <th>38</th>\n",
              "      <td>AdaBoostClassifier</td>\n",
              "      <td>1.0</td>\n",
              "      <td>1.0</td>\n",
              "      <td>1.0</td>\n",
              "      <td>0.0</td>\n",
              "      <td>DecisionTreeClassifier(max_depth=3)</td>\n",
              "      <td>1</td>\n",
              "      <td>100</td>\n",
              "    </tr>\n",
              "    <tr>\n",
              "      <th>39</th>\n",
              "      <td>AdaBoostClassifier</td>\n",
              "      <td>1.0</td>\n",
              "      <td>1.0</td>\n",
              "      <td>1.0</td>\n",
              "      <td>0.0</td>\n",
              "      <td>DecisionTreeClassifier(max_depth=3)</td>\n",
              "      <td>1</td>\n",
              "      <td>500</td>\n",
              "    </tr>\n",
              "    <tr>\n",
              "      <th>45</th>\n",
              "      <td>AdaBoostClassifier</td>\n",
              "      <td>1.0</td>\n",
              "      <td>1.0</td>\n",
              "      <td>1.0</td>\n",
              "      <td>0.0</td>\n",
              "      <td>DecisionTreeClassifier(max_depth=5)</td>\n",
              "      <td>0.05</td>\n",
              "      <td>10</td>\n",
              "    </tr>\n",
              "    <tr>\n",
              "      <th>47</th>\n",
              "      <td>AdaBoostClassifier</td>\n",
              "      <td>1.0</td>\n",
              "      <td>1.0</td>\n",
              "      <td>1.0</td>\n",
              "      <td>0.0</td>\n",
              "      <td>DecisionTreeClassifier(max_depth=5)</td>\n",
              "      <td>0.05</td>\n",
              "      <td>50</td>\n",
              "    </tr>\n",
              "    <tr>\n",
              "      <th>27</th>\n",
              "      <td>AdaBoostClassifier</td>\n",
              "      <td>1.0</td>\n",
              "      <td>1.0</td>\n",
              "      <td>1.0</td>\n",
              "      <td>0.0</td>\n",
              "      <td>DecisionTreeClassifier(max_depth=3)</td>\n",
              "      <td>0.05</td>\n",
              "      <td>50</td>\n",
              "    </tr>\n",
              "    <tr>\n",
              "      <th>48</th>\n",
              "      <td>AdaBoostClassifier</td>\n",
              "      <td>1.0</td>\n",
              "      <td>1.0</td>\n",
              "      <td>1.0</td>\n",
              "      <td>0.0</td>\n",
              "      <td>DecisionTreeClassifier(max_depth=5)</td>\n",
              "      <td>0.05</td>\n",
              "      <td>100</td>\n",
              "    </tr>\n",
              "    <tr>\n",
              "      <th>49</th>\n",
              "      <td>AdaBoostClassifier</td>\n",
              "      <td>1.0</td>\n",
              "      <td>1.0</td>\n",
              "      <td>1.0</td>\n",
              "      <td>0.0</td>\n",
              "      <td>DecisionTreeClassifier(max_depth=5)</td>\n",
              "      <td>0.05</td>\n",
              "      <td>500</td>\n",
              "    </tr>\n",
              "    <tr>\n",
              "      <th>50</th>\n",
              "      <td>AdaBoostClassifier</td>\n",
              "      <td>1.0</td>\n",
              "      <td>1.0</td>\n",
              "      <td>1.0</td>\n",
              "      <td>0.0</td>\n",
              "      <td>DecisionTreeClassifier(max_depth=5)</td>\n",
              "      <td>0.2</td>\n",
              "      <td>10</td>\n",
              "    </tr>\n",
              "    <tr>\n",
              "      <th>51</th>\n",
              "      <td>AdaBoostClassifier</td>\n",
              "      <td>1.0</td>\n",
              "      <td>1.0</td>\n",
              "      <td>1.0</td>\n",
              "      <td>0.0</td>\n",
              "      <td>DecisionTreeClassifier(max_depth=5)</td>\n",
              "      <td>0.2</td>\n",
              "      <td>25</td>\n",
              "    </tr>\n",
              "    <tr>\n",
              "      <th>52</th>\n",
              "      <td>AdaBoostClassifier</td>\n",
              "      <td>1.0</td>\n",
              "      <td>1.0</td>\n",
              "      <td>1.0</td>\n",
              "      <td>0.0</td>\n",
              "      <td>DecisionTreeClassifier(max_depth=5)</td>\n",
              "      <td>0.2</td>\n",
              "      <td>50</td>\n",
              "    </tr>\n",
              "    <tr>\n",
              "      <th>53</th>\n",
              "      <td>AdaBoostClassifier</td>\n",
              "      <td>1.0</td>\n",
              "      <td>1.0</td>\n",
              "      <td>1.0</td>\n",
              "      <td>0.0</td>\n",
              "      <td>DecisionTreeClassifier(max_depth=5)</td>\n",
              "      <td>0.2</td>\n",
              "      <td>100</td>\n",
              "    </tr>\n",
              "    <tr>\n",
              "      <th>54</th>\n",
              "      <td>AdaBoostClassifier</td>\n",
              "      <td>1.0</td>\n",
              "      <td>1.0</td>\n",
              "      <td>1.0</td>\n",
              "      <td>0.0</td>\n",
              "      <td>DecisionTreeClassifier(max_depth=5)</td>\n",
              "      <td>0.2</td>\n",
              "      <td>500</td>\n",
              "    </tr>\n",
              "    <tr>\n",
              "      <th>55</th>\n",
              "      <td>AdaBoostClassifier</td>\n",
              "      <td>1.0</td>\n",
              "      <td>1.0</td>\n",
              "      <td>1.0</td>\n",
              "      <td>0.0</td>\n",
              "      <td>DecisionTreeClassifier(max_depth=5)</td>\n",
              "      <td>1</td>\n",
              "      <td>10</td>\n",
              "    </tr>\n",
              "    <tr>\n",
              "      <th>56</th>\n",
              "      <td>AdaBoostClassifier</td>\n",
              "      <td>1.0</td>\n",
              "      <td>1.0</td>\n",
              "      <td>1.0</td>\n",
              "      <td>0.0</td>\n",
              "      <td>DecisionTreeClassifier(max_depth=5)</td>\n",
              "      <td>1</td>\n",
              "      <td>25</td>\n",
              "    </tr>\n",
              "    <tr>\n",
              "      <th>57</th>\n",
              "      <td>AdaBoostClassifier</td>\n",
              "      <td>1.0</td>\n",
              "      <td>1.0</td>\n",
              "      <td>1.0</td>\n",
              "      <td>0.0</td>\n",
              "      <td>DecisionTreeClassifier(max_depth=5)</td>\n",
              "      <td>1</td>\n",
              "      <td>50</td>\n",
              "    </tr>\n",
              "    <tr>\n",
              "      <th>58</th>\n",
              "      <td>AdaBoostClassifier</td>\n",
              "      <td>1.0</td>\n",
              "      <td>1.0</td>\n",
              "      <td>1.0</td>\n",
              "      <td>0.0</td>\n",
              "      <td>DecisionTreeClassifier(max_depth=5)</td>\n",
              "      <td>1</td>\n",
              "      <td>100</td>\n",
              "    </tr>\n",
              "    <tr>\n",
              "      <th>28</th>\n",
              "      <td>AdaBoostClassifier</td>\n",
              "      <td>1.0</td>\n",
              "      <td>1.0</td>\n",
              "      <td>1.0</td>\n",
              "      <td>0.0</td>\n",
              "      <td>DecisionTreeClassifier(max_depth=3)</td>\n",
              "      <td>0.05</td>\n",
              "      <td>100</td>\n",
              "    </tr>\n",
              "    <tr>\n",
              "      <th>59</th>\n",
              "      <td>AdaBoostClassifier</td>\n",
              "      <td>1.0</td>\n",
              "      <td>1.0</td>\n",
              "      <td>1.0</td>\n",
              "      <td>0.0</td>\n",
              "      <td>DecisionTreeClassifier(max_depth=5)</td>\n",
              "      <td>1</td>\n",
              "      <td>500</td>\n",
              "    </tr>\n",
              "    <tr>\n",
              "      <th>24</th>\n",
              "      <td>AdaBoostClassifier</td>\n",
              "      <td>1.0</td>\n",
              "      <td>1.0</td>\n",
              "      <td>1.0</td>\n",
              "      <td>0.0</td>\n",
              "      <td>DecisionTreeClassifier(max_depth=3)</td>\n",
              "      <td>0.01</td>\n",
              "      <td>500</td>\n",
              "    </tr>\n",
              "    <tr>\n",
              "      <th>14</th>\n",
              "      <td>AdaBoostClassifier</td>\n",
              "      <td>0.99777</td>\n",
              "      <td>0.999554</td>\n",
              "      <td>1.0</td>\n",
              "      <td>0.000892</td>\n",
              "      <td>DecisionTreeClassifier(max_depth=1)</td>\n",
              "      <td>0.2</td>\n",
              "      <td>500</td>\n",
              "    </tr>\n",
              "    <tr>\n",
              "      <th>19</th>\n",
              "      <td>AdaBoostClassifier</td>\n",
              "      <td>0.99777</td>\n",
              "      <td>0.999554</td>\n",
              "      <td>1.0</td>\n",
              "      <td>0.000892</td>\n",
              "      <td>DecisionTreeClassifier(max_depth=1)</td>\n",
              "      <td>1</td>\n",
              "      <td>500</td>\n",
              "    </tr>\n",
              "    <tr>\n",
              "      <th>18</th>\n",
              "      <td>AdaBoostClassifier</td>\n",
              "      <td>0.99777</td>\n",
              "      <td>0.999554</td>\n",
              "      <td>1.0</td>\n",
              "      <td>0.000892</td>\n",
              "      <td>DecisionTreeClassifier(max_depth=1)</td>\n",
              "      <td>1</td>\n",
              "      <td>100</td>\n",
              "    </tr>\n",
              "    <tr>\n",
              "      <th>44</th>\n",
              "      <td>AdaBoostClassifier</td>\n",
              "      <td>0.997028</td>\n",
              "      <td>0.999406</td>\n",
              "      <td>1.0</td>\n",
              "      <td>0.001189</td>\n",
              "      <td>DecisionTreeClassifier(max_depth=5)</td>\n",
              "      <td>0.01</td>\n",
              "      <td>500</td>\n",
              "    </tr>\n",
              "    <tr>\n",
              "      <th>43</th>\n",
              "      <td>AdaBoostClassifier</td>\n",
              "      <td>0.997028</td>\n",
              "      <td>0.999406</td>\n",
              "      <td>1.0</td>\n",
              "      <td>0.001189</td>\n",
              "      <td>DecisionTreeClassifier(max_depth=5)</td>\n",
              "      <td>0.01</td>\n",
              "      <td>100</td>\n",
              "    </tr>\n",
              "    <tr>\n",
              "      <th>42</th>\n",
              "      <td>AdaBoostClassifier</td>\n",
              "      <td>0.997028</td>\n",
              "      <td>0.999406</td>\n",
              "      <td>1.0</td>\n",
              "      <td>0.001189</td>\n",
              "      <td>DecisionTreeClassifier(max_depth=5)</td>\n",
              "      <td>0.01</td>\n",
              "      <td>50</td>\n",
              "    </tr>\n",
              "    <tr>\n",
              "      <th>41</th>\n",
              "      <td>AdaBoostClassifier</td>\n",
              "      <td>0.997028</td>\n",
              "      <td>0.999406</td>\n",
              "      <td>1.0</td>\n",
              "      <td>0.001189</td>\n",
              "      <td>DecisionTreeClassifier(max_depth=5)</td>\n",
              "      <td>0.01</td>\n",
              "      <td>25</td>\n",
              "    </tr>\n",
              "    <tr>\n",
              "      <th>17</th>\n",
              "      <td>AdaBoostClassifier</td>\n",
              "      <td>0.99777</td>\n",
              "      <td>0.999108</td>\n",
              "      <td>1.0</td>\n",
              "      <td>0.001093</td>\n",
              "      <td>DecisionTreeClassifier(max_depth=1)</td>\n",
              "      <td>1</td>\n",
              "      <td>50</td>\n",
              "    </tr>\n",
              "    <tr>\n",
              "      <th>23</th>\n",
              "      <td>AdaBoostClassifier</td>\n",
              "      <td>0.997028</td>\n",
              "      <td>0.998812</td>\n",
              "      <td>1.0</td>\n",
              "      <td>0.001455</td>\n",
              "      <td>DecisionTreeClassifier(max_depth=3)</td>\n",
              "      <td>0.01</td>\n",
              "      <td>100</td>\n",
              "    </tr>\n",
              "    <tr>\n",
              "      <th>40</th>\n",
              "      <td>AdaBoostClassifier</td>\n",
              "      <td>0.997028</td>\n",
              "      <td>0.998811</td>\n",
              "      <td>1.0</td>\n",
              "      <td>0.001112</td>\n",
              "      <td>DecisionTreeClassifier(max_depth=5)</td>\n",
              "      <td>0.01</td>\n",
              "      <td>10</td>\n",
              "    </tr>\n",
              "    <tr>\n",
              "      <th>26</th>\n",
              "      <td>AdaBoostClassifier</td>\n",
              "      <td>0.994074</td>\n",
              "      <td>0.998369</td>\n",
              "      <td>1.0</td>\n",
              "      <td>0.002314</td>\n",
              "      <td>DecisionTreeClassifier(max_depth=3)</td>\n",
              "      <td>0.05</td>\n",
              "      <td>25</td>\n",
              "    </tr>\n",
              "    <tr>\n",
              "      <th>25</th>\n",
              "      <td>AdaBoostClassifier</td>\n",
              "      <td>0.994811</td>\n",
              "      <td>0.997923</td>\n",
              "      <td>1.0</td>\n",
              "      <td>0.002065</td>\n",
              "      <td>DecisionTreeClassifier(max_depth=3)</td>\n",
              "      <td>0.05</td>\n",
              "      <td>10</td>\n",
              "    </tr>\n",
              "    <tr>\n",
              "      <th>22</th>\n",
              "      <td>AdaBoostClassifier</td>\n",
              "      <td>0.992614</td>\n",
              "      <td>0.996295</td>\n",
              "      <td>0.998512</td>\n",
              "      <td>0.002285</td>\n",
              "      <td>DecisionTreeClassifier(max_depth=3)</td>\n",
              "      <td>0.01</td>\n",
              "      <td>50</td>\n",
              "    </tr>\n",
              "    <tr>\n",
              "      <th>16</th>\n",
              "      <td>AdaBoostClassifier</td>\n",
              "      <td>0.992593</td>\n",
              "      <td>0.995397</td>\n",
              "      <td>0.997773</td>\n",
              "      <td>0.002065</td>\n",
              "      <td>DecisionTreeClassifier(max_depth=1)</td>\n",
              "      <td>1</td>\n",
              "      <td>25</td>\n",
              "    </tr>\n",
              "    <tr>\n",
              "      <th>13</th>\n",
              "      <td>AdaBoostClassifier</td>\n",
              "      <td>0.993338</td>\n",
              "      <td>0.995257</td>\n",
              "      <td>0.997028</td>\n",
              "      <td>0.00137</td>\n",
              "      <td>DecisionTreeClassifier(max_depth=1)</td>\n",
              "      <td>0.2</td>\n",
              "      <td>100</td>\n",
              "    </tr>\n",
              "    <tr>\n",
              "      <th>9</th>\n",
              "      <td>AdaBoostClassifier</td>\n",
              "      <td>0.993338</td>\n",
              "      <td>0.995257</td>\n",
              "      <td>0.997028</td>\n",
              "      <td>0.00137</td>\n",
              "      <td>DecisionTreeClassifier(max_depth=1)</td>\n",
              "      <td>0.05</td>\n",
              "      <td>500</td>\n",
              "    </tr>\n",
              "    <tr>\n",
              "      <th>21</th>\n",
              "      <td>AdaBoostClassifier</td>\n",
              "      <td>0.987491</td>\n",
              "      <td>0.993207</td>\n",
              "      <td>0.998512</td>\n",
              "      <td>0.0037</td>\n",
              "      <td>DecisionTreeClassifier(max_depth=3)</td>\n",
              "      <td>0.01</td>\n",
              "      <td>25</td>\n",
              "    </tr>\n",
              "    <tr>\n",
              "      <th>12</th>\n",
              "      <td>AdaBoostClassifier</td>\n",
              "      <td>0.991137</td>\n",
              "      <td>0.9929</td>\n",
              "      <td>0.994083</td>\n",
              "      <td>0.001195</td>\n",
              "      <td>DecisionTreeClassifier(max_depth=1)</td>\n",
              "      <td>0.2</td>\n",
              "      <td>50</td>\n",
              "    </tr>\n",
              "    <tr>\n",
              "      <th>20</th>\n",
              "      <td>AdaBoostClassifier</td>\n",
              "      <td>0.989676</td>\n",
              "      <td>0.991141</td>\n",
              "      <td>0.992614</td>\n",
              "      <td>0.001038</td>\n",
              "      <td>DecisionTreeClassifier(max_depth=3)</td>\n",
              "      <td>0.01</td>\n",
              "      <td>10</td>\n",
              "    </tr>\n",
              "    <tr>\n",
              "      <th>15</th>\n",
              "      <td>AdaBoostClassifier</td>\n",
              "      <td>0.985294</td>\n",
              "      <td>0.990271</td>\n",
              "      <td>0.994803</td>\n",
              "      <td>0.003678</td>\n",
              "      <td>DecisionTreeClassifier(max_depth=1)</td>\n",
              "      <td>1</td>\n",
              "      <td>10</td>\n",
              "    </tr>\n",
              "    <tr>\n",
              "      <th>11</th>\n",
              "      <td>AdaBoostClassifier</td>\n",
              "      <td>0.98315</td>\n",
              "      <td>0.985611</td>\n",
              "      <td>0.986784</td>\n",
              "      <td>0.001344</td>\n",
              "      <td>DecisionTreeClassifier(max_depth=1)</td>\n",
              "      <td>0.2</td>\n",
              "      <td>25</td>\n",
              "    </tr>\n",
              "    <tr>\n",
              "      <th>8</th>\n",
              "      <td>AdaBoostClassifier</td>\n",
              "      <td>0.98315</td>\n",
              "      <td>0.985321</td>\n",
              "      <td>0.986784</td>\n",
              "      <td>0.001214</td>\n",
              "      <td>DecisionTreeClassifier(max_depth=1)</td>\n",
              "      <td>0.05</td>\n",
              "      <td>100</td>\n",
              "    </tr>\n",
              "    <tr>\n",
              "      <th>4</th>\n",
              "      <td>AdaBoostClassifier</td>\n",
              "      <td>0.98315</td>\n",
              "      <td>0.985321</td>\n",
              "      <td>0.986784</td>\n",
              "      <td>0.001214</td>\n",
              "      <td>DecisionTreeClassifier(max_depth=1)</td>\n",
              "      <td>0.01</td>\n",
              "      <td>500</td>\n",
              "    </tr>\n",
              "    <tr>\n",
              "      <th>5</th>\n",
              "      <td>AdaBoostClassifier</td>\n",
              "      <td>0.98315</td>\n",
              "      <td>0.984599</td>\n",
              "      <td>0.98604</td>\n",
              "      <td>0.001211</td>\n",
              "      <td>DecisionTreeClassifier(max_depth=1)</td>\n",
              "      <td>0.05</td>\n",
              "      <td>10</td>\n",
              "    </tr>\n",
              "    <tr>\n",
              "      <th>2</th>\n",
              "      <td>AdaBoostClassifier</td>\n",
              "      <td>0.98315</td>\n",
              "      <td>0.984599</td>\n",
              "      <td>0.98604</td>\n",
              "      <td>0.001211</td>\n",
              "      <td>DecisionTreeClassifier(max_depth=1)</td>\n",
              "      <td>0.01</td>\n",
              "      <td>50</td>\n",
              "    </tr>\n",
              "    <tr>\n",
              "      <th>3</th>\n",
              "      <td>AdaBoostClassifier</td>\n",
              "      <td>0.98315</td>\n",
              "      <td>0.984599</td>\n",
              "      <td>0.98604</td>\n",
              "      <td>0.001211</td>\n",
              "      <td>DecisionTreeClassifier(max_depth=1)</td>\n",
              "      <td>0.01</td>\n",
              "      <td>100</td>\n",
              "    </tr>\n",
              "    <tr>\n",
              "      <th>10</th>\n",
              "      <td>AdaBoostClassifier</td>\n",
              "      <td>0.98315</td>\n",
              "      <td>0.984599</td>\n",
              "      <td>0.98604</td>\n",
              "      <td>0.001211</td>\n",
              "      <td>DecisionTreeClassifier(max_depth=1)</td>\n",
              "      <td>0.2</td>\n",
              "      <td>10</td>\n",
              "    </tr>\n",
              "    <tr>\n",
              "      <th>6</th>\n",
              "      <td>AdaBoostClassifier</td>\n",
              "      <td>0.98315</td>\n",
              "      <td>0.984599</td>\n",
              "      <td>0.98604</td>\n",
              "      <td>0.001211</td>\n",
              "      <td>DecisionTreeClassifier(max_depth=1)</td>\n",
              "      <td>0.05</td>\n",
              "      <td>25</td>\n",
              "    </tr>\n",
              "    <tr>\n",
              "      <th>7</th>\n",
              "      <td>AdaBoostClassifier</td>\n",
              "      <td>0.98315</td>\n",
              "      <td>0.984599</td>\n",
              "      <td>0.98604</td>\n",
              "      <td>0.001211</td>\n",
              "      <td>DecisionTreeClassifier(max_depth=1)</td>\n",
              "      <td>0.05</td>\n",
              "      <td>50</td>\n",
              "    </tr>\n",
              "    <tr>\n",
              "      <th>1</th>\n",
              "      <td>AdaBoostClassifier</td>\n",
              "      <td>0.98315</td>\n",
              "      <td>0.984599</td>\n",
              "      <td>0.98604</td>\n",
              "      <td>0.001211</td>\n",
              "      <td>DecisionTreeClassifier(max_depth=1)</td>\n",
              "      <td>0.01</td>\n",
              "      <td>25</td>\n",
              "    </tr>\n",
              "    <tr>\n",
              "      <th>0</th>\n",
              "      <td>AdaBoostClassifier</td>\n",
              "      <td>0.98315</td>\n",
              "      <td>0.984599</td>\n",
              "      <td>0.98604</td>\n",
              "      <td>0.001211</td>\n",
              "      <td>DecisionTreeClassifier(max_depth=1)</td>\n",
              "      <td>0.01</td>\n",
              "      <td>10</td>\n",
              "    </tr>\n",
              "  </tbody>\n",
              "</table>\n",
              "</div>"
            ],
            "text/plain": [
              "             estimator min_score mean_score max_score std_score  \\\n",
              "30  AdaBoostClassifier       1.0        1.0       1.0       0.0   \n",
              "46  AdaBoostClassifier       1.0        1.0       1.0       0.0   \n",
              "29  AdaBoostClassifier       1.0        1.0       1.0       0.0   \n",
              "31  AdaBoostClassifier       1.0        1.0       1.0       0.0   \n",
              "32  AdaBoostClassifier       1.0        1.0       1.0       0.0   \n",
              "33  AdaBoostClassifier       1.0        1.0       1.0       0.0   \n",
              "34  AdaBoostClassifier       1.0        1.0       1.0       0.0   \n",
              "35  AdaBoostClassifier       1.0        1.0       1.0       0.0   \n",
              "36  AdaBoostClassifier       1.0        1.0       1.0       0.0   \n",
              "37  AdaBoostClassifier       1.0        1.0       1.0       0.0   \n",
              "38  AdaBoostClassifier       1.0        1.0       1.0       0.0   \n",
              "39  AdaBoostClassifier       1.0        1.0       1.0       0.0   \n",
              "45  AdaBoostClassifier       1.0        1.0       1.0       0.0   \n",
              "47  AdaBoostClassifier       1.0        1.0       1.0       0.0   \n",
              "27  AdaBoostClassifier       1.0        1.0       1.0       0.0   \n",
              "48  AdaBoostClassifier       1.0        1.0       1.0       0.0   \n",
              "49  AdaBoostClassifier       1.0        1.0       1.0       0.0   \n",
              "50  AdaBoostClassifier       1.0        1.0       1.0       0.0   \n",
              "51  AdaBoostClassifier       1.0        1.0       1.0       0.0   \n",
              "52  AdaBoostClassifier       1.0        1.0       1.0       0.0   \n",
              "53  AdaBoostClassifier       1.0        1.0       1.0       0.0   \n",
              "54  AdaBoostClassifier       1.0        1.0       1.0       0.0   \n",
              "55  AdaBoostClassifier       1.0        1.0       1.0       0.0   \n",
              "56  AdaBoostClassifier       1.0        1.0       1.0       0.0   \n",
              "57  AdaBoostClassifier       1.0        1.0       1.0       0.0   \n",
              "58  AdaBoostClassifier       1.0        1.0       1.0       0.0   \n",
              "28  AdaBoostClassifier       1.0        1.0       1.0       0.0   \n",
              "59  AdaBoostClassifier       1.0        1.0       1.0       0.0   \n",
              "24  AdaBoostClassifier       1.0        1.0       1.0       0.0   \n",
              "14  AdaBoostClassifier   0.99777   0.999554       1.0  0.000892   \n",
              "19  AdaBoostClassifier   0.99777   0.999554       1.0  0.000892   \n",
              "18  AdaBoostClassifier   0.99777   0.999554       1.0  0.000892   \n",
              "44  AdaBoostClassifier  0.997028   0.999406       1.0  0.001189   \n",
              "43  AdaBoostClassifier  0.997028   0.999406       1.0  0.001189   \n",
              "42  AdaBoostClassifier  0.997028   0.999406       1.0  0.001189   \n",
              "41  AdaBoostClassifier  0.997028   0.999406       1.0  0.001189   \n",
              "17  AdaBoostClassifier   0.99777   0.999108       1.0  0.001093   \n",
              "23  AdaBoostClassifier  0.997028   0.998812       1.0  0.001455   \n",
              "40  AdaBoostClassifier  0.997028   0.998811       1.0  0.001112   \n",
              "26  AdaBoostClassifier  0.994074   0.998369       1.0  0.002314   \n",
              "25  AdaBoostClassifier  0.994811   0.997923       1.0  0.002065   \n",
              "22  AdaBoostClassifier  0.992614   0.996295  0.998512  0.002285   \n",
              "16  AdaBoostClassifier  0.992593   0.995397  0.997773  0.002065   \n",
              "13  AdaBoostClassifier  0.993338   0.995257  0.997028   0.00137   \n",
              "9   AdaBoostClassifier  0.993338   0.995257  0.997028   0.00137   \n",
              "21  AdaBoostClassifier  0.987491   0.993207  0.998512    0.0037   \n",
              "12  AdaBoostClassifier  0.991137     0.9929  0.994083  0.001195   \n",
              "20  AdaBoostClassifier  0.989676   0.991141  0.992614  0.001038   \n",
              "15  AdaBoostClassifier  0.985294   0.990271  0.994803  0.003678   \n",
              "11  AdaBoostClassifier   0.98315   0.985611  0.986784  0.001344   \n",
              "8   AdaBoostClassifier   0.98315   0.985321  0.986784  0.001214   \n",
              "4   AdaBoostClassifier   0.98315   0.985321  0.986784  0.001214   \n",
              "5   AdaBoostClassifier   0.98315   0.984599   0.98604  0.001211   \n",
              "2   AdaBoostClassifier   0.98315   0.984599   0.98604  0.001211   \n",
              "3   AdaBoostClassifier   0.98315   0.984599   0.98604  0.001211   \n",
              "10  AdaBoostClassifier   0.98315   0.984599   0.98604  0.001211   \n",
              "6   AdaBoostClassifier   0.98315   0.984599   0.98604  0.001211   \n",
              "7   AdaBoostClassifier   0.98315   0.984599   0.98604  0.001211   \n",
              "1   AdaBoostClassifier   0.98315   0.984599   0.98604  0.001211   \n",
              "0   AdaBoostClassifier   0.98315   0.984599   0.98604  0.001211   \n",
              "\n",
              "                  model__base_estimator model__learning_rate  \\\n",
              "30  DecisionTreeClassifier(max_depth=3)                  0.2   \n",
              "46  DecisionTreeClassifier(max_depth=5)                 0.05   \n",
              "29  DecisionTreeClassifier(max_depth=3)                 0.05   \n",
              "31  DecisionTreeClassifier(max_depth=3)                  0.2   \n",
              "32  DecisionTreeClassifier(max_depth=3)                  0.2   \n",
              "33  DecisionTreeClassifier(max_depth=3)                  0.2   \n",
              "34  DecisionTreeClassifier(max_depth=3)                  0.2   \n",
              "35  DecisionTreeClassifier(max_depth=3)                    1   \n",
              "36  DecisionTreeClassifier(max_depth=3)                    1   \n",
              "37  DecisionTreeClassifier(max_depth=3)                    1   \n",
              "38  DecisionTreeClassifier(max_depth=3)                    1   \n",
              "39  DecisionTreeClassifier(max_depth=3)                    1   \n",
              "45  DecisionTreeClassifier(max_depth=5)                 0.05   \n",
              "47  DecisionTreeClassifier(max_depth=5)                 0.05   \n",
              "27  DecisionTreeClassifier(max_depth=3)                 0.05   \n",
              "48  DecisionTreeClassifier(max_depth=5)                 0.05   \n",
              "49  DecisionTreeClassifier(max_depth=5)                 0.05   \n",
              "50  DecisionTreeClassifier(max_depth=5)                  0.2   \n",
              "51  DecisionTreeClassifier(max_depth=5)                  0.2   \n",
              "52  DecisionTreeClassifier(max_depth=5)                  0.2   \n",
              "53  DecisionTreeClassifier(max_depth=5)                  0.2   \n",
              "54  DecisionTreeClassifier(max_depth=5)                  0.2   \n",
              "55  DecisionTreeClassifier(max_depth=5)                    1   \n",
              "56  DecisionTreeClassifier(max_depth=5)                    1   \n",
              "57  DecisionTreeClassifier(max_depth=5)                    1   \n",
              "58  DecisionTreeClassifier(max_depth=5)                    1   \n",
              "28  DecisionTreeClassifier(max_depth=3)                 0.05   \n",
              "59  DecisionTreeClassifier(max_depth=5)                    1   \n",
              "24  DecisionTreeClassifier(max_depth=3)                 0.01   \n",
              "14  DecisionTreeClassifier(max_depth=1)                  0.2   \n",
              "19  DecisionTreeClassifier(max_depth=1)                    1   \n",
              "18  DecisionTreeClassifier(max_depth=1)                    1   \n",
              "44  DecisionTreeClassifier(max_depth=5)                 0.01   \n",
              "43  DecisionTreeClassifier(max_depth=5)                 0.01   \n",
              "42  DecisionTreeClassifier(max_depth=5)                 0.01   \n",
              "41  DecisionTreeClassifier(max_depth=5)                 0.01   \n",
              "17  DecisionTreeClassifier(max_depth=1)                    1   \n",
              "23  DecisionTreeClassifier(max_depth=3)                 0.01   \n",
              "40  DecisionTreeClassifier(max_depth=5)                 0.01   \n",
              "26  DecisionTreeClassifier(max_depth=3)                 0.05   \n",
              "25  DecisionTreeClassifier(max_depth=3)                 0.05   \n",
              "22  DecisionTreeClassifier(max_depth=3)                 0.01   \n",
              "16  DecisionTreeClassifier(max_depth=1)                    1   \n",
              "13  DecisionTreeClassifier(max_depth=1)                  0.2   \n",
              "9   DecisionTreeClassifier(max_depth=1)                 0.05   \n",
              "21  DecisionTreeClassifier(max_depth=3)                 0.01   \n",
              "12  DecisionTreeClassifier(max_depth=1)                  0.2   \n",
              "20  DecisionTreeClassifier(max_depth=3)                 0.01   \n",
              "15  DecisionTreeClassifier(max_depth=1)                    1   \n",
              "11  DecisionTreeClassifier(max_depth=1)                  0.2   \n",
              "8   DecisionTreeClassifier(max_depth=1)                 0.05   \n",
              "4   DecisionTreeClassifier(max_depth=1)                 0.01   \n",
              "5   DecisionTreeClassifier(max_depth=1)                 0.05   \n",
              "2   DecisionTreeClassifier(max_depth=1)                 0.01   \n",
              "3   DecisionTreeClassifier(max_depth=1)                 0.01   \n",
              "10  DecisionTreeClassifier(max_depth=1)                  0.2   \n",
              "6   DecisionTreeClassifier(max_depth=1)                 0.05   \n",
              "7   DecisionTreeClassifier(max_depth=1)                 0.05   \n",
              "1   DecisionTreeClassifier(max_depth=1)                 0.01   \n",
              "0   DecisionTreeClassifier(max_depth=1)                 0.01   \n",
              "\n",
              "   model__n_estimators  \n",
              "30                  10  \n",
              "46                  25  \n",
              "29                 500  \n",
              "31                  25  \n",
              "32                  50  \n",
              "33                 100  \n",
              "34                 500  \n",
              "35                  10  \n",
              "36                  25  \n",
              "37                  50  \n",
              "38                 100  \n",
              "39                 500  \n",
              "45                  10  \n",
              "47                  50  \n",
              "27                  50  \n",
              "48                 100  \n",
              "49                 500  \n",
              "50                  10  \n",
              "51                  25  \n",
              "52                  50  \n",
              "53                 100  \n",
              "54                 500  \n",
              "55                  10  \n",
              "56                  25  \n",
              "57                  50  \n",
              "58                 100  \n",
              "28                 100  \n",
              "59                 500  \n",
              "24                 500  \n",
              "14                 500  \n",
              "19                 500  \n",
              "18                 100  \n",
              "44                 500  \n",
              "43                 100  \n",
              "42                  50  \n",
              "41                  25  \n",
              "17                  50  \n",
              "23                 100  \n",
              "40                  10  \n",
              "26                  25  \n",
              "25                  10  \n",
              "22                  50  \n",
              "16                  25  \n",
              "13                 100  \n",
              "9                  500  \n",
              "21                  25  \n",
              "12                  50  \n",
              "20                  10  \n",
              "15                  10  \n",
              "11                  25  \n",
              "8                  100  \n",
              "4                  500  \n",
              "5                   10  \n",
              "2                   50  \n",
              "3                  100  \n",
              "10                  10  \n",
              "6                   25  \n",
              "7                   50  \n",
              "1                   25  \n",
              "0                   10  "
            ]
          },
          "execution_count": 43,
          "metadata": {},
          "output_type": "execute_result"
        }
      ],
      "source": [
        "grid_search_summary, grid_search_pipelines = search.score_summary(sort_by='mean_score')\n",
        "grid_search_summary "
      ]
    },
    {
      "cell_type": "markdown",
      "metadata": {},
      "source": [
        "Get best model name"
      ]
    },
    {
      "cell_type": "code",
      "execution_count": 45,
      "metadata": {},
      "outputs": [
        {
          "data": {
            "text/plain": [
              "'AdaBoostClassifier'"
            ]
          },
          "execution_count": 45,
          "metadata": {},
          "output_type": "execute_result"
        }
      ],
      "source": [
        "best_model = grid_search_summary.iloc[0,0]\n",
        "best_model"
      ]
    },
    {
      "cell_type": "markdown",
      "metadata": {},
      "source": [
        "Get parameters for best model"
      ]
    },
    {
      "cell_type": "code",
      "execution_count": 44,
      "metadata": {},
      "outputs": [
        {
          "data": {
            "text/plain": [
              "{'model__base_estimator': DecisionTreeClassifier(max_depth=3),\n",
              " 'model__learning_rate': 0.01,\n",
              " 'model__n_estimators': 500}"
            ]
          },
          "execution_count": 44,
          "metadata": {},
          "output_type": "execute_result"
        }
      ],
      "source": [
        "best_parameters = grid_search_pipelines[best_model].best_params_\n",
        "best_parameters"
      ]
    },
    {
      "cell_type": "markdown",
      "metadata": {},
      "source": [
        "Define the best clf pipeline by pulling it from the `HyperparameterOptimizationSearch` search object"
      ]
    },
    {
      "cell_type": "code",
      "execution_count": null,
      "metadata": {},
      "outputs": [],
      "source": [
        "pipeline_clf = grid_search_pipelines[best_model].best_estimator_\n",
        "pipeline_clf"
      ]
    },
    {
      "cell_type": "markdown",
      "metadata": {},
      "source": [
        "## Assess feature importance"
      ]
    },
    {
      "cell_type": "code",
      "execution_count": null,
      "metadata": {},
      "outputs": [],
      "source": [
        "X_train.head()"
      ]
    },
    {
      "cell_type": "markdown",
      "metadata": {},
      "source": [
        "Using current model, can assess feature importance from model `.feature_importances_`"
      ]
    },
    {
      "cell_type": "code",
      "execution_count": null,
      "metadata": {},
      "outputs": [],
      "source": [
        "# create DataFrame to display feature importance\n",
        "df_feature_importance = (pd.DataFrame(data={\n",
        "    'Feature': X_train.columns[pipeline_clf['feat_selection'].get_support()],\n",
        "    'Importance': pipeline_clf['model'].feature_importances_})\n",
        "    .sort_values(by='Importance', ascending=False)\n",
        ")\n",
        "\n",
        "# re-assign best_features order\n",
        "best_features = df_feature_importance['Feature'].to_list()\n",
        "\n",
        "# Most important features statement and plot\n",
        "print(f\"* These are the {len(best_features)} most important features in descending order. \"\n",
        "      f\"The model was trained on them: \\n{df_feature_importance['Feature'].to_list()}\")\n",
        "\n",
        "df_feature_importance.plot(kind='bar', x='Feature', y='Importance')\n",
        "plt.show()"
      ]
    },
    {
      "cell_type": "markdown",
      "metadata": {},
      "source": [
        "## Evaluate Pipeline on Train and Test Sets"
      ]
    },
    {
      "cell_type": "code",
      "execution_count": null,
      "metadata": {},
      "outputs": [],
      "source": [
        "from sklearn.metrics import classification_report, confusion_matrix\n",
        "\n",
        "\n",
        "def confusion_matrix_and_report(X, y, pipeline, label_map):\n",
        "    \"\"\" Displays the confusion matrix and classification report for a give model \"\"\"\n",
        "    prediction = pipeline.predict(X)\n",
        "\n",
        "    print('---  Confusion Matrix  ---')\n",
        "    print(pd.DataFrame(confusion_matrix(y_true=prediction, y_pred=y),\n",
        "            columns=[[\"Actual \" + sub for sub in label_map]],\n",
        "            index=[[\"Prediction \" + sub for sub in label_map]]\n",
        "          ))\n",
        "    print(\"\\n\")\n",
        "\n",
        "    print('---  Classification Report  ---')\n",
        "    print(classification_report(y, prediction, target_names=label_map), \"\\n\")\n",
        "\n",
        "\n",
        "def clf_performance(X_train, y_train, X_test, y_test, pipeline, label_map):\n",
        "    \"\"\" Calls confusion_matrix_and_report for the train and test set \"\"\"\n",
        "    print(\"#### Train Set #### \\n\")\n",
        "    confusion_matrix_and_report(X_train, y_train, pipeline, label_map)\n",
        "\n",
        "    print(\"#### Test Set ####\\n\")\n",
        "    confusion_matrix_and_report(X_test, y_test, pipeline, label_map)"
      ]
    },
    {
      "cell_type": "markdown",
      "metadata": {},
      "source": [
        "Evaluation: We cross check with metrics defined in the ML business case\n",
        "\n",
        "* A precision of 1 on predicting whether a mushroom is edible\n",
        "* A recall of at least 0.9 on predicting if a mushroom is edible"
      ]
    },
    {
      "cell_type": "code",
      "execution_count": null,
      "metadata": {},
      "outputs": [],
      "source": [
        "clf_performance(X_train=X_train, y_train=y_train,\n",
        "                X_test=X_test, y_test=y_test,\n",
        "                pipeline=pipeline_clf,\n",
        "                label_map=['poisonous', 'edible']\n",
        "                )"
      ]
    },
    {
      "cell_type": "markdown",
      "metadata": {},
      "source": [
        "The model performs at the required level of precision and recall on the test set, and therefore is useable for the business case."
      ]
    },
    {
      "cell_type": "markdown",
      "metadata": {},
      "source": [
        "## Push files to Repo"
      ]
    },
    {
      "cell_type": "markdown",
      "metadata": {},
      "source": [
        "Will generate following files\n",
        "* Train set\n",
        "* Test set\n",
        "* Data cleaning and Feature Engineering pipeline\n",
        "* Modeling pipeline\n",
        "* Features importance plot"
      ]
    },
    {
      "cell_type": "code",
      "execution_count": null,
      "metadata": {},
      "outputs": [],
      "source": [
        "import joblib\n",
        "import os\n",
        "\n",
        "version = 'v1'\n",
        "file_path = f'outputs/ml_pipeline/predict_edible/{version}'\n",
        "\n",
        "try:\n",
        "    os.makedirs(name=file_path)\n",
        "except Exception as e:\n",
        "    print(e)"
      ]
    },
    {
      "cell_type": "markdown",
      "metadata": {},
      "source": [
        "## Train Set"
      ]
    },
    {
      "cell_type": "markdown",
      "metadata": {},
      "source": [
        "Variables are already transformed, and SMOTE has been applied"
      ]
    },
    {
      "cell_type": "code",
      "execution_count": null,
      "metadata": {},
      "outputs": [],
      "source": [
        "print(X_train.shape)\n",
        "X_train.head()"
      ]
    },
    {
      "cell_type": "code",
      "execution_count": null,
      "metadata": {},
      "outputs": [],
      "source": [
        "X_train.to_csv(f\"{file_path}/X_train.csv\", index=False)"
      ]
    },
    {
      "cell_type": "code",
      "execution_count": null,
      "metadata": {},
      "outputs": [],
      "source": [
        "y_train"
      ]
    },
    {
      "cell_type": "code",
      "execution_count": null,
      "metadata": {},
      "outputs": [],
      "source": [
        "y_train.to_csv(f\"{file_path}/y_train.csv\", index=False)"
      ]
    },
    {
      "cell_type": "markdown",
      "metadata": {},
      "source": [
        "## Test Set"
      ]
    },
    {
      "cell_type": "markdown",
      "metadata": {},
      "source": [
        "Variables are already transformed"
      ]
    },
    {
      "cell_type": "code",
      "execution_count": null,
      "metadata": {},
      "outputs": [],
      "source": [
        "print(X_test.shape)\n",
        "X_test.head()"
      ]
    },
    {
      "cell_type": "code",
      "execution_count": null,
      "metadata": {},
      "outputs": [],
      "source": [
        "X_test.to_csv(f\"{file_path}/X_test.csv\", index=False)"
      ]
    },
    {
      "cell_type": "code",
      "execution_count": null,
      "metadata": {},
      "outputs": [],
      "source": [
        "y_test"
      ]
    },
    {
      "cell_type": "code",
      "execution_count": null,
      "metadata": {},
      "outputs": [],
      "source": [
        "y_test.to_csv(f\"{file_path}/y_test.csv\", index=False)"
      ]
    },
    {
      "cell_type": "markdown",
      "metadata": {},
      "source": [
        "## ML Pipelines: Data Cleaning and Feat Eng pipeline and Modelling Pipeline"
      ]
    },
    {
      "cell_type": "markdown",
      "metadata": {},
      "source": [
        "Will save 2 pipelines:\n",
        "* Both will be used sequentially to predict Live Data.\n",
        "* To predict on Train Set/Test Set, only use pipeline_clf since the data is already processed.\n",
        "\n",
        "Pipeline for Data Cleaning and Feature Engineering"
      ]
    },
    {
      "cell_type": "code",
      "execution_count": null,
      "metadata": {},
      "outputs": [],
      "source": [
        "pipeline_data_cleaning_feat_eng"
      ]
    },
    {
      "cell_type": "code",
      "execution_count": null,
      "metadata": {},
      "outputs": [],
      "source": [
        "joblib.dump(value=pipeline_data_cleaning_feat_eng ,\n",
        "            filename=f\"{file_path}/clf_pipeline_feat_eng.pkl\")"
      ]
    },
    {
      "cell_type": "markdown",
      "metadata": {},
      "source": [
        "Pipeline for feature scaling and model"
      ]
    },
    {
      "cell_type": "code",
      "execution_count": null,
      "metadata": {},
      "outputs": [],
      "source": [
        "pipeline_clf"
      ]
    },
    {
      "cell_type": "code",
      "execution_count": null,
      "metadata": {},
      "outputs": [],
      "source": [
        "joblib.dump(value=pipeline_clf ,\n",
        "            filename=f\"{file_path}/clf_pipeline_model.pkl\")"
      ]
    },
    {
      "cell_type": "markdown",
      "metadata": {},
      "source": [
        "## Feature Importance plot"
      ]
    },
    {
      "cell_type": "code",
      "execution_count": null,
      "metadata": {},
      "outputs": [],
      "source": [
        "df_feature_importance.plot(kind='bar',x='Feature',y='Importance')\n",
        "plt.show()"
      ]
    },
    {
      "cell_type": "code",
      "execution_count": null,
      "metadata": {},
      "outputs": [],
      "source": [
        "df_feature_importance.plot(kind='bar', x='Feature', y='Importance')\n",
        "plt.savefig(f'{file_path}/features_importance.png', bbox_inches='tight')"
      ]
    }
  ],
  "metadata": {
    "accelerator": "GPU",
    "colab": {
      "name": "Data Practitioner Jupyter Notebook.ipynb",
      "provenance": [],
      "toc_visible": true
    },
    "kernelspec": {
      "display_name": "Python 3.8.12 64-bit ('3.8.12')",
      "language": "python",
      "name": "python3"
    },
    "language_info": {
      "codemirror_mode": {
        "name": "ipython",
        "version": 3
      },
      "file_extension": ".py",
      "mimetype": "text/x-python",
      "name": "python",
      "nbconvert_exporter": "python",
      "pygments_lexer": "ipython3",
      "version": "3.8.12"
    },
    "orig_nbformat": 2,
    "vscode": {
      "interpreter": {
        "hash": "8b8334dab9339717f727a1deaf837b322d7a41c20d15cc86be99a8e69ceec8ce"
      }
    }
  },
  "nbformat": 4,
  "nbformat_minor": 2
}
