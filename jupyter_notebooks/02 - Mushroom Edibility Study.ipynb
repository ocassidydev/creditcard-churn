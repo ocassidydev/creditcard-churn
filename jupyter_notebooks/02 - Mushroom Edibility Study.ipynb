{
  "cells": [
    {
      "cell_type": "markdown",
      "metadata": {
        "id": "0aStgWSO0E0E"
      },
      "source": [
        "# **Mushroom Edibility Study**"
      ]
    },
    {
      "cell_type": "markdown",
      "metadata": {
        "id": "1eLEkw5O0ECa"
      },
      "source": [
        "## Objectives\n",
        "\n",
        "* Answer business requirement 1:\n",
        "    * The client would like to better understand the patterns in the mushroom database so that the client can learn the variables of an mushroom most likely to be edible. \n",
        "\n",
        "## Inputs\n",
        "\n",
        "* outputs/datasets/collection/mushrooms.csv\n",
        "\n",
        "## Outputs\n",
        "\n",
        "* Generate code and seaborn plots that answer business requirement 1 and can be used for the Streamlit App\n"
      ]
    },
    {
      "cell_type": "markdown",
      "metadata": {
        "id": "9uWZXH9LwoQg"
      },
      "source": [
        "---"
      ]
    },
    {
      "cell_type": "markdown",
      "metadata": {
        "id": "cqP-UeN-z3i2"
      },
      "source": [
        "# Change working directory"
      ]
    },
    {
      "cell_type": "markdown",
      "metadata": {},
      "source": [
        "* Need to change working directory from the current jupyter_notebooks folder to the parent folder in order to access the whole project"
      ]
    },
    {
      "cell_type": "markdown",
      "metadata": {
        "id": "aOGIGS-uz3i2"
      },
      "source": [
        "We need to change the working directory from its current folder to its parent folder\n",
        "* We access the current directory with os.getcwd()"
      ]
    },
    {
      "cell_type": "code",
      "execution_count": 2,
      "metadata": {
        "id": "wZfF_j-Bz3i4",
        "outputId": "66943449-1436-4c3d-85c7-b85f9f78349b"
      },
      "outputs": [
        {
          "data": {
            "text/plain": [
              "'/workspace/mushroom-safety/jupyter_notebooks'"
            ]
          },
          "execution_count": 2,
          "metadata": {},
          "output_type": "execute_result"
        }
      ],
      "source": [
        "import os\n",
        "current_dir = os.getcwd()\n",
        "current_dir"
      ]
    },
    {
      "cell_type": "markdown",
      "metadata": {
        "id": "9MWW8E7lz3i7"
      },
      "source": [
        "We want to make the parent of the current directory the new current directory\n",
        "* os.path.dirname() gets the parent directory\n",
        "* os.chir() defines the new current directory"
      ]
    },
    {
      "cell_type": "code",
      "execution_count": 3,
      "metadata": {
        "id": "TwHsQRWjz3i9",
        "outputId": "86849db3-cd2f-4cc5-ebb8-2d0caafa1a2c",
        "tags": []
      },
      "outputs": [
        {
          "name": "stdout",
          "output_type": "stream",
          "text": [
            "You set a new current directory\n"
          ]
        }
      ],
      "source": [
        "os.chdir(os.path.dirname(current_dir))\n",
        "print(\"You set a new current directory\")"
      ]
    },
    {
      "cell_type": "markdown",
      "metadata": {
        "id": "M_xPk_Ijz3i-"
      },
      "source": [
        "Confirm the new current directory"
      ]
    },
    {
      "cell_type": "code",
      "execution_count": 4,
      "metadata": {
        "id": "vz3S-_kjz3jA",
        "outputId": "00b79ae4-75d0-4a96-d193-ac9ef9847ea2"
      },
      "outputs": [
        {
          "data": {
            "text/plain": [
              "'/workspace/mushroom-safety'"
            ]
          },
          "execution_count": 4,
          "metadata": {},
          "output_type": "execute_result"
        }
      ],
      "source": [
        "current_dir = os.getcwd()\n",
        "current_dir"
      ]
    },
    {
      "cell_type": "markdown",
      "metadata": {
        "id": "-mavJ8DibrcQ"
      },
      "source": [
        "# Load Data"
      ]
    },
    {
      "cell_type": "markdown",
      "metadata": {},
      "source": [
        "Load in the dataset to a dataframe."
      ]
    },
    {
      "cell_type": "code",
      "execution_count": 5,
      "metadata": {},
      "outputs": [
        {
          "data": {
            "text/html": [
              "<div>\n",
              "<style scoped>\n",
              "    .dataframe tbody tr th:only-of-type {\n",
              "        vertical-align: middle;\n",
              "    }\n",
              "\n",
              "    .dataframe tbody tr th {\n",
              "        vertical-align: top;\n",
              "    }\n",
              "\n",
              "    .dataframe thead th {\n",
              "        text-align: right;\n",
              "    }\n",
              "</style>\n",
              "<table border=\"1\" class=\"dataframe\">\n",
              "  <thead>\n",
              "    <tr style=\"text-align: right;\">\n",
              "      <th></th>\n",
              "      <th>edible</th>\n",
              "      <th>cap-shape</th>\n",
              "      <th>cap-surface</th>\n",
              "      <th>cap-color</th>\n",
              "      <th>bruises</th>\n",
              "      <th>odor</th>\n",
              "      <th>gill-attachment</th>\n",
              "      <th>gill-spacing</th>\n",
              "      <th>gill-size</th>\n",
              "      <th>gill-color</th>\n",
              "      <th>...</th>\n",
              "      <th>stalk-surface-below-ring</th>\n",
              "      <th>stalk-color-above-ring</th>\n",
              "      <th>stalk-color-below-ring</th>\n",
              "      <th>veil-type</th>\n",
              "      <th>veil-color</th>\n",
              "      <th>ring-number</th>\n",
              "      <th>ring-type</th>\n",
              "      <th>spore-print-color</th>\n",
              "      <th>population</th>\n",
              "      <th>habitat</th>\n",
              "    </tr>\n",
              "  </thead>\n",
              "  <tbody>\n",
              "    <tr>\n",
              "      <th>0</th>\n",
              "      <td>0</td>\n",
              "      <td>convex</td>\n",
              "      <td>smooth</td>\n",
              "      <td>brown</td>\n",
              "      <td>bruises</td>\n",
              "      <td>pungent</td>\n",
              "      <td>free</td>\n",
              "      <td>close</td>\n",
              "      <td>narrow</td>\n",
              "      <td>black</td>\n",
              "      <td>...</td>\n",
              "      <td>smooth</td>\n",
              "      <td>white</td>\n",
              "      <td>white</td>\n",
              "      <td>partial</td>\n",
              "      <td>white</td>\n",
              "      <td>1</td>\n",
              "      <td>pendant</td>\n",
              "      <td>black</td>\n",
              "      <td>scattered</td>\n",
              "      <td>urban</td>\n",
              "    </tr>\n",
              "    <tr>\n",
              "      <th>1</th>\n",
              "      <td>1</td>\n",
              "      <td>convex</td>\n",
              "      <td>smooth</td>\n",
              "      <td>yellow</td>\n",
              "      <td>bruises</td>\n",
              "      <td>almond</td>\n",
              "      <td>free</td>\n",
              "      <td>close</td>\n",
              "      <td>broad</td>\n",
              "      <td>black</td>\n",
              "      <td>...</td>\n",
              "      <td>smooth</td>\n",
              "      <td>white</td>\n",
              "      <td>white</td>\n",
              "      <td>partial</td>\n",
              "      <td>white</td>\n",
              "      <td>1</td>\n",
              "      <td>pendant</td>\n",
              "      <td>brown</td>\n",
              "      <td>numerous</td>\n",
              "      <td>grasses</td>\n",
              "    </tr>\n",
              "    <tr>\n",
              "      <th>2</th>\n",
              "      <td>1</td>\n",
              "      <td>bell</td>\n",
              "      <td>smooth</td>\n",
              "      <td>white</td>\n",
              "      <td>bruises</td>\n",
              "      <td>anise</td>\n",
              "      <td>free</td>\n",
              "      <td>close</td>\n",
              "      <td>broad</td>\n",
              "      <td>brown</td>\n",
              "      <td>...</td>\n",
              "      <td>smooth</td>\n",
              "      <td>white</td>\n",
              "      <td>white</td>\n",
              "      <td>partial</td>\n",
              "      <td>white</td>\n",
              "      <td>1</td>\n",
              "      <td>pendant</td>\n",
              "      <td>brown</td>\n",
              "      <td>numerous</td>\n",
              "      <td>meadows</td>\n",
              "    </tr>\n",
              "  </tbody>\n",
              "</table>\n",
              "<p>3 rows × 23 columns</p>\n",
              "</div>"
            ],
            "text/plain": [
              "   edible cap-shape cap-surface cap-color  bruises     odor gill-attachment  \\\n",
              "0       0    convex      smooth     brown  bruises  pungent            free   \n",
              "1       1    convex      smooth    yellow  bruises   almond            free   \n",
              "2       1      bell      smooth     white  bruises    anise            free   \n",
              "\n",
              "  gill-spacing gill-size gill-color  ... stalk-surface-below-ring  \\\n",
              "0        close    narrow      black  ...                   smooth   \n",
              "1        close     broad      black  ...                   smooth   \n",
              "2        close     broad      brown  ...                   smooth   \n",
              "\n",
              "  stalk-color-above-ring stalk-color-below-ring veil-type veil-color  \\\n",
              "0                  white                  white   partial      white   \n",
              "1                  white                  white   partial      white   \n",
              "2                  white                  white   partial      white   \n",
              "\n",
              "  ring-number ring-type spore-print-color  population  habitat  \n",
              "0           1   pendant             black   scattered    urban  \n",
              "1           1   pendant             brown    numerous  grasses  \n",
              "2           1   pendant             brown    numerous  meadows  \n",
              "\n",
              "[3 rows x 23 columns]"
            ]
          },
          "execution_count": 5,
          "metadata": {},
          "output_type": "execute_result"
        }
      ],
      "source": [
        "import pandas as pd\n",
        "df = pd.read_csv(\"outputs/datasets/collection/mushrooms.csv\")\n",
        "df.head()"
      ]
    },
    {
      "cell_type": "markdown",
      "metadata": {},
      "source": [
        "---"
      ]
    },
    {
      "cell_type": "markdown",
      "metadata": {},
      "source": [
        "# Data Exploration #"
      ]
    },
    {
      "cell_type": "markdown",
      "metadata": {},
      "source": [
        "We wish to become familiar with the dataset, check variable types and their distribution, check for any missing data, and to understand what these variables mean in the business context"
      ]
    },
    {
      "cell_type": "code",
      "execution_count": null,
      "metadata": {
        "id": "ZY3l0-AxO93d"
      },
      "outputs": [],
      "source": [
        "from ydata_profiling import ProfileReport\n",
        "pandas_report = ProfileReport(df=df, minimal=True)\n",
        "pandas_report.to_notebook_iframe()"
      ]
    },
    {
      "cell_type": "markdown",
      "metadata": {},
      "source": [
        "`veil-type` is a clearly redundant variable, as all mushrooms in the dataset have the same value, 'p' - partial. As such it will be dropped."
      ]
    },
    {
      "cell_type": "code",
      "execution_count": 6,
      "metadata": {},
      "outputs": [
        {
          "data": {
            "text/html": [
              "<div>\n",
              "<style scoped>\n",
              "    .dataframe tbody tr th:only-of-type {\n",
              "        vertical-align: middle;\n",
              "    }\n",
              "\n",
              "    .dataframe tbody tr th {\n",
              "        vertical-align: top;\n",
              "    }\n",
              "\n",
              "    .dataframe thead th {\n",
              "        text-align: right;\n",
              "    }\n",
              "</style>\n",
              "<table border=\"1\" class=\"dataframe\">\n",
              "  <thead>\n",
              "    <tr style=\"text-align: right;\">\n",
              "      <th></th>\n",
              "      <th>edible</th>\n",
              "      <th>cap-shape</th>\n",
              "      <th>cap-surface</th>\n",
              "      <th>cap-color</th>\n",
              "      <th>bruises</th>\n",
              "      <th>odor</th>\n",
              "      <th>gill-attachment</th>\n",
              "      <th>gill-spacing</th>\n",
              "      <th>gill-size</th>\n",
              "      <th>gill-color</th>\n",
              "      <th>...</th>\n",
              "      <th>stalk-surface-above-ring</th>\n",
              "      <th>stalk-surface-below-ring</th>\n",
              "      <th>stalk-color-above-ring</th>\n",
              "      <th>stalk-color-below-ring</th>\n",
              "      <th>veil-color</th>\n",
              "      <th>ring-number</th>\n",
              "      <th>ring-type</th>\n",
              "      <th>spore-print-color</th>\n",
              "      <th>population</th>\n",
              "      <th>habitat</th>\n",
              "    </tr>\n",
              "  </thead>\n",
              "  <tbody>\n",
              "    <tr>\n",
              "      <th>0</th>\n",
              "      <td>0</td>\n",
              "      <td>convex</td>\n",
              "      <td>smooth</td>\n",
              "      <td>brown</td>\n",
              "      <td>bruises</td>\n",
              "      <td>pungent</td>\n",
              "      <td>free</td>\n",
              "      <td>close</td>\n",
              "      <td>narrow</td>\n",
              "      <td>black</td>\n",
              "      <td>...</td>\n",
              "      <td>smooth</td>\n",
              "      <td>smooth</td>\n",
              "      <td>white</td>\n",
              "      <td>white</td>\n",
              "      <td>white</td>\n",
              "      <td>1</td>\n",
              "      <td>pendant</td>\n",
              "      <td>black</td>\n",
              "      <td>scattered</td>\n",
              "      <td>urban</td>\n",
              "    </tr>\n",
              "    <tr>\n",
              "      <th>1</th>\n",
              "      <td>1</td>\n",
              "      <td>convex</td>\n",
              "      <td>smooth</td>\n",
              "      <td>yellow</td>\n",
              "      <td>bruises</td>\n",
              "      <td>almond</td>\n",
              "      <td>free</td>\n",
              "      <td>close</td>\n",
              "      <td>broad</td>\n",
              "      <td>black</td>\n",
              "      <td>...</td>\n",
              "      <td>smooth</td>\n",
              "      <td>smooth</td>\n",
              "      <td>white</td>\n",
              "      <td>white</td>\n",
              "      <td>white</td>\n",
              "      <td>1</td>\n",
              "      <td>pendant</td>\n",
              "      <td>brown</td>\n",
              "      <td>numerous</td>\n",
              "      <td>grasses</td>\n",
              "    </tr>\n",
              "    <tr>\n",
              "      <th>2</th>\n",
              "      <td>1</td>\n",
              "      <td>bell</td>\n",
              "      <td>smooth</td>\n",
              "      <td>white</td>\n",
              "      <td>bruises</td>\n",
              "      <td>anise</td>\n",
              "      <td>free</td>\n",
              "      <td>close</td>\n",
              "      <td>broad</td>\n",
              "      <td>brown</td>\n",
              "      <td>...</td>\n",
              "      <td>smooth</td>\n",
              "      <td>smooth</td>\n",
              "      <td>white</td>\n",
              "      <td>white</td>\n",
              "      <td>white</td>\n",
              "      <td>1</td>\n",
              "      <td>pendant</td>\n",
              "      <td>brown</td>\n",
              "      <td>numerous</td>\n",
              "      <td>meadows</td>\n",
              "    </tr>\n",
              "    <tr>\n",
              "      <th>3</th>\n",
              "      <td>0</td>\n",
              "      <td>convex</td>\n",
              "      <td>scaly</td>\n",
              "      <td>white</td>\n",
              "      <td>bruises</td>\n",
              "      <td>pungent</td>\n",
              "      <td>free</td>\n",
              "      <td>close</td>\n",
              "      <td>narrow</td>\n",
              "      <td>brown</td>\n",
              "      <td>...</td>\n",
              "      <td>smooth</td>\n",
              "      <td>smooth</td>\n",
              "      <td>white</td>\n",
              "      <td>white</td>\n",
              "      <td>white</td>\n",
              "      <td>1</td>\n",
              "      <td>pendant</td>\n",
              "      <td>black</td>\n",
              "      <td>scattered</td>\n",
              "      <td>urban</td>\n",
              "    </tr>\n",
              "    <tr>\n",
              "      <th>4</th>\n",
              "      <td>1</td>\n",
              "      <td>convex</td>\n",
              "      <td>smooth</td>\n",
              "      <td>gray</td>\n",
              "      <td>no</td>\n",
              "      <td>none</td>\n",
              "      <td>free</td>\n",
              "      <td>crowded</td>\n",
              "      <td>broad</td>\n",
              "      <td>black</td>\n",
              "      <td>...</td>\n",
              "      <td>smooth</td>\n",
              "      <td>smooth</td>\n",
              "      <td>white</td>\n",
              "      <td>white</td>\n",
              "      <td>white</td>\n",
              "      <td>1</td>\n",
              "      <td>evanescent</td>\n",
              "      <td>brown</td>\n",
              "      <td>abundant</td>\n",
              "      <td>grasses</td>\n",
              "    </tr>\n",
              "  </tbody>\n",
              "</table>\n",
              "<p>5 rows × 22 columns</p>\n",
              "</div>"
            ],
            "text/plain": [
              "   edible cap-shape cap-surface cap-color  bruises     odor gill-attachment  \\\n",
              "0       0    convex      smooth     brown  bruises  pungent            free   \n",
              "1       1    convex      smooth    yellow  bruises   almond            free   \n",
              "2       1      bell      smooth     white  bruises    anise            free   \n",
              "3       0    convex       scaly     white  bruises  pungent            free   \n",
              "4       1    convex      smooth      gray       no     none            free   \n",
              "\n",
              "  gill-spacing gill-size gill-color  ... stalk-surface-above-ring  \\\n",
              "0        close    narrow      black  ...                   smooth   \n",
              "1        close     broad      black  ...                   smooth   \n",
              "2        close     broad      brown  ...                   smooth   \n",
              "3        close    narrow      brown  ...                   smooth   \n",
              "4      crowded     broad      black  ...                   smooth   \n",
              "\n",
              "  stalk-surface-below-ring stalk-color-above-ring stalk-color-below-ring  \\\n",
              "0                   smooth                  white                  white   \n",
              "1                   smooth                  white                  white   \n",
              "2                   smooth                  white                  white   \n",
              "3                   smooth                  white                  white   \n",
              "4                   smooth                  white                  white   \n",
              "\n",
              "  veil-color ring-number   ring-type  spore-print-color population  habitat  \n",
              "0      white           1     pendant              black  scattered    urban  \n",
              "1      white           1     pendant              brown   numerous  grasses  \n",
              "2      white           1     pendant              brown   numerous  meadows  \n",
              "3      white           1     pendant              black  scattered    urban  \n",
              "4      white           1  evanescent              brown   abundant  grasses  \n",
              "\n",
              "[5 rows x 22 columns]"
            ]
          },
          "execution_count": 6,
          "metadata": {},
          "output_type": "execute_result"
        }
      ],
      "source": [
        "df = df.drop(['veil-type'], axis=1)\n",
        "df.head()"
      ]
    },
    {
      "cell_type": "markdown",
      "metadata": {},
      "source": [
        "---"
      ]
    },
    {
      "cell_type": "markdown",
      "metadata": {
        "id": "uFQo3ycuO-v6"
      },
      "source": [
        "## Correlation study - Which Mushroom Variable Categories Correlate Most to Edibility"
      ]
    },
    {
      "cell_type": "markdown",
      "metadata": {},
      "source": [
        "We will use `OneHotEncoder` to find which variable category (eg. mushroom with `odor=none`, mushroom with `stalk-color-above-ring=silky`) correlates strongest to edibility."
      ]
    },
    {
      "cell_type": "code",
      "execution_count": null,
      "metadata": {},
      "outputs": [],
      "source": [
        "from feature_engine.encoding import OneHotEncoder\n",
        "\n",
        "cols = df.columns[df.dtypes=='object'].to_list()\n",
        "\n",
        "encoder = OneHotEncoder(variables=cols)\n",
        "df_ohe = encoder.fit_transform(df)\n",
        "\n",
        "df_ohe.head()"
      ]
    },
    {
      "cell_type": "markdown",
      "metadata": {},
      "source": [
        "Will now run Pearson and Spearman correlations to check which variable categories correlate most to `edible`"
      ]
    },
    {
      "cell_type": "code",
      "execution_count": null,
      "metadata": {},
      "outputs": [],
      "source": [
        "corr_spearman = df_ohe.corr(method='spearman')['edible'].sort_values(key=abs, ascending=False)[1:].head(10)\n",
        "corr_spearman"
      ]
    },
    {
      "cell_type": "code",
      "execution_count": null,
      "metadata": {},
      "outputs": [],
      "source": [
        "corr_pearson = df_ohe.corr(method='pearson')['edible'].sort_values(key=abs, ascending=False)[1:].head(10)\n",
        "corr_pearson"
      ]
    },
    {
      "cell_type": "markdown",
      "metadata": {},
      "source": [
        "According to this correlation study, a mushroom having no odor is the most strongly correlated to edibility, with a Spearman correlation coefficient of 0.79 and Pearson coefficient of 0.79. Hence mushrooms with no odor are  typically edible. If the mushroom has a silky consistency above the ring is also strongly negatively correlated to a mushroom being edible, with a Spearman correlation coefficient of -0.59 and Pearson correlation coefficient of -0.59. Hence mushrooms with a silky consistency on the stalk above the ring are typically poisonous."
      ]
    },
    {
      "cell_type": "markdown",
      "metadata": {},
      "source": [
        "## Correlation Study - Which Mushroom Categories are Most Relevant for Plotting"
      ]
    },
    {
      "cell_type": "markdown",
      "metadata": {},
      "source": [
        "We can use `OrdinalEncoder` to transform categorical variables into integer values, so they may be numerically correlated to `edible`. This will allow the measuring of how entire varaiable correlates to ediblity (e.g. `odor`), rather than only individual variable categories as with `OneHotEncoder` previously (e.g. `odor=none`). Firstly, determining the categeorical variables in the dataset, and storing their labels in a string:"
      ]
    },
    {
      "cell_type": "code",
      "execution_count": 8,
      "metadata": {
        "tags": []
      },
      "outputs": [
        {
          "name": "stdout",
          "output_type": "stream",
          "text": [
            "cap-shape\n",
            "['convex' 'bell' 'sunken' 'flat' 'knobbed' 'conical']\n",
            "cap-surface\n",
            "['smooth' 'scaly' 'fibrous' 'grooves']\n",
            "cap-color\n",
            "['brown' 'yellow' 'white' 'gray' 'red' 'pink' 'buff' 'purple' 'cinnamon'\n",
            " 'green']\n",
            "bruises\n",
            "['bruises' 'no']\n",
            "odor\n",
            "['pungent' 'almond' 'anise' 'none' 'foul' 'creosote' 'fishy' 'spicy'\n",
            " 'musty']\n",
            "gill-attachment\n",
            "['free' 'attached']\n",
            "gill-spacing\n",
            "['close' 'crowded']\n",
            "gill-size\n",
            "['narrow' 'broad']\n",
            "gill-color\n",
            "['black' 'brown' 'gray' 'pink' 'white' 'chocolate' 'purple' 'red' 'buff'\n",
            " 'green' 'yellow' 'orange']\n",
            "stalk-shape\n",
            "['enlarging' 'tapering']\n",
            "stalk-root\n",
            "['equal' 'club' 'bulbous' 'rooted' 'missing']\n",
            "stalk-surface-above-ring\n",
            "['smooth' 'fibrous' 'silky' 'scaly']\n",
            "stalk-surface-below-ring\n",
            "['smooth' 'fibrous' 'scaly' 'silky']\n",
            "stalk-color-above-ring\n",
            "['white' 'gray' 'pink' 'brown' 'buff' 'red' 'orange' 'cinnamon' 'yellow']\n",
            "stalk-color-below-ring\n",
            "['white' 'pink' 'gray' 'buff' 'brown' 'red' 'yellow' 'orange' 'cinnamon']\n",
            "veil-color\n",
            "['white' 'brown' 'orange' 'yellow']\n",
            "ring-type\n",
            "['pendant' 'evanescent' 'large' 'flaring' 'none']\n",
            "spore-print-color\n",
            "['black' 'brown' 'purple' 'chocolate' 'white' 'green' 'orange' 'yellow'\n",
            " 'buff']\n",
            "population\n",
            "['scattered' 'numerous' 'abundant' 'several' 'solitary' 'clustered']\n",
            "habitat\n",
            "['urban' 'grasses' 'meadows' 'woods' 'paths' 'waste' 'leaves']\n"
          ]
        }
      ],
      "source": [
        "df_oe = df.copy()\n",
        "cols = df.columns[df.dtypes=='object'].to_list()\n",
        "\n",
        "cat_list=[]\n",
        "\n",
        "for col in cols:\n",
        "    print(col)\n",
        "    print(df[col].unique())\n",
        "    cat_list.append(list(df[col].unique()))"
      ]
    },
    {
      "cell_type": "markdown",
      "metadata": {},
      "source": [
        "In order to pass these categories names as a list to the ordinal encoder, `cat_list` will be used."
      ]
    },
    {
      "cell_type": "code",
      "execution_count": 9,
      "metadata": {},
      "outputs": [
        {
          "name": "stdout",
          "output_type": "stream",
          "text": [
            "[['convex', 'bell', 'sunken', 'flat', 'knobbed', 'conical'], ['smooth', 'scaly', 'fibrous', 'grooves'], ['brown', 'yellow', 'white', 'gray', 'red', 'pink', 'buff', 'purple', 'cinnamon', 'green'], ['bruises', 'no'], ['pungent', 'almond', 'anise', 'none', 'foul', 'creosote', 'fishy', 'spicy', 'musty'], ['free', 'attached'], ['close', 'crowded'], ['narrow', 'broad'], ['black', 'brown', 'gray', 'pink', 'white', 'chocolate', 'purple', 'red', 'buff', 'green', 'yellow', 'orange'], ['enlarging', 'tapering'], ['equal', 'club', 'bulbous', 'rooted', 'missing'], ['smooth', 'fibrous', 'silky', 'scaly'], ['smooth', 'fibrous', 'scaly', 'silky'], ['white', 'gray', 'pink', 'brown', 'buff', 'red', 'orange', 'cinnamon', 'yellow'], ['white', 'pink', 'gray', 'buff', 'brown', 'red', 'yellow', 'orange', 'cinnamon'], ['white', 'brown', 'orange', 'yellow'], ['pendant', 'evanescent', 'large', 'flaring', 'none'], ['black', 'brown', 'purple', 'chocolate', 'white', 'green', 'orange', 'yellow', 'buff'], ['scattered', 'numerous', 'abundant', 'several', 'solitary', 'clustered'], ['urban', 'grasses', 'meadows', 'woods', 'paths', 'waste', 'leaves']]\n"
          ]
        }
      ],
      "source": [
        "print(cat_list)"
      ]
    },
    {
      "cell_type": "markdown",
      "metadata": {},
      "source": [
        "The above can be input into the `categories` argument of `OrdinalEncoder`."
      ]
    },
    {
      "cell_type": "code",
      "execution_count": 10,
      "metadata": {},
      "outputs": [
        {
          "data": {
            "text/html": [
              "<div>\n",
              "<style scoped>\n",
              "    .dataframe tbody tr th:only-of-type {\n",
              "        vertical-align: middle;\n",
              "    }\n",
              "\n",
              "    .dataframe tbody tr th {\n",
              "        vertical-align: top;\n",
              "    }\n",
              "\n",
              "    .dataframe thead th {\n",
              "        text-align: right;\n",
              "    }\n",
              "</style>\n",
              "<table border=\"1\" class=\"dataframe\">\n",
              "  <thead>\n",
              "    <tr style=\"text-align: right;\">\n",
              "      <th></th>\n",
              "      <th>edible</th>\n",
              "      <th>cap-shape</th>\n",
              "      <th>cap-surface</th>\n",
              "      <th>cap-color</th>\n",
              "      <th>bruises</th>\n",
              "      <th>odor</th>\n",
              "      <th>gill-attachment</th>\n",
              "      <th>gill-spacing</th>\n",
              "      <th>gill-size</th>\n",
              "      <th>gill-color</th>\n",
              "      <th>...</th>\n",
              "      <th>stalk-surface-above-ring</th>\n",
              "      <th>stalk-surface-below-ring</th>\n",
              "      <th>stalk-color-above-ring</th>\n",
              "      <th>stalk-color-below-ring</th>\n",
              "      <th>veil-color</th>\n",
              "      <th>ring-number</th>\n",
              "      <th>ring-type</th>\n",
              "      <th>spore-print-color</th>\n",
              "      <th>population</th>\n",
              "      <th>habitat</th>\n",
              "    </tr>\n",
              "  </thead>\n",
              "  <tbody>\n",
              "    <tr>\n",
              "      <th>0</th>\n",
              "      <td>0</td>\n",
              "      <td>0.0</td>\n",
              "      <td>0.0</td>\n",
              "      <td>0.0</td>\n",
              "      <td>0.0</td>\n",
              "      <td>0.0</td>\n",
              "      <td>0.0</td>\n",
              "      <td>0.0</td>\n",
              "      <td>0.0</td>\n",
              "      <td>0.0</td>\n",
              "      <td>...</td>\n",
              "      <td>0.0</td>\n",
              "      <td>0.0</td>\n",
              "      <td>0.0</td>\n",
              "      <td>0.0</td>\n",
              "      <td>0.0</td>\n",
              "      <td>1</td>\n",
              "      <td>0.0</td>\n",
              "      <td>0.0</td>\n",
              "      <td>0.0</td>\n",
              "      <td>0.0</td>\n",
              "    </tr>\n",
              "    <tr>\n",
              "      <th>1</th>\n",
              "      <td>1</td>\n",
              "      <td>0.0</td>\n",
              "      <td>0.0</td>\n",
              "      <td>1.0</td>\n",
              "      <td>0.0</td>\n",
              "      <td>1.0</td>\n",
              "      <td>0.0</td>\n",
              "      <td>0.0</td>\n",
              "      <td>1.0</td>\n",
              "      <td>0.0</td>\n",
              "      <td>...</td>\n",
              "      <td>0.0</td>\n",
              "      <td>0.0</td>\n",
              "      <td>0.0</td>\n",
              "      <td>0.0</td>\n",
              "      <td>0.0</td>\n",
              "      <td>1</td>\n",
              "      <td>0.0</td>\n",
              "      <td>1.0</td>\n",
              "      <td>1.0</td>\n",
              "      <td>1.0</td>\n",
              "    </tr>\n",
              "    <tr>\n",
              "      <th>2</th>\n",
              "      <td>1</td>\n",
              "      <td>1.0</td>\n",
              "      <td>0.0</td>\n",
              "      <td>2.0</td>\n",
              "      <td>0.0</td>\n",
              "      <td>2.0</td>\n",
              "      <td>0.0</td>\n",
              "      <td>0.0</td>\n",
              "      <td>1.0</td>\n",
              "      <td>1.0</td>\n",
              "      <td>...</td>\n",
              "      <td>0.0</td>\n",
              "      <td>0.0</td>\n",
              "      <td>0.0</td>\n",
              "      <td>0.0</td>\n",
              "      <td>0.0</td>\n",
              "      <td>1</td>\n",
              "      <td>0.0</td>\n",
              "      <td>1.0</td>\n",
              "      <td>1.0</td>\n",
              "      <td>2.0</td>\n",
              "    </tr>\n",
              "  </tbody>\n",
              "</table>\n",
              "<p>3 rows × 22 columns</p>\n",
              "</div>"
            ],
            "text/plain": [
              "   edible  cap-shape  cap-surface  cap-color  bruises  odor  gill-attachment  \\\n",
              "0       0        0.0          0.0        0.0      0.0   0.0              0.0   \n",
              "1       1        0.0          0.0        1.0      0.0   1.0              0.0   \n",
              "2       1        1.0          0.0        2.0      0.0   2.0              0.0   \n",
              "\n",
              "   gill-spacing  gill-size  gill-color  ...  stalk-surface-above-ring  \\\n",
              "0           0.0        0.0         0.0  ...                       0.0   \n",
              "1           0.0        1.0         0.0  ...                       0.0   \n",
              "2           0.0        1.0         1.0  ...                       0.0   \n",
              "\n",
              "   stalk-surface-below-ring  stalk-color-above-ring  stalk-color-below-ring  \\\n",
              "0                       0.0                     0.0                     0.0   \n",
              "1                       0.0                     0.0                     0.0   \n",
              "2                       0.0                     0.0                     0.0   \n",
              "\n",
              "   veil-color  ring-number  ring-type  spore-print-color  population  habitat  \n",
              "0         0.0            1        0.0                0.0         0.0      0.0  \n",
              "1         0.0            1        0.0                1.0         1.0      1.0  \n",
              "2         0.0            1        0.0                1.0         1.0      2.0  \n",
              "\n",
              "[3 rows x 22 columns]"
            ]
          },
          "execution_count": 10,
          "metadata": {},
          "output_type": "execute_result"
        }
      ],
      "source": [
        "from sklearn.preprocessing import OrdinalEncoder\n",
        "\n",
        "encoder = OrdinalEncoder(categories=cat_list)\n",
        "encoded_array = encoder.fit_transform(df[cols])\n",
        "\n",
        "for i, col in enumerate(cols):\n",
        "    df_oe[col] = encoded_array[:,i]\n",
        "\n",
        "df_oe.head()"
      ]
    },
    {
      "cell_type": "markdown",
      "metadata": {},
      "source": [
        "We will now run the correlation methods on the encoded dataframe, using both spearman and spearman methods, in order to determine the variables in the dataset most relevant to the target, `edible`"
      ]
    },
    {
      "cell_type": "code",
      "execution_count": 11,
      "metadata": {},
      "outputs": [
        {
          "data": {
            "text/plain": [
              "odor                       -0.771088\n",
              "ring-type                  -0.579335\n",
              "spore-print-color          -0.555944\n",
              "gill-size                   0.540024\n",
              "stalk-surface-above-ring   -0.536555\n",
              "bruises                    -0.501530\n",
              "stalk-surface-below-ring   -0.500008\n",
              "gill-color                 -0.399424\n",
              "gill-spacing                0.348387\n",
              "stalk-root                 -0.341438\n",
              "Name: edible, dtype: float64"
            ]
          },
          "execution_count": 11,
          "metadata": {},
          "output_type": "execute_result"
        }
      ],
      "source": [
        "corr_spearman = df_oe.corr(method='spearman')['edible'].sort_values(key=abs, ascending=False)[1:].head(10)\n",
        "corr_spearman"
      ]
    },
    {
      "cell_type": "code",
      "execution_count": 12,
      "metadata": {},
      "outputs": [
        {
          "data": {
            "text/plain": [
              "odor                       -0.582015\n",
              "spore-print-color          -0.560715\n",
              "ring-type                  -0.556515\n",
              "stalk-surface-above-ring   -0.552044\n",
              "gill-size                   0.540024\n",
              "stalk-surface-below-ring   -0.532452\n",
              "bruises                    -0.501530\n",
              "gill-color                 -0.412869\n",
              "gill-spacing                0.348387\n",
              "stalk-root                 -0.337542\n",
              "Name: edible, dtype: float64"
            ]
          },
          "execution_count": 12,
          "metadata": {},
          "output_type": "execute_result"
        }
      ],
      "source": [
        "corr_pearson = df_oe.corr(method='pearson')['edible'].sort_values(key=abs, ascending=False)[1:].head(10)\n",
        "corr_pearson"
      ]
    },
    {
      "cell_type": "markdown",
      "metadata": {},
      "source": [
        "There is an issue with extracting correlation coefficients from this method of encoding; it varies depending on ordering, which is determined purely by the order in which categories appear in the original dataframe and is thus entirely arbitrary. To illustrate this, we will randomize the ordering of the list elements in `cat_list`:"
      ]
    },
    {
      "cell_type": "code",
      "execution_count": 13,
      "metadata": {},
      "outputs": [
        {
          "name": "stdout",
          "output_type": "stream",
          "text": [
            "[['convex', 'bell', 'sunken', 'flat', 'knobbed', 'conical'], ['smooth', 'scaly', 'fibrous', 'grooves'], ['brown', 'yellow', 'white', 'gray', 'red', 'pink', 'buff', 'purple', 'cinnamon', 'green'], ['bruises', 'no'], ['pungent', 'almond', 'anise', 'none', 'foul', 'creosote', 'fishy', 'spicy', 'musty'], ['free', 'attached'], ['close', 'crowded'], ['narrow', 'broad'], ['black', 'brown', 'gray', 'pink', 'white', 'chocolate', 'purple', 'red', 'buff', 'green', 'yellow', 'orange'], ['enlarging', 'tapering'], ['equal', 'club', 'bulbous', 'rooted', 'missing'], ['smooth', 'fibrous', 'silky', 'scaly'], ['smooth', 'fibrous', 'scaly', 'silky'], ['white', 'gray', 'pink', 'brown', 'buff', 'red', 'orange', 'cinnamon', 'yellow'], ['white', 'pink', 'gray', 'buff', 'brown', 'red', 'yellow', 'orange', 'cinnamon'], ['white', 'brown', 'orange', 'yellow'], ['pendant', 'evanescent', 'large', 'flaring', 'none'], ['black', 'brown', 'purple', 'chocolate', 'white', 'green', 'orange', 'yellow', 'buff'], ['scattered', 'numerous', 'abundant', 'several', 'solitary', 'clustered'], ['urban', 'grasses', 'meadows', 'woods', 'paths', 'waste', 'leaves']]\n",
            "[['flat', 'knobbed', 'bell', 'conical', 'sunken', 'convex'], ['fibrous', 'scaly', 'grooves', 'smooth'], ['purple', 'buff', 'gray', 'red', 'yellow', 'brown', 'white', 'pink', 'green', 'cinnamon'], ['no', 'bruises'], ['almond', 'musty', 'creosote', 'fishy', 'foul', 'spicy', 'none', 'pungent', 'anise'], ['free', 'attached'], ['close', 'crowded'], ['broad', 'narrow'], ['red', 'purple', 'yellow', 'chocolate', 'white', 'pink', 'buff', 'orange', 'green', 'gray', 'brown', 'black'], ['tapering', 'enlarging'], ['equal', 'club', 'rooted', 'missing', 'bulbous'], ['smooth', 'scaly', 'silky', 'fibrous'], ['silky', 'scaly', 'fibrous', 'smooth'], ['gray', 'white', 'orange', 'pink', 'brown', 'red', 'buff', 'cinnamon', 'yellow'], ['white', 'brown', 'yellow', 'orange', 'cinnamon', 'red', 'buff', 'pink', 'gray'], ['orange', 'brown', 'white', 'yellow'], ['evanescent', 'none', 'pendant', 'large', 'flaring'], ['white', 'orange', 'yellow', 'chocolate', 'buff', 'purple', 'black', 'green', 'brown'], ['numerous', 'scattered', 'solitary', 'several', 'abundant', 'clustered'], ['urban', 'waste', 'meadows', 'leaves', 'grasses', 'woods', 'paths']]\n"
          ]
        }
      ],
      "source": [
        "import random\n",
        "random.seed(123)\n",
        "print(cat_list)\n",
        "for cat in cat_list:\n",
        "    random.shuffle(cat)\n",
        "print(cat_list)"
      ]
    },
    {
      "cell_type": "markdown",
      "metadata": {},
      "source": [
        "With the newly ordered list, rerun the encoding:"
      ]
    },
    {
      "cell_type": "code",
      "execution_count": 14,
      "metadata": {},
      "outputs": [
        {
          "data": {
            "text/html": [
              "<div>\n",
              "<style scoped>\n",
              "    .dataframe tbody tr th:only-of-type {\n",
              "        vertical-align: middle;\n",
              "    }\n",
              "\n",
              "    .dataframe tbody tr th {\n",
              "        vertical-align: top;\n",
              "    }\n",
              "\n",
              "    .dataframe thead th {\n",
              "        text-align: right;\n",
              "    }\n",
              "</style>\n",
              "<table border=\"1\" class=\"dataframe\">\n",
              "  <thead>\n",
              "    <tr style=\"text-align: right;\">\n",
              "      <th></th>\n",
              "      <th>edible</th>\n",
              "      <th>cap-shape</th>\n",
              "      <th>cap-surface</th>\n",
              "      <th>cap-color</th>\n",
              "      <th>bruises</th>\n",
              "      <th>odor</th>\n",
              "      <th>gill-attachment</th>\n",
              "      <th>gill-spacing</th>\n",
              "      <th>gill-size</th>\n",
              "      <th>gill-color</th>\n",
              "      <th>...</th>\n",
              "      <th>stalk-surface-above-ring</th>\n",
              "      <th>stalk-surface-below-ring</th>\n",
              "      <th>stalk-color-above-ring</th>\n",
              "      <th>stalk-color-below-ring</th>\n",
              "      <th>veil-color</th>\n",
              "      <th>ring-number</th>\n",
              "      <th>ring-type</th>\n",
              "      <th>spore-print-color</th>\n",
              "      <th>population</th>\n",
              "      <th>habitat</th>\n",
              "    </tr>\n",
              "  </thead>\n",
              "  <tbody>\n",
              "    <tr>\n",
              "      <th>0</th>\n",
              "      <td>0</td>\n",
              "      <td>5.0</td>\n",
              "      <td>3.0</td>\n",
              "      <td>5.0</td>\n",
              "      <td>1.0</td>\n",
              "      <td>7.0</td>\n",
              "      <td>0.0</td>\n",
              "      <td>0.0</td>\n",
              "      <td>1.0</td>\n",
              "      <td>11.0</td>\n",
              "      <td>...</td>\n",
              "      <td>0.0</td>\n",
              "      <td>3.0</td>\n",
              "      <td>1.0</td>\n",
              "      <td>0.0</td>\n",
              "      <td>2.0</td>\n",
              "      <td>1</td>\n",
              "      <td>2.0</td>\n",
              "      <td>6.0</td>\n",
              "      <td>1.0</td>\n",
              "      <td>0.0</td>\n",
              "    </tr>\n",
              "    <tr>\n",
              "      <th>1</th>\n",
              "      <td>1</td>\n",
              "      <td>5.0</td>\n",
              "      <td>3.0</td>\n",
              "      <td>4.0</td>\n",
              "      <td>1.0</td>\n",
              "      <td>0.0</td>\n",
              "      <td>0.0</td>\n",
              "      <td>0.0</td>\n",
              "      <td>0.0</td>\n",
              "      <td>11.0</td>\n",
              "      <td>...</td>\n",
              "      <td>0.0</td>\n",
              "      <td>3.0</td>\n",
              "      <td>1.0</td>\n",
              "      <td>0.0</td>\n",
              "      <td>2.0</td>\n",
              "      <td>1</td>\n",
              "      <td>2.0</td>\n",
              "      <td>8.0</td>\n",
              "      <td>0.0</td>\n",
              "      <td>4.0</td>\n",
              "    </tr>\n",
              "    <tr>\n",
              "      <th>2</th>\n",
              "      <td>1</td>\n",
              "      <td>2.0</td>\n",
              "      <td>3.0</td>\n",
              "      <td>6.0</td>\n",
              "      <td>1.0</td>\n",
              "      <td>8.0</td>\n",
              "      <td>0.0</td>\n",
              "      <td>0.0</td>\n",
              "      <td>0.0</td>\n",
              "      <td>10.0</td>\n",
              "      <td>...</td>\n",
              "      <td>0.0</td>\n",
              "      <td>3.0</td>\n",
              "      <td>1.0</td>\n",
              "      <td>0.0</td>\n",
              "      <td>2.0</td>\n",
              "      <td>1</td>\n",
              "      <td>2.0</td>\n",
              "      <td>8.0</td>\n",
              "      <td>0.0</td>\n",
              "      <td>2.0</td>\n",
              "    </tr>\n",
              "  </tbody>\n",
              "</table>\n",
              "<p>3 rows × 22 columns</p>\n",
              "</div>"
            ],
            "text/plain": [
              "   edible  cap-shape  cap-surface  cap-color  bruises  odor  gill-attachment  \\\n",
              "0       0        5.0          3.0        5.0      1.0   7.0              0.0   \n",
              "1       1        5.0          3.0        4.0      1.0   0.0              0.0   \n",
              "2       1        2.0          3.0        6.0      1.0   8.0              0.0   \n",
              "\n",
              "   gill-spacing  gill-size  gill-color  ...  stalk-surface-above-ring  \\\n",
              "0           0.0        1.0        11.0  ...                       0.0   \n",
              "1           0.0        0.0        11.0  ...                       0.0   \n",
              "2           0.0        0.0        10.0  ...                       0.0   \n",
              "\n",
              "   stalk-surface-below-ring  stalk-color-above-ring  stalk-color-below-ring  \\\n",
              "0                       3.0                     1.0                     0.0   \n",
              "1                       3.0                     1.0                     0.0   \n",
              "2                       3.0                     1.0                     0.0   \n",
              "\n",
              "   veil-color  ring-number  ring-type  spore-print-color  population  habitat  \n",
              "0         2.0            1        2.0                6.0         1.0      0.0  \n",
              "1         2.0            1        2.0                8.0         0.0      4.0  \n",
              "2         2.0            1        2.0                8.0         0.0      2.0  \n",
              "\n",
              "[3 rows x 22 columns]"
            ]
          },
          "execution_count": 14,
          "metadata": {},
          "output_type": "execute_result"
        }
      ],
      "source": [
        "encoder = OrdinalEncoder(categories=cat_list)\n",
        "encoded_array = encoder.fit_transform(df[cols])\n",
        "df_new_oe = df.copy()\n",
        "\n",
        "for i, col in enumerate(cols):\n",
        "    df_new_oe[col] = encoded_array[:,i]\n",
        "\n",
        "df_new_oe.head()"
      ]
    },
    {
      "cell_type": "markdown",
      "metadata": {},
      "source": [
        "And rerun the correlation methods:"
      ]
    },
    {
      "cell_type": "code",
      "execution_count": 15,
      "metadata": {},
      "outputs": [
        {
          "name": "stdout",
          "output_type": "stream",
          "text": [
            "Old Spearman correlation coefficients:\n",
            "odor                       -0.771088\n",
            "ring-type                  -0.579335\n",
            "spore-print-color          -0.555944\n",
            "gill-size                   0.540024\n",
            "stalk-surface-above-ring   -0.536555\n",
            "bruises                    -0.501530\n",
            "stalk-surface-below-ring   -0.500008\n",
            "gill-color                 -0.399424\n",
            "gill-spacing                0.348387\n",
            "stalk-root                 -0.341438\n",
            "Name: edible, dtype: float64\n",
            "New Spearman correlation coefficients:\n",
            "odor                        0.620185\n",
            "spore-print-color           0.576683\n",
            "gill-size                  -0.540024\n",
            "bruises                     0.501530\n",
            "stalk-surface-below-ring    0.500008\n",
            "stalk-color-above-ring     -0.442066\n",
            "stalk-surface-above-ring   -0.430460\n",
            "gill-spacing                0.348387\n",
            "ring-number                 0.214119\n",
            "population                 -0.206662\n",
            "Name: edible, dtype: float64\n"
          ]
        }
      ],
      "source": [
        "print(f\"Old Spearman correlation coefficients:\\n{corr_spearman}\")\n",
        "new_corr_spearman = df_new_oe.corr(method='spearman')['edible'].sort_values(key=abs, ascending=False)[1:].head(10)\n",
        "print(f\"New Spearman correlation coefficients:\\n{new_corr_spearman}\")"
      ]
    },
    {
      "cell_type": "code",
      "execution_count": 16,
      "metadata": {},
      "outputs": [
        {
          "name": "stdout",
          "output_type": "stream",
          "text": [
            "Old Pearson correlation coefficients:\n",
            "odor                       -0.582015\n",
            "spore-print-color          -0.560715\n",
            "ring-type                  -0.556515\n",
            "stalk-surface-above-ring   -0.552044\n",
            "gill-size                   0.540024\n",
            "stalk-surface-below-ring   -0.532452\n",
            "bruises                    -0.501530\n",
            "gill-color                 -0.412869\n",
            "gill-spacing                0.348387\n",
            "stalk-root                 -0.337542\n",
            "Name: edible, dtype: float64\n",
            "New Pearson correlation coefficients:\n",
            "spore-print-color           0.587716\n",
            "gill-size                  -0.540024\n",
            "stalk-surface-below-ring    0.532452\n",
            "bruises                     0.501530\n",
            "stalk-color-above-ring     -0.430185\n",
            "odor                        0.425185\n",
            "stalk-surface-above-ring   -0.412093\n",
            "gill-spacing                0.348387\n",
            "stalk-root                 -0.249313\n",
            "ring-number                 0.214366\n",
            "Name: edible, dtype: float64\n"
          ]
        }
      ],
      "source": [
        "print(f\"Old Pearson correlation coefficients:\\n{corr_pearson}\")\n",
        "new_corr_pearson = df_new_oe.corr(method='pearson')['edible'].sort_values(key=abs, ascending=False)[1:].head(10)\n",
        "print(f\"New Pearson correlation coefficients:\\n{new_corr_pearson}\")"
      ]
    },
    {
      "cell_type": "markdown",
      "metadata": {},
      "source": [
        "The correlation coefficients have very clearly changed from changing the order in which categories are encoded, and may result in us selecting different variables as the most correlated to `edible`. As such, we would prefer an encoder which is wholly agnostic with respect to the ordering of the dataset, and is based on some immutable statistical reality of the data. To do this, we use a `TargetEncoder`, which encodes each category based on their frequency in the positive result for the target. In the case of this dataset this is how frequently a mushroom of each category type is edible, eg. for encoding `cap-shape=bell`, as 53.2823% of all mushrooms with a `cap-shape=bell` have `edible=1`, `cap-shape=bell` is encoded as `cap-shape=0.532823`. For demonstration, view the output of the following 2 code cells."
      ]
    },
    {
      "cell_type": "code",
      "execution_count": 18,
      "metadata": {},
      "outputs": [
        {
          "data": {
            "text/html": [
              "<div>\n",
              "<style scoped>\n",
              "    .dataframe tbody tr th:only-of-type {\n",
              "        vertical-align: middle;\n",
              "    }\n",
              "\n",
              "    .dataframe tbody tr th {\n",
              "        vertical-align: top;\n",
              "    }\n",
              "\n",
              "    .dataframe thead th {\n",
              "        text-align: right;\n",
              "    }\n",
              "</style>\n",
              "<table border=\"1\" class=\"dataframe\">\n",
              "  <thead>\n",
              "    <tr style=\"text-align: right;\">\n",
              "      <th></th>\n",
              "      <th>edible</th>\n",
              "      <th>cap-shape</th>\n",
              "      <th>cap-surface</th>\n",
              "      <th>cap-color</th>\n",
              "      <th>bruises</th>\n",
              "      <th>odor</th>\n",
              "      <th>gill-attachment</th>\n",
              "      <th>gill-spacing</th>\n",
              "      <th>gill-size</th>\n",
              "      <th>gill-color</th>\n",
              "      <th>...</th>\n",
              "      <th>stalk-surface-above-ring</th>\n",
              "      <th>stalk-surface-below-ring</th>\n",
              "      <th>stalk-color-above-ring</th>\n",
              "      <th>stalk-color-below-ring</th>\n",
              "      <th>veil-color</th>\n",
              "      <th>ring-number</th>\n",
              "      <th>ring-type</th>\n",
              "      <th>spore-print-color</th>\n",
              "      <th>population</th>\n",
              "      <th>habitat</th>\n",
              "    </tr>\n",
              "  </thead>\n",
              "  <tbody>\n",
              "    <tr>\n",
              "      <th>0</th>\n",
              "      <td>0</td>\n",
              "      <td>convex</td>\n",
              "      <td>smooth</td>\n",
              "      <td>brown</td>\n",
              "      <td>bruises</td>\n",
              "      <td>pungent</td>\n",
              "      <td>free</td>\n",
              "      <td>close</td>\n",
              "      <td>narrow</td>\n",
              "      <td>black</td>\n",
              "      <td>...</td>\n",
              "      <td>smooth</td>\n",
              "      <td>smooth</td>\n",
              "      <td>white</td>\n",
              "      <td>white</td>\n",
              "      <td>white</td>\n",
              "      <td>1</td>\n",
              "      <td>pendant</td>\n",
              "      <td>black</td>\n",
              "      <td>scattered</td>\n",
              "      <td>urban</td>\n",
              "    </tr>\n",
              "    <tr>\n",
              "      <th>1</th>\n",
              "      <td>1</td>\n",
              "      <td>convex</td>\n",
              "      <td>smooth</td>\n",
              "      <td>yellow</td>\n",
              "      <td>bruises</td>\n",
              "      <td>almond</td>\n",
              "      <td>free</td>\n",
              "      <td>close</td>\n",
              "      <td>broad</td>\n",
              "      <td>black</td>\n",
              "      <td>...</td>\n",
              "      <td>smooth</td>\n",
              "      <td>smooth</td>\n",
              "      <td>white</td>\n",
              "      <td>white</td>\n",
              "      <td>white</td>\n",
              "      <td>1</td>\n",
              "      <td>pendant</td>\n",
              "      <td>brown</td>\n",
              "      <td>numerous</td>\n",
              "      <td>grasses</td>\n",
              "    </tr>\n",
              "    <tr>\n",
              "      <th>2</th>\n",
              "      <td>1</td>\n",
              "      <td>bell</td>\n",
              "      <td>smooth</td>\n",
              "      <td>white</td>\n",
              "      <td>bruises</td>\n",
              "      <td>anise</td>\n",
              "      <td>free</td>\n",
              "      <td>close</td>\n",
              "      <td>broad</td>\n",
              "      <td>brown</td>\n",
              "      <td>...</td>\n",
              "      <td>smooth</td>\n",
              "      <td>smooth</td>\n",
              "      <td>white</td>\n",
              "      <td>white</td>\n",
              "      <td>white</td>\n",
              "      <td>1</td>\n",
              "      <td>pendant</td>\n",
              "      <td>brown</td>\n",
              "      <td>numerous</td>\n",
              "      <td>meadows</td>\n",
              "    </tr>\n",
              "    <tr>\n",
              "      <th>3</th>\n",
              "      <td>0</td>\n",
              "      <td>convex</td>\n",
              "      <td>scaly</td>\n",
              "      <td>white</td>\n",
              "      <td>bruises</td>\n",
              "      <td>pungent</td>\n",
              "      <td>free</td>\n",
              "      <td>close</td>\n",
              "      <td>narrow</td>\n",
              "      <td>brown</td>\n",
              "      <td>...</td>\n",
              "      <td>smooth</td>\n",
              "      <td>smooth</td>\n",
              "      <td>white</td>\n",
              "      <td>white</td>\n",
              "      <td>white</td>\n",
              "      <td>1</td>\n",
              "      <td>pendant</td>\n",
              "      <td>black</td>\n",
              "      <td>scattered</td>\n",
              "      <td>urban</td>\n",
              "    </tr>\n",
              "    <tr>\n",
              "      <th>4</th>\n",
              "      <td>1</td>\n",
              "      <td>convex</td>\n",
              "      <td>smooth</td>\n",
              "      <td>gray</td>\n",
              "      <td>no</td>\n",
              "      <td>none</td>\n",
              "      <td>free</td>\n",
              "      <td>crowded</td>\n",
              "      <td>broad</td>\n",
              "      <td>black</td>\n",
              "      <td>...</td>\n",
              "      <td>smooth</td>\n",
              "      <td>smooth</td>\n",
              "      <td>white</td>\n",
              "      <td>white</td>\n",
              "      <td>white</td>\n",
              "      <td>1</td>\n",
              "      <td>evanescent</td>\n",
              "      <td>brown</td>\n",
              "      <td>abundant</td>\n",
              "      <td>grasses</td>\n",
              "    </tr>\n",
              "  </tbody>\n",
              "</table>\n",
              "<p>5 rows × 22 columns</p>\n",
              "</div>"
            ],
            "text/plain": [
              "   edible cap-shape cap-surface cap-color  bruises     odor gill-attachment  \\\n",
              "0       0    convex      smooth     brown  bruises  pungent            free   \n",
              "1       1    convex      smooth    yellow  bruises   almond            free   \n",
              "2       1      bell      smooth     white  bruises    anise            free   \n",
              "3       0    convex       scaly     white  bruises  pungent            free   \n",
              "4       1    convex      smooth      gray       no     none            free   \n",
              "\n",
              "  gill-spacing gill-size gill-color  ... stalk-surface-above-ring  \\\n",
              "0        close    narrow      black  ...                   smooth   \n",
              "1        close     broad      black  ...                   smooth   \n",
              "2        close     broad      brown  ...                   smooth   \n",
              "3        close    narrow      brown  ...                   smooth   \n",
              "4      crowded     broad      black  ...                   smooth   \n",
              "\n",
              "  stalk-surface-below-ring stalk-color-above-ring stalk-color-below-ring  \\\n",
              "0                   smooth                  white                  white   \n",
              "1                   smooth                  white                  white   \n",
              "2                   smooth                  white                  white   \n",
              "3                   smooth                  white                  white   \n",
              "4                   smooth                  white                  white   \n",
              "\n",
              "  veil-color ring-number   ring-type  spore-print-color population  habitat  \n",
              "0      white           1     pendant              black  scattered    urban  \n",
              "1      white           1     pendant              brown   numerous  grasses  \n",
              "2      white           1     pendant              brown   numerous  meadows  \n",
              "3      white           1     pendant              black  scattered    urban  \n",
              "4      white           1  evanescent              brown   abundant  grasses  \n",
              "\n",
              "[5 rows x 22 columns]"
            ]
          },
          "execution_count": 18,
          "metadata": {},
          "output_type": "execute_result"
        }
      ],
      "source": [
        "df.head()"
      ]
    },
    {
      "cell_type": "code",
      "execution_count": 17,
      "metadata": {},
      "outputs": [
        {
          "data": {
            "text/html": [
              "<div>\n",
              "<style scoped>\n",
              "    .dataframe tbody tr th:only-of-type {\n",
              "        vertical-align: middle;\n",
              "    }\n",
              "\n",
              "    .dataframe tbody tr th {\n",
              "        vertical-align: top;\n",
              "    }\n",
              "\n",
              "    .dataframe thead th {\n",
              "        text-align: right;\n",
              "    }\n",
              "</style>\n",
              "<table border=\"1\" class=\"dataframe\">\n",
              "  <thead>\n",
              "    <tr style=\"text-align: right;\">\n",
              "      <th></th>\n",
              "      <th>edible</th>\n",
              "      <th>cap-shape</th>\n",
              "      <th>cap-surface</th>\n",
              "      <th>cap-color</th>\n",
              "      <th>bruises</th>\n",
              "      <th>odor</th>\n",
              "      <th>gill-attachment</th>\n",
              "      <th>gill-spacing</th>\n",
              "      <th>gill-size</th>\n",
              "      <th>gill-color</th>\n",
              "      <th>...</th>\n",
              "      <th>stalk-surface-above-ring</th>\n",
              "      <th>stalk-surface-below-ring</th>\n",
              "      <th>stalk-color-above-ring</th>\n",
              "      <th>stalk-color-below-ring</th>\n",
              "      <th>veil-color</th>\n",
              "      <th>ring-number</th>\n",
              "      <th>ring-type</th>\n",
              "      <th>spore-print-color</th>\n",
              "      <th>population</th>\n",
              "      <th>habitat</th>\n",
              "    </tr>\n",
              "  </thead>\n",
              "  <tbody>\n",
              "    <tr>\n",
              "      <th>0</th>\n",
              "      <td>0</td>\n",
              "      <td>0.532823</td>\n",
              "      <td>0.447574</td>\n",
              "      <td>0.553415</td>\n",
              "      <td>0.815166</td>\n",
              "      <td>2.917126e-11</td>\n",
              "      <td>0.507455</td>\n",
              "      <td>0.441574</td>\n",
              "      <td>0.114650</td>\n",
              "      <td>0.843137</td>\n",
              "      <td>...</td>\n",
              "      <td>0.703246</td>\n",
              "      <td>0.688817</td>\n",
              "      <td>0.616487</td>\n",
              "      <td>0.616788</td>\n",
              "      <td>0.506815</td>\n",
              "      <td>1</td>\n",
              "      <td>0.794355</td>\n",
              "      <td>0.880342</td>\n",
              "      <td>0.705128</td>\n",
              "      <td>0.260870</td>\n",
              "    </tr>\n",
              "    <tr>\n",
              "      <th>1</th>\n",
              "      <td>1</td>\n",
              "      <td>0.532823</td>\n",
              "      <td>0.447574</td>\n",
              "      <td>0.373134</td>\n",
              "      <td>0.815166</td>\n",
              "      <td>1.000000e+00</td>\n",
              "      <td>0.507455</td>\n",
              "      <td>0.441574</td>\n",
              "      <td>0.698503</td>\n",
              "      <td>0.843137</td>\n",
              "      <td>...</td>\n",
              "      <td>0.703246</td>\n",
              "      <td>0.688817</td>\n",
              "      <td>0.616487</td>\n",
              "      <td>0.616788</td>\n",
              "      <td>0.506815</td>\n",
              "      <td>1</td>\n",
              "      <td>0.794355</td>\n",
              "      <td>0.886179</td>\n",
              "      <td>1.000000</td>\n",
              "      <td>0.655493</td>\n",
              "    </tr>\n",
              "    <tr>\n",
              "      <th>2</th>\n",
              "      <td>1</td>\n",
              "      <td>0.893805</td>\n",
              "      <td>0.447574</td>\n",
              "      <td>0.692308</td>\n",
              "      <td>0.815166</td>\n",
              "      <td>1.000000e+00</td>\n",
              "      <td>0.507455</td>\n",
              "      <td>0.441574</td>\n",
              "      <td>0.698503</td>\n",
              "      <td>0.893130</td>\n",
              "      <td>...</td>\n",
              "      <td>0.703246</td>\n",
              "      <td>0.688817</td>\n",
              "      <td>0.616487</td>\n",
              "      <td>0.616788</td>\n",
              "      <td>0.506815</td>\n",
              "      <td>1</td>\n",
              "      <td>0.794355</td>\n",
              "      <td>0.886179</td>\n",
              "      <td>1.000000</td>\n",
              "      <td>0.876712</td>\n",
              "    </tr>\n",
              "    <tr>\n",
              "      <th>3</th>\n",
              "      <td>0</td>\n",
              "      <td>0.532823</td>\n",
              "      <td>0.463625</td>\n",
              "      <td>0.692308</td>\n",
              "      <td>0.815166</td>\n",
              "      <td>2.917126e-11</td>\n",
              "      <td>0.507455</td>\n",
              "      <td>0.441574</td>\n",
              "      <td>0.114650</td>\n",
              "      <td>0.893130</td>\n",
              "      <td>...</td>\n",
              "      <td>0.703246</td>\n",
              "      <td>0.688817</td>\n",
              "      <td>0.616487</td>\n",
              "      <td>0.616788</td>\n",
              "      <td>0.506815</td>\n",
              "      <td>1</td>\n",
              "      <td>0.794355</td>\n",
              "      <td>0.880342</td>\n",
              "      <td>0.705128</td>\n",
              "      <td>0.260870</td>\n",
              "    </tr>\n",
              "    <tr>\n",
              "      <th>4</th>\n",
              "      <td>1</td>\n",
              "      <td>0.532823</td>\n",
              "      <td>0.447574</td>\n",
              "      <td>0.560870</td>\n",
              "      <td>0.306655</td>\n",
              "      <td>9.659864e-01</td>\n",
              "      <td>0.507455</td>\n",
              "      <td>0.914634</td>\n",
              "      <td>0.698503</td>\n",
              "      <td>0.843137</td>\n",
              "      <td>...</td>\n",
              "      <td>0.703246</td>\n",
              "      <td>0.688817</td>\n",
              "      <td>0.616487</td>\n",
              "      <td>0.616788</td>\n",
              "      <td>0.506815</td>\n",
              "      <td>1</td>\n",
              "      <td>0.363112</td>\n",
              "      <td>0.886179</td>\n",
              "      <td>1.000000</td>\n",
              "      <td>0.655493</td>\n",
              "    </tr>\n",
              "  </tbody>\n",
              "</table>\n",
              "<p>5 rows × 22 columns</p>\n",
              "</div>"
            ],
            "text/plain": [
              "   edible  cap-shape  cap-surface  cap-color   bruises          odor  \\\n",
              "0       0   0.532823     0.447574   0.553415  0.815166  2.917126e-11   \n",
              "1       1   0.532823     0.447574   0.373134  0.815166  1.000000e+00   \n",
              "2       1   0.893805     0.447574   0.692308  0.815166  1.000000e+00   \n",
              "3       0   0.532823     0.463625   0.692308  0.815166  2.917126e-11   \n",
              "4       1   0.532823     0.447574   0.560870  0.306655  9.659864e-01   \n",
              "\n",
              "   gill-attachment  gill-spacing  gill-size  gill-color  ...  \\\n",
              "0         0.507455      0.441574   0.114650    0.843137  ...   \n",
              "1         0.507455      0.441574   0.698503    0.843137  ...   \n",
              "2         0.507455      0.441574   0.698503    0.893130  ...   \n",
              "3         0.507455      0.441574   0.114650    0.893130  ...   \n",
              "4         0.507455      0.914634   0.698503    0.843137  ...   \n",
              "\n",
              "   stalk-surface-above-ring  stalk-surface-below-ring  stalk-color-above-ring  \\\n",
              "0                  0.703246                  0.688817                0.616487   \n",
              "1                  0.703246                  0.688817                0.616487   \n",
              "2                  0.703246                  0.688817                0.616487   \n",
              "3                  0.703246                  0.688817                0.616487   \n",
              "4                  0.703246                  0.688817                0.616487   \n",
              "\n",
              "   stalk-color-below-ring  veil-color  ring-number  ring-type  \\\n",
              "0                0.616788    0.506815            1   0.794355   \n",
              "1                0.616788    0.506815            1   0.794355   \n",
              "2                0.616788    0.506815            1   0.794355   \n",
              "3                0.616788    0.506815            1   0.794355   \n",
              "4                0.616788    0.506815            1   0.363112   \n",
              "\n",
              "   spore-print-color  population   habitat  \n",
              "0           0.880342    0.705128  0.260870  \n",
              "1           0.886179    1.000000  0.655493  \n",
              "2           0.886179    1.000000  0.876712  \n",
              "3           0.880342    0.705128  0.260870  \n",
              "4           0.886179    1.000000  0.655493  \n",
              "\n",
              "[5 rows x 22 columns]"
            ]
          },
          "execution_count": 17,
          "metadata": {},
          "output_type": "execute_result"
        }
      ],
      "source": [
        "from category_encoders import TargetEncoder\n",
        "encoder = TargetEncoder()\n",
        "df_te = df.copy()\n",
        "\n",
        "for col in cols:\n",
        "    df_te[col] = encoder.fit_transform(df[col], df['edible'])\n",
        "\n",
        "df_te.head()"
      ]
    },
    {
      "cell_type": "markdown",
      "metadata": {},
      "source": [
        "We now repeat the correlation methods for the dataset with the new encoding method."
      ]
    },
    {
      "cell_type": "code",
      "execution_count": 19,
      "metadata": {},
      "outputs": [
        {
          "data": {
            "text/plain": [
              "odor                        0.915786\n",
              "spore-print-color           0.711126\n",
              "gill-color                  0.667413\n",
              "ring-type                   0.600686\n",
              "stalk-surface-above-ring    0.553563\n",
              "gill-size                   0.540024\n",
              "stalk-surface-below-ring    0.532934\n",
              "stalk-color-above-ring      0.517833\n",
              "stalk-color-below-ring      0.509739\n",
              "bruises                     0.501530\n",
              "Name: edible, dtype: float64"
            ]
          },
          "execution_count": 19,
          "metadata": {},
          "output_type": "execute_result"
        }
      ],
      "source": [
        "corr_spearman = df_te.corr(method='spearman')['edible'].sort_values(key=abs, ascending=False)[1:].head(10)\n",
        "corr_spearman"
      ]
    },
    {
      "cell_type": "code",
      "execution_count": 20,
      "metadata": {},
      "outputs": [
        {
          "data": {
            "text/plain": [
              "odor                        0.970937\n",
              "spore-print-color           0.752599\n",
              "gill-color                  0.680456\n",
              "ring-type                   0.603147\n",
              "stalk-surface-above-ring    0.587908\n",
              "stalk-surface-below-ring    0.574837\n",
              "gill-size                   0.540024\n",
              "stalk-color-above-ring      0.524131\n",
              "stalk-color-below-ring      0.514109\n",
              "bruises                     0.501530\n",
              "Name: edible, dtype: float64"
            ]
          },
          "execution_count": 20,
          "metadata": {},
          "output_type": "execute_result"
        }
      ],
      "source": [
        "corr_pearson = df_te.corr(method='pearson')['edible'].sort_values(key=abs, ascending=False)[1:].head(10)\n",
        "corr_pearson"
      ]
    },
    {
      "cell_type": "markdown",
      "metadata": {},
      "source": [
        "This encoding method appears to provide much higher correlation constants than with ordinal encoding, which are also immutable as there is no way to alter the nature of the encoding. Hence these coefficients will be used to provide insight on which variables correlate most with edibility. \n",
        "\n",
        "It appears that there are few variables that have strong correlation to whether the mushrooms are edible or poisonous, with the strongest being `odor` with its correlation coefficient being 0.92 when calculated by the Spearman method, 0.97 when calculated by Pearson. As there are no numerical variables among the top 10 in either, such correlation coefficients do not show a relationship between two measured variables, but rather how strongly different categorical properties of the mushrooms can be said to indicate edibility. "
      ]
    },
    {
      "cell_type": "code",
      "execution_count": 21,
      "metadata": {},
      "outputs": [
        {
          "data": {
            "text/plain": [
              "{'gill-color',\n",
              " 'odor',\n",
              " 'ring-type',\n",
              " 'spore-print-color',\n",
              " 'stalk-surface-above-ring'}"
            ]
          },
          "execution_count": 21,
          "metadata": {},
          "output_type": "execute_result"
        }
      ],
      "source": [
        "top_n = 5\n",
        "set(corr_pearson[:top_n].index.to_list() + corr_spearman[:top_n].index.to_list())"
      ]
    },
    {
      "cell_type": "markdown",
      "metadata": {},
      "source": [
        "Therefore we will study the following variables. We will investigate if:\n",
        "\n",
        "* Mushrooms with `buff` for `gill color` are most liable to be poisonous\n",
        "* Mushrooms with `foul` for `odor` are most liable to be poisonous\n",
        "* Mushrooms with `pendant` for `ring-type` have the best chance of being edible\n",
        "* Mushrooms with `buff` for `spore-print-color` have the best chance of being edible\n",
        "* Mushrooms with `silky` for `stalk-surface-above-ring` are most liable to be poisonous"
      ]
    },
    {
      "cell_type": "code",
      "execution_count": 22,
      "metadata": {},
      "outputs": [
        {
          "data": {
            "text/plain": [
              "['gill-color',\n",
              " 'odor',\n",
              " 'ring-type',\n",
              " 'spore-print-color',\n",
              " 'stalk-surface-above-ring']"
            ]
          },
          "execution_count": 22,
          "metadata": {},
          "output_type": "execute_result"
        }
      ],
      "source": [
        "vars_to_study = ['gill-color',\n",
        "                'odor',\n",
        "                'ring-type',\n",
        "                'spore-print-color',\n",
        "                'stalk-surface-above-ring']\n",
        "vars_to_study"
      ]
    },
    {
      "cell_type": "markdown",
      "metadata": {},
      "source": [
        "---"
      ]
    },
    {
      "cell_type": "markdown",
      "metadata": {},
      "source": [
        "# EDA on selected variables"
      ]
    },
    {
      "cell_type": "code",
      "execution_count": 24,
      "metadata": {},
      "outputs": [
        {
          "data": {
            "text/html": [
              "<div>\n",
              "<style scoped>\n",
              "    .dataframe tbody tr th:only-of-type {\n",
              "        vertical-align: middle;\n",
              "    }\n",
              "\n",
              "    .dataframe tbody tr th {\n",
              "        vertical-align: top;\n",
              "    }\n",
              "\n",
              "    .dataframe thead th {\n",
              "        text-align: right;\n",
              "    }\n",
              "</style>\n",
              "<table border=\"1\" class=\"dataframe\">\n",
              "  <thead>\n",
              "    <tr style=\"text-align: right;\">\n",
              "      <th></th>\n",
              "      <th>gill-color</th>\n",
              "      <th>odor</th>\n",
              "      <th>ring-type</th>\n",
              "      <th>spore-print-color</th>\n",
              "      <th>stalk-surface-above-ring</th>\n",
              "      <th>edible</th>\n",
              "    </tr>\n",
              "  </thead>\n",
              "  <tbody>\n",
              "    <tr>\n",
              "      <th>0</th>\n",
              "      <td>black</td>\n",
              "      <td>pungent</td>\n",
              "      <td>pendant</td>\n",
              "      <td>black</td>\n",
              "      <td>smooth</td>\n",
              "      <td>0</td>\n",
              "    </tr>\n",
              "    <tr>\n",
              "      <th>1</th>\n",
              "      <td>black</td>\n",
              "      <td>almond</td>\n",
              "      <td>pendant</td>\n",
              "      <td>brown</td>\n",
              "      <td>smooth</td>\n",
              "      <td>1</td>\n",
              "    </tr>\n",
              "    <tr>\n",
              "      <th>2</th>\n",
              "      <td>brown</td>\n",
              "      <td>anise</td>\n",
              "      <td>pendant</td>\n",
              "      <td>brown</td>\n",
              "      <td>smooth</td>\n",
              "      <td>1</td>\n",
              "    </tr>\n",
              "    <tr>\n",
              "      <th>3</th>\n",
              "      <td>brown</td>\n",
              "      <td>pungent</td>\n",
              "      <td>pendant</td>\n",
              "      <td>black</td>\n",
              "      <td>smooth</td>\n",
              "      <td>0</td>\n",
              "    </tr>\n",
              "    <tr>\n",
              "      <th>4</th>\n",
              "      <td>black</td>\n",
              "      <td>none</td>\n",
              "      <td>evanescent</td>\n",
              "      <td>brown</td>\n",
              "      <td>smooth</td>\n",
              "      <td>1</td>\n",
              "    </tr>\n",
              "  </tbody>\n",
              "</table>\n",
              "</div>"
            ],
            "text/plain": [
              "  gill-color     odor   ring-type spore-print-color stalk-surface-above-ring  \\\n",
              "0      black  pungent     pendant             black                   smooth   \n",
              "1      black   almond     pendant             brown                   smooth   \n",
              "2      brown    anise     pendant             brown                   smooth   \n",
              "3      brown  pungent     pendant             black                   smooth   \n",
              "4      black     none  evanescent             brown                   smooth   \n",
              "\n",
              "   edible  \n",
              "0       0  \n",
              "1       1  \n",
              "2       1  \n",
              "3       0  \n",
              "4       1  "
            ]
          },
          "execution_count": 24,
          "metadata": {},
          "output_type": "execute_result"
        }
      ],
      "source": [
        "df_eda = df.filter(vars_to_study + ['edible'])\n",
        "df_eda.head()"
      ]
    },
    {
      "cell_type": "markdown",
      "metadata": {},
      "source": [
        "## Variables Distibution by Edibility"
      ]
    },
    {
      "cell_type": "markdown",
      "metadata": {},
      "source": [
        "Plotting the distributions (categorical) coloured by `edible`, recalling that poisonous=0, edible=1:"
      ]
    },
    {
      "cell_type": "code",
      "execution_count": 25,
      "metadata": {
        "tags": []
      },
      "outputs": [
        {
          "data": {
            "image/png": "[encoded data removed]",
            "text/plain": [
              "<Figure size 1200x500 with 1 Axes>"
            ]
          },
          "metadata": {},
          "output_type": "display_data"
        },
        {
          "name": "stdout",
          "output_type": "stream",
          "text": [
            "\n",
            "\n",
            "\n"
          ]
        },
        {
          "data": {
            "image/png": "[encoded data removed]",
            "text/plain": [
              "<Figure size 1200x500 with 1 Axes>"
            ]
          },
          "metadata": {},
          "output_type": "display_data"
        },
        {
          "name": "stdout",
          "output_type": "stream",
          "text": [
            "\n",
            "\n",
            "\n"
          ]
        },
        {
          "data": {
            "image/png": "[encoded data removed]",
            "text/plain": [
              "<Figure size 1200x500 with 1 Axes>"
            ]
          },
          "metadata": {},
          "output_type": "display_data"
        },
        {
          "name": "stdout",
          "output_type": "stream",
          "text": [
            "\n",
            "\n",
            "\n"
          ]
        },
        {
          "data": {
            "image/png": "[encoded data removed]",
            "text/plain": [
              "<Figure size 1200x500 with 1 Axes>"
            ]
          },
          "metadata": {},
          "output_type": "display_data"
        },
        {
          "name": "stdout",
          "output_type": "stream",
          "text": [
            "\n",
            "\n",
            "\n"
          ]
        },
        {
          "data": {
            "image/png": "[encoded data removed]",
            "text/plain": [
              "<Figure size 1200x500 with 1 Axes>"
            ]
          },
          "metadata": {},
          "output_type": "display_data"
        },
        {
          "name": "stdout",
          "output_type": "stream",
          "text": [
            "\n",
            "\n",
            "\n"
          ]
        }
      ],
      "source": [
        "%matplotlib inline\n",
        "import matplotlib.pyplot as plt\n",
        "import seaborn as sns\n",
        "sns.set_style('whitegrid')\n",
        "\n",
        "\n",
        "def plot_categorical(df, col, target_var):\n",
        "\n",
        "    plt.figure(figsize=(12, 5))\n",
        "    sns.countplot(data=df, x=col, hue=target_var, order=df[col].value_counts().index)\n",
        "    plt.xticks(rotation=90)\n",
        "    plt.title(f\"{col}\", fontsize=20, y=1.05)\n",
        "    plt.show()\n",
        "\n",
        "\n",
        "def plot_numerical(df, col, target_var):\n",
        "    plt.figure(figsize=(8, 5))\n",
        "    sns.histplot(data=df, x=col, hue=target_var, kde=True, element=\"step\")\n",
        "    plt.title(f\"{col}\", fontsize=20, y=1.05)\n",
        "    plt.show()\n",
        "\n",
        "\n",
        "target_var = 'edible'\n",
        "for col in vars_to_study:\n",
        "    if df_eda[col].dtype == 'object':\n",
        "        plot_categorical(df_eda, col, target_var)\n",
        "        print(\"\\n\\n\")\n",
        "    else:\n",
        "        plot_numerical(df_eda, col, target_var)\n",
        "        print(\"\\n\\n\")"
      ]
    },
    {
      "cell_type": "markdown",
      "metadata": {},
      "source": [
        "## Parellel Plot"
      ]
    },
    {
      "cell_type": "markdown",
      "metadata": {},
      "source": [
        "Creates multi-dimensional categorical data plot"
      ]
    },
    {
      "cell_type": "code",
      "execution_count": 30,
      "metadata": {},
      "outputs": [
        {
          "ename": "ValueError",
          "evalue": "Mime type rendering requires nbformat>=4.2.0 but it is not installed",
          "output_type": "error",
          "traceback": [
            "\u001b[0;31m---------------------------------------------------------------------------\u001b[0m",
            "\u001b[0;31mValueError\u001b[0m                                Traceback (most recent call last)",
            "Cell \u001b[0;32mIn[30], line 3\u001b[0m\n\u001b[1;32m      1\u001b[0m \u001b[38;5;28;01mimport\u001b[39;00m \u001b[38;5;21;01mplotly\u001b[39;00m\u001b[38;5;21;01m.\u001b[39;00m\u001b[38;5;21;01mexpress\u001b[39;00m \u001b[38;5;28;01mas\u001b[39;00m \u001b[38;5;21;01mpx\u001b[39;00m\n\u001b[1;32m      2\u001b[0m fig \u001b[38;5;241m=\u001b[39m px\u001b[38;5;241m.\u001b[39mparallel_categories(df_eda, color\u001b[38;5;241m=\u001b[39m\u001b[38;5;124m\"\u001b[39m\u001b[38;5;124medible\u001b[39m\u001b[38;5;124m\"\u001b[39m)\n\u001b[0;32m----> 3\u001b[0m \u001b[43mfig\u001b[49m\u001b[38;5;241;43m.\u001b[39;49m\u001b[43mshow\u001b[49m\u001b[43m(\u001b[49m\u001b[43m)\u001b[49m\n",
            "File \u001b[0;32m~/.pyenv/versions/3.8.12/lib/python3.8/site-packages/plotly/basedatatypes.py:3149\u001b[0m, in \u001b[0;36mBaseFigure.show\u001b[0;34m(self, *args, **kwargs)\u001b[0m\n\u001b[1;32m   3128\u001b[0m \u001b[39m\u001b[39m\u001b[39m\"\"\"\u001b[39;00m\n\u001b[1;32m   3129\u001b[0m \u001b[39mShow a figure using either the default renderer(s) or the renderer(s)\u001b[39;00m\n\u001b[1;32m   3130\u001b[0m \u001b[39mspecified by the renderer argument\u001b[39;00m\n\u001b[0;32m   (...)\u001b[0m\n\u001b[1;32m   3145\u001b[0m \u001b[39mNone\u001b[39;00m\n\u001b[1;32m   3146\u001b[0m \u001b[39m\"\"\"\u001b[39;00m\n\u001b[1;32m   3147\u001b[0m \u001b[39mimport\u001b[39;00m \u001b[39mplotly\u001b[39;00m\u001b[39m.\u001b[39;00m\u001b[39mio\u001b[39;00m \u001b[39mas\u001b[39;00m \u001b[39mpio\u001b[39;00m\n\u001b[0;32m-> 3149\u001b[0m \u001b[39mreturn\u001b[39;00m pio\u001b[39m.\u001b[39;49mshow(\u001b[39mself\u001b[39;49m, \u001b[39m*\u001b[39;49margs, \u001b[39m*\u001b[39;49m\u001b[39m*\u001b[39;49mkwargs)\n",
            "File \u001b[0;32m~/.pyenv/versions/3.8.12/lib/python3.8/site-packages/plotly/io/_renderers.py:385\u001b[0m, in \u001b[0;36mshow\u001b[0;34m(fig, renderer, validate, **kwargs)\u001b[0m\n\u001b[1;32m    380\u001b[0m         \u001b[39mraise\u001b[39;00m \u001b[39mValueError\u001b[39;00m(\n\u001b[1;32m    381\u001b[0m             \u001b[39m\"\u001b[39m\u001b[39mMime type rendering requires ipython but it is not installed\u001b[39m\u001b[39m\"\u001b[39m\n\u001b[1;32m    382\u001b[0m         )\n\u001b[1;32m    384\u001b[0m     \u001b[39mif\u001b[39;00m \u001b[39mnot\u001b[39;00m nbformat \u001b[39mor\u001b[39;00m LooseVersion(nbformat\u001b[39m.\u001b[39m__version__) \u001b[39m<\u001b[39m LooseVersion(\u001b[39m\"\u001b[39m\u001b[39m4.2.0\u001b[39m\u001b[39m\"\u001b[39m):\n\u001b[0;32m--> 385\u001b[0m         \u001b[39mraise\u001b[39;00m \u001b[39mValueError\u001b[39;00m(\n\u001b[1;32m    386\u001b[0m             \u001b[39m\"\u001b[39m\u001b[39mMime type rendering requires nbformat>=4.2.0 but it is not installed\u001b[39m\u001b[39m\"\u001b[39m\n\u001b[1;32m    387\u001b[0m         )\n\u001b[1;32m    389\u001b[0m     ipython_display\u001b[39m.\u001b[39mdisplay(bundle, raw\u001b[39m=\u001b[39m\u001b[39mTrue\u001b[39;00m)\n\u001b[1;32m    391\u001b[0m \u001b[39m# external renderers\u001b[39;00m\n",
            "\u001b[0;31mValueError\u001b[0m: Mime type rendering requires nbformat>=4.2.0 but it is not installed"
          ]
        }
      ],
      "source": [
        "import plotly.express as px\n",
        "fig = px.parallel_categories(df_eda, color=\"edible\")\n",
        "fig.show()"
      ]
    },
    {
      "cell_type": "markdown",
      "metadata": {},
      "source": [
        "---"
      ]
    },
    {
      "cell_type": "markdown",
      "metadata": {},
      "source": [
        "# Conclusions"
      ]
    },
    {
      "cell_type": "markdown",
      "metadata": {},
      "source": [
        "The correlations and plot interpretations converge, in that it can be observed that the selected categories appear to be significant predictors of whether mushrooms are edible or not. It was found that:\n",
        "\n",
        "* Mushrooms with `b` (brown) for `gill color` are most liable to be poisonous\n",
        "* Mushrooms with `f` (foul) for `odor` are most liable to be poisonous\n",
        "* Mushrooms with `p` (pendant) for `ring-type` have the best chance of being edible\n",
        "* Mushrooms with `b` (brown) for `spore-print-color` have the best chance of being edible\n",
        "* Mushrooms with `k` (silky) for `stalk-surface-above-ring` are most liable to be poisonous"
      ]
    }
  ],
  "metadata": {
    "accelerator": "GPU",
    "colab": {
      "name": "Data Practitioner Jupyter Notebook.ipynb",
      "provenance": [],
      "toc_visible": true
    },
    "kernelspec": {
      "display_name": "Python 3.8.12 64-bit ('3.8.12')",
      "language": "python",
      "name": "python3"
    },
    "language_info": {
      "codemirror_mode": {
        "name": "ipython",
        "version": 3
      },
      "file_extension": ".py",
      "mimetype": "text/x-python",
      "name": "python",
      "nbconvert_exporter": "python",
      "pygments_lexer": "ipython3",
      "version": "3.8.12"
    },
    "orig_nbformat": 2,
    "vscode": {
      "interpreter": {
        "hash": "8b8334dab9339717f727a1deaf837b322d7a41c20d15cc86be99a8e69ceec8ce"
      }
    }
  },
  "nbformat": 4,
  "nbformat_minor": 2
}
