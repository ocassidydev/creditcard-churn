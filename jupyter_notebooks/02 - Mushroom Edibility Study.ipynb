{
  "cells": [
    {
      "cell_type": "markdown",
      "metadata": {
        "id": "0aStgWSO0E0E"
      },
      "source": [
        "# **Mushroom Edibility Study**"
      ]
    },
    {
      "cell_type": "markdown",
      "metadata": {
        "id": "1eLEkw5O0ECa"
      },
      "source": [
        "## Objectives\n",
        "\n",
        "* Answer business requirement 1:\n",
        "    * The client would like to better understand the patterns in the mushroom database so that the client can learn the variables of an mushroom most likely to be edible. \n",
        "\n",
        "## Inputs\n",
        "\n",
        "* outputs/datasets/collection/mushrooms.csv\n",
        "\n",
        "## Outputs\n",
        "\n",
        "* Generate code and seaborn plots that answer business requirement 1 and can be used for the Streamlit App\n"
      ]
    },
    {
      "cell_type": "markdown",
      "metadata": {
        "id": "9uWZXH9LwoQg"
      },
      "source": [
        "---"
      ]
    },
    {
      "cell_type": "markdown",
      "metadata": {
        "id": "cqP-UeN-z3i2"
      },
      "source": [
        "# Change working directory"
      ]
    },
    {
      "cell_type": "markdown",
      "metadata": {},
      "source": [
        "* Need to change working directory from the current jupyter_notebooks folder to the parent folder in order to access the whole project"
      ]
    },
    {
      "cell_type": "markdown",
      "metadata": {
        "id": "aOGIGS-uz3i2"
      },
      "source": [
        "We need to change the working directory from its current folder to its parent folder\n",
        "* We access the current directory with os.getcwd()"
      ]
    },
    {
      "cell_type": "code",
      "execution_count": 1,
      "metadata": {
        "id": "wZfF_j-Bz3i4",
        "outputId": "66943449-1436-4c3d-85c7-b85f9f78349b"
      },
      "outputs": [
        {
          "data": {
            "text/plain": [
              "'/workspace/mushroom-safety/jupyter_notebooks'"
            ]
          },
          "execution_count": 1,
          "metadata": {},
          "output_type": "execute_result"
        }
      ],
      "source": [
        "import os\n",
        "current_dir = os.getcwd()\n",
        "current_dir"
      ]
    },
    {
      "cell_type": "markdown",
      "metadata": {
        "id": "9MWW8E7lz3i7"
      },
      "source": [
        "We want to make the parent of the current directory the new current directory\n",
        "* os.path.dirname() gets the parent directory\n",
        "* os.chir() defines the new current directory"
      ]
    },
    {
      "cell_type": "code",
      "execution_count": 2,
      "metadata": {
        "id": "TwHsQRWjz3i9",
        "outputId": "86849db3-cd2f-4cc5-ebb8-2d0caafa1a2c",
        "tags": []
      },
      "outputs": [
        {
          "name": "stdout",
          "output_type": "stream",
          "text": [
            "You set a new current directory\n"
          ]
        }
      ],
      "source": [
        "os.chdir(os.path.dirname(current_dir))\n",
        "print(\"You set a new current directory\")"
      ]
    },
    {
      "cell_type": "markdown",
      "metadata": {
        "id": "M_xPk_Ijz3i-"
      },
      "source": [
        "Confirm the new current directory"
      ]
    },
    {
      "cell_type": "code",
      "execution_count": 3,
      "metadata": {
        "id": "vz3S-_kjz3jA",
        "outputId": "00b79ae4-75d0-4a96-d193-ac9ef9847ea2"
      },
      "outputs": [
        {
          "data": {
            "text/plain": [
              "'/workspace/mushroom-safety'"
            ]
          },
          "execution_count": 3,
          "metadata": {},
          "output_type": "execute_result"
        }
      ],
      "source": [
        "current_dir = os.getcwd()\n",
        "current_dir"
      ]
    },
    {
      "cell_type": "markdown",
      "metadata": {
        "id": "-mavJ8DibrcQ"
      },
      "source": [
        "# Load Data"
      ]
    },
    {
      "cell_type": "markdown",
      "metadata": {},
      "source": [
        "Load in the dataset to a dataframe."
      ]
    },
    {
      "cell_type": "code",
      "execution_count": 4,
      "metadata": {},
      "outputs": [
        {
          "data": {
            "text/html": [
              "<div>\n",
              "<style scoped>\n",
              "    .dataframe tbody tr th:only-of-type {\n",
              "        vertical-align: middle;\n",
              "    }\n",
              "\n",
              "    .dataframe tbody tr th {\n",
              "        vertical-align: top;\n",
              "    }\n",
              "\n",
              "    .dataframe thead th {\n",
              "        text-align: right;\n",
              "    }\n",
              "</style>\n",
              "<table border=\"1\" class=\"dataframe\">\n",
              "  <thead>\n",
              "    <tr style=\"text-align: right;\">\n",
              "      <th></th>\n",
              "      <th>edible</th>\n",
              "      <th>cap-shape</th>\n",
              "      <th>cap-surface</th>\n",
              "      <th>cap-color</th>\n",
              "      <th>bruises</th>\n",
              "      <th>odor</th>\n",
              "      <th>gill-attachment</th>\n",
              "      <th>gill-spacing</th>\n",
              "      <th>gill-size</th>\n",
              "      <th>gill-color</th>\n",
              "      <th>...</th>\n",
              "      <th>stalk-surface-below-ring</th>\n",
              "      <th>stalk-color-above-ring</th>\n",
              "      <th>stalk-color-below-ring</th>\n",
              "      <th>veil-type</th>\n",
              "      <th>veil-color</th>\n",
              "      <th>ring-number</th>\n",
              "      <th>ring-type</th>\n",
              "      <th>spore-print-color</th>\n",
              "      <th>population</th>\n",
              "      <th>habitat</th>\n",
              "    </tr>\n",
              "  </thead>\n",
              "  <tbody>\n",
              "    <tr>\n",
              "      <th>0</th>\n",
              "      <td>0</td>\n",
              "      <td>convex</td>\n",
              "      <td>smooth</td>\n",
              "      <td>brown</td>\n",
              "      <td>bruises</td>\n",
              "      <td>pungent</td>\n",
              "      <td>free</td>\n",
              "      <td>close</td>\n",
              "      <td>narrow</td>\n",
              "      <td>black</td>\n",
              "      <td>...</td>\n",
              "      <td>smooth</td>\n",
              "      <td>white</td>\n",
              "      <td>white</td>\n",
              "      <td>partial</td>\n",
              "      <td>white</td>\n",
              "      <td>one</td>\n",
              "      <td>pendant</td>\n",
              "      <td>black</td>\n",
              "      <td>scattered</td>\n",
              "      <td>urban</td>\n",
              "    </tr>\n",
              "    <tr>\n",
              "      <th>1</th>\n",
              "      <td>1</td>\n",
              "      <td>convex</td>\n",
              "      <td>smooth</td>\n",
              "      <td>yellow</td>\n",
              "      <td>bruises</td>\n",
              "      <td>almond</td>\n",
              "      <td>free</td>\n",
              "      <td>close</td>\n",
              "      <td>broad</td>\n",
              "      <td>black</td>\n",
              "      <td>...</td>\n",
              "      <td>smooth</td>\n",
              "      <td>white</td>\n",
              "      <td>white</td>\n",
              "      <td>partial</td>\n",
              "      <td>white</td>\n",
              "      <td>one</td>\n",
              "      <td>pendant</td>\n",
              "      <td>brown</td>\n",
              "      <td>numerous</td>\n",
              "      <td>grasses</td>\n",
              "    </tr>\n",
              "    <tr>\n",
              "      <th>2</th>\n",
              "      <td>1</td>\n",
              "      <td>bell</td>\n",
              "      <td>smooth</td>\n",
              "      <td>white</td>\n",
              "      <td>bruises</td>\n",
              "      <td>anise</td>\n",
              "      <td>free</td>\n",
              "      <td>close</td>\n",
              "      <td>broad</td>\n",
              "      <td>brown</td>\n",
              "      <td>...</td>\n",
              "      <td>smooth</td>\n",
              "      <td>white</td>\n",
              "      <td>white</td>\n",
              "      <td>partial</td>\n",
              "      <td>white</td>\n",
              "      <td>one</td>\n",
              "      <td>pendant</td>\n",
              "      <td>brown</td>\n",
              "      <td>numerous</td>\n",
              "      <td>meadows</td>\n",
              "    </tr>\n",
              "    <tr>\n",
              "      <th>3</th>\n",
              "      <td>0</td>\n",
              "      <td>convex</td>\n",
              "      <td>scaly</td>\n",
              "      <td>white</td>\n",
              "      <td>bruises</td>\n",
              "      <td>pungent</td>\n",
              "      <td>free</td>\n",
              "      <td>close</td>\n",
              "      <td>narrow</td>\n",
              "      <td>brown</td>\n",
              "      <td>...</td>\n",
              "      <td>smooth</td>\n",
              "      <td>white</td>\n",
              "      <td>white</td>\n",
              "      <td>partial</td>\n",
              "      <td>white</td>\n",
              "      <td>one</td>\n",
              "      <td>pendant</td>\n",
              "      <td>black</td>\n",
              "      <td>scattered</td>\n",
              "      <td>urban</td>\n",
              "    </tr>\n",
              "    <tr>\n",
              "      <th>4</th>\n",
              "      <td>1</td>\n",
              "      <td>convex</td>\n",
              "      <td>smooth</td>\n",
              "      <td>gray</td>\n",
              "      <td>no</td>\n",
              "      <td>none</td>\n",
              "      <td>free</td>\n",
              "      <td>crowded</td>\n",
              "      <td>broad</td>\n",
              "      <td>black</td>\n",
              "      <td>...</td>\n",
              "      <td>smooth</td>\n",
              "      <td>white</td>\n",
              "      <td>white</td>\n",
              "      <td>partial</td>\n",
              "      <td>white</td>\n",
              "      <td>one</td>\n",
              "      <td>evanescent</td>\n",
              "      <td>brown</td>\n",
              "      <td>abundant</td>\n",
              "      <td>grasses</td>\n",
              "    </tr>\n",
              "  </tbody>\n",
              "</table>\n",
              "<p>5 rows × 23 columns</p>\n",
              "</div>"
            ],
            "text/plain": [
              "   edible cap-shape cap-surface cap-color  bruises     odor gill-attachment  \\\n",
              "0       0    convex      smooth     brown  bruises  pungent            free   \n",
              "1       1    convex      smooth    yellow  bruises   almond            free   \n",
              "2       1      bell      smooth     white  bruises    anise            free   \n",
              "3       0    convex       scaly     white  bruises  pungent            free   \n",
              "4       1    convex      smooth      gray       no     none            free   \n",
              "\n",
              "  gill-spacing gill-size gill-color  ... stalk-surface-below-ring  \\\n",
              "0        close    narrow      black  ...                   smooth   \n",
              "1        close     broad      black  ...                   smooth   \n",
              "2        close     broad      brown  ...                   smooth   \n",
              "3        close    narrow      brown  ...                   smooth   \n",
              "4      crowded     broad      black  ...                   smooth   \n",
              "\n",
              "  stalk-color-above-ring stalk-color-below-ring veil-type veil-color  \\\n",
              "0                  white                  white   partial      white   \n",
              "1                  white                  white   partial      white   \n",
              "2                  white                  white   partial      white   \n",
              "3                  white                  white   partial      white   \n",
              "4                  white                  white   partial      white   \n",
              "\n",
              "  ring-number   ring-type spore-print-color population  habitat  \n",
              "0         one     pendant             black  scattered    urban  \n",
              "1         one     pendant             brown   numerous  grasses  \n",
              "2         one     pendant             brown   numerous  meadows  \n",
              "3         one     pendant             black  scattered    urban  \n",
              "4         one  evanescent             brown   abundant  grasses  \n",
              "\n",
              "[5 rows x 23 columns]"
            ]
          },
          "execution_count": 4,
          "metadata": {},
          "output_type": "execute_result"
        }
      ],
      "source": [
        "import pandas as pd\n",
        "df = pd.read_csv(\"outputs/datasets/collection/mushrooms.csv\")\n",
        "df.head()"
      ]
    },
    {
      "cell_type": "markdown",
      "metadata": {},
      "source": [
        "---"
      ]
    },
    {
      "cell_type": "markdown",
      "metadata": {},
      "source": [
        "# Data Exploration #"
      ]
    },
    {
      "cell_type": "markdown",
      "metadata": {},
      "source": [
        "We wish to become familiar with the dataset, check variable types and their distribution, check for any missing data, and to understand what these variables mean in the business context"
      ]
    },
    {
      "cell_type": "code",
      "execution_count": null,
      "metadata": {
        "id": "ZY3l0-AxO93d"
      },
      "outputs": [],
      "source": [
        "from ydata_profiling import ProfileReport\n",
        "pandas_report = ProfileReport(df=df, minimal=True)\n",
        "pandas_report.to_notebook_iframe()"
      ]
    },
    {
      "cell_type": "markdown",
      "metadata": {},
      "source": [
        "There is no missing or incorrectly formatted values, so we are able to proceed."
      ]
    },
    {
      "cell_type": "markdown",
      "metadata": {},
      "source": [
        "---"
      ]
    },
    {
      "cell_type": "markdown",
      "metadata": {
        "id": "uFQo3ycuO-v6"
      },
      "source": [
        "## Correlation study - Which Mushroom Variable Categories Correlate Most to Edibility"
      ]
    },
    {
      "cell_type": "markdown",
      "metadata": {},
      "source": [
        "We will use `OneHotEncoder` to find which variable category (eg. mushroom with `odor=none`, mushroom with `stalk-color-above-ring=silky`) correlates strongest to edibility."
      ]
    },
    {
      "cell_type": "code",
      "execution_count": 5,
      "metadata": {},
      "outputs": [
        {
          "data": {
            "text/html": [
              "<div>\n",
              "<style scoped>\n",
              "    .dataframe tbody tr th:only-of-type {\n",
              "        vertical-align: middle;\n",
              "    }\n",
              "\n",
              "    .dataframe tbody tr th {\n",
              "        vertical-align: top;\n",
              "    }\n",
              "\n",
              "    .dataframe thead th {\n",
              "        text-align: right;\n",
              "    }\n",
              "</style>\n",
              "<table border=\"1\" class=\"dataframe\">\n",
              "  <thead>\n",
              "    <tr style=\"text-align: right;\">\n",
              "      <th></th>\n",
              "      <th>edible</th>\n",
              "      <th>cap-shape_convex</th>\n",
              "      <th>cap-shape_bell</th>\n",
              "      <th>cap-shape_sunken</th>\n",
              "      <th>cap-shape_flat</th>\n",
              "      <th>cap-shape_knobbed</th>\n",
              "      <th>cap-shape_conical</th>\n",
              "      <th>cap-surface_smooth</th>\n",
              "      <th>cap-surface_scaly</th>\n",
              "      <th>cap-surface_fibrous</th>\n",
              "      <th>...</th>\n",
              "      <th>population_several</th>\n",
              "      <th>population_solitary</th>\n",
              "      <th>population_clustered</th>\n",
              "      <th>habitat_urban</th>\n",
              "      <th>habitat_grasses</th>\n",
              "      <th>habitat_meadows</th>\n",
              "      <th>habitat_woods</th>\n",
              "      <th>habitat_paths</th>\n",
              "      <th>habitat_waste</th>\n",
              "      <th>habitat_leaves</th>\n",
              "    </tr>\n",
              "  </thead>\n",
              "  <tbody>\n",
              "    <tr>\n",
              "      <th>0</th>\n",
              "      <td>0</td>\n",
              "      <td>1</td>\n",
              "      <td>0</td>\n",
              "      <td>0</td>\n",
              "      <td>0</td>\n",
              "      <td>0</td>\n",
              "      <td>0</td>\n",
              "      <td>1</td>\n",
              "      <td>0</td>\n",
              "      <td>0</td>\n",
              "      <td>...</td>\n",
              "      <td>0</td>\n",
              "      <td>0</td>\n",
              "      <td>0</td>\n",
              "      <td>1</td>\n",
              "      <td>0</td>\n",
              "      <td>0</td>\n",
              "      <td>0</td>\n",
              "      <td>0</td>\n",
              "      <td>0</td>\n",
              "      <td>0</td>\n",
              "    </tr>\n",
              "    <tr>\n",
              "      <th>1</th>\n",
              "      <td>1</td>\n",
              "      <td>1</td>\n",
              "      <td>0</td>\n",
              "      <td>0</td>\n",
              "      <td>0</td>\n",
              "      <td>0</td>\n",
              "      <td>0</td>\n",
              "      <td>1</td>\n",
              "      <td>0</td>\n",
              "      <td>0</td>\n",
              "      <td>...</td>\n",
              "      <td>0</td>\n",
              "      <td>0</td>\n",
              "      <td>0</td>\n",
              "      <td>0</td>\n",
              "      <td>1</td>\n",
              "      <td>0</td>\n",
              "      <td>0</td>\n",
              "      <td>0</td>\n",
              "      <td>0</td>\n",
              "      <td>0</td>\n",
              "    </tr>\n",
              "    <tr>\n",
              "      <th>2</th>\n",
              "      <td>1</td>\n",
              "      <td>0</td>\n",
              "      <td>1</td>\n",
              "      <td>0</td>\n",
              "      <td>0</td>\n",
              "      <td>0</td>\n",
              "      <td>0</td>\n",
              "      <td>1</td>\n",
              "      <td>0</td>\n",
              "      <td>0</td>\n",
              "      <td>...</td>\n",
              "      <td>0</td>\n",
              "      <td>0</td>\n",
              "      <td>0</td>\n",
              "      <td>0</td>\n",
              "      <td>0</td>\n",
              "      <td>1</td>\n",
              "      <td>0</td>\n",
              "      <td>0</td>\n",
              "      <td>0</td>\n",
              "      <td>0</td>\n",
              "    </tr>\n",
              "    <tr>\n",
              "      <th>3</th>\n",
              "      <td>0</td>\n",
              "      <td>1</td>\n",
              "      <td>0</td>\n",
              "      <td>0</td>\n",
              "      <td>0</td>\n",
              "      <td>0</td>\n",
              "      <td>0</td>\n",
              "      <td>0</td>\n",
              "      <td>1</td>\n",
              "      <td>0</td>\n",
              "      <td>...</td>\n",
              "      <td>0</td>\n",
              "      <td>0</td>\n",
              "      <td>0</td>\n",
              "      <td>1</td>\n",
              "      <td>0</td>\n",
              "      <td>0</td>\n",
              "      <td>0</td>\n",
              "      <td>0</td>\n",
              "      <td>0</td>\n",
              "      <td>0</td>\n",
              "    </tr>\n",
              "    <tr>\n",
              "      <th>4</th>\n",
              "      <td>1</td>\n",
              "      <td>1</td>\n",
              "      <td>0</td>\n",
              "      <td>0</td>\n",
              "      <td>0</td>\n",
              "      <td>0</td>\n",
              "      <td>0</td>\n",
              "      <td>1</td>\n",
              "      <td>0</td>\n",
              "      <td>0</td>\n",
              "      <td>...</td>\n",
              "      <td>0</td>\n",
              "      <td>0</td>\n",
              "      <td>0</td>\n",
              "      <td>0</td>\n",
              "      <td>1</td>\n",
              "      <td>0</td>\n",
              "      <td>0</td>\n",
              "      <td>0</td>\n",
              "      <td>0</td>\n",
              "      <td>0</td>\n",
              "    </tr>\n",
              "  </tbody>\n",
              "</table>\n",
              "<p>5 rows × 118 columns</p>\n",
              "</div>"
            ],
            "text/plain": [
              "   edible  cap-shape_convex  cap-shape_bell  cap-shape_sunken  cap-shape_flat  \\\n",
              "0       0                 1               0                 0               0   \n",
              "1       1                 1               0                 0               0   \n",
              "2       1                 0               1                 0               0   \n",
              "3       0                 1               0                 0               0   \n",
              "4       1                 1               0                 0               0   \n",
              "\n",
              "   cap-shape_knobbed  cap-shape_conical  cap-surface_smooth  \\\n",
              "0                  0                  0                   1   \n",
              "1                  0                  0                   1   \n",
              "2                  0                  0                   1   \n",
              "3                  0                  0                   0   \n",
              "4                  0                  0                   1   \n",
              "\n",
              "   cap-surface_scaly  cap-surface_fibrous  ...  population_several  \\\n",
              "0                  0                    0  ...                   0   \n",
              "1                  0                    0  ...                   0   \n",
              "2                  0                    0  ...                   0   \n",
              "3                  1                    0  ...                   0   \n",
              "4                  0                    0  ...                   0   \n",
              "\n",
              "   population_solitary  population_clustered  habitat_urban  habitat_grasses  \\\n",
              "0                    0                     0              1                0   \n",
              "1                    0                     0              0                1   \n",
              "2                    0                     0              0                0   \n",
              "3                    0                     0              1                0   \n",
              "4                    0                     0              0                1   \n",
              "\n",
              "   habitat_meadows  habitat_woods  habitat_paths  habitat_waste  \\\n",
              "0                0              0              0              0   \n",
              "1                0              0              0              0   \n",
              "2                1              0              0              0   \n",
              "3                0              0              0              0   \n",
              "4                0              0              0              0   \n",
              "\n",
              "   habitat_leaves  \n",
              "0               0  \n",
              "1               0  \n",
              "2               0  \n",
              "3               0  \n",
              "4               0  \n",
              "\n",
              "[5 rows x 118 columns]"
            ]
          },
          "execution_count": 5,
          "metadata": {},
          "output_type": "execute_result"
        }
      ],
      "source": [
        "from feature_engine.encoding import OneHotEncoder\n",
        "\n",
        "cols = df.columns[df.dtypes=='object'].to_list()\n",
        "df_ohe = df.filter(['edible'])\n",
        "for col in cols:\n",
        "    encoder = OneHotEncoder(variables=[col])\n",
        "    df_ohe = pd.concat([df_ohe, encoder.fit_transform(df[col].to_frame())], axis=1)\n",
        "df_ohe.head()"
      ]
    },
    {
      "cell_type": "markdown",
      "metadata": {},
      "source": [
        "Will now run Pearson and Spearman correlations to check which variable categories correlate most to `edible`"
      ]
    },
    {
      "cell_type": "code",
      "execution_count": 6,
      "metadata": {},
      "outputs": [
        {
          "data": {
            "text/plain": [
              "odor_none                         0.785557\n",
              "odor_foul                        -0.623842\n",
              "stalk-surface-above-ring_silky   -0.587658\n",
              "stalk-surface-below-ring_silky   -0.573524\n",
              "ring-type_pendant                 0.540469\n",
              "gill-size_broad                   0.540024\n",
              "gill-size_narrow                 -0.540024\n",
              "gill-color_buff                  -0.538808\n",
              "bruises_bruises                   0.501530\n",
              "bruises_no                       -0.501530\n",
              "Name: edible, dtype: float64"
            ]
          },
          "execution_count": 6,
          "metadata": {},
          "output_type": "execute_result"
        }
      ],
      "source": [
        "corr_spearman = df_ohe.corr(method='spearman')['edible'].sort_values(key=abs, ascending=False)[1:].head(10)\n",
        "corr_spearman"
      ]
    },
    {
      "cell_type": "code",
      "execution_count": 7,
      "metadata": {},
      "outputs": [
        {
          "data": {
            "text/plain": [
              "odor_none                         0.785557\n",
              "odor_foul                        -0.623842\n",
              "stalk-surface-above-ring_silky   -0.587658\n",
              "stalk-surface-below-ring_silky   -0.573524\n",
              "ring-type_pendant                 0.540469\n",
              "gill-size_narrow                 -0.540024\n",
              "gill-size_broad                   0.540024\n",
              "gill-color_buff                  -0.538808\n",
              "bruises_bruises                   0.501530\n",
              "bruises_no                       -0.501530\n",
              "Name: edible, dtype: float64"
            ]
          },
          "execution_count": 7,
          "metadata": {},
          "output_type": "execute_result"
        }
      ],
      "source": [
        "corr_pearson = df_ohe.corr(method='pearson')['edible'].sort_values(key=abs, ascending=False)[1:].head(10)\n",
        "corr_pearson"
      ]
    },
    {
      "cell_type": "markdown",
      "metadata": {},
      "source": [
        "According to this correlation study, a mushroom having no odor is the most strongly correlated to edibility, with a Spearman correlation coefficient of 0.79 and Pearson coefficient of 0.79. Hence mushrooms with no odor are  typically edible. If the mushroom has a silky consistency above the ring is also strongly negatively correlated to a mushroom being edible, with a Spearman correlation coefficient of -0.59 and Pearson correlation coefficient of -0.59. Hence mushrooms with a silky consistency on the stalk above the ring are typically poisonous. \n",
        "\n",
        "We will also check the percentage of such mushrooms of these categories that are edible."
      ]
    },
    {
      "cell_type": "code",
      "execution_count": null,
      "metadata": {},
      "outputs": [],
      "source": [
        "cat_edibility_flag_series = df_ohe['edible'][df_ohe['odor_none'].loc[lambda x: x==1].index] \n",
        "\n",
        "proportion_of_cat_edible = cat_edibility_flag_series.value_counts()[1]/len(cat_edibility_flag_series)\n",
        "proportion_of_cat_edible "
      ]
    },
    {
      "cell_type": "code",
      "execution_count": null,
      "metadata": {},
      "outputs": [],
      "source": [
        "cat_edibility_flag_series = df_ohe['edible'][df_ohe['stalk-surface-above-ring_silky'].loc[lambda x: x==1].index] \n",
        "\n",
        "proportion_of_cat_edible = cat_edibility_flag_series.value_counts()[1]/len(cat_edibility_flag_series)\n",
        "proportion_of_cat_edible "
      ]
    },
    {
      "cell_type": "markdown",
      "metadata": {},
      "source": [
        "96.6% of all mushrooms with no odor are edible, and hence mushrooms of this category can be said to be typically edible. Only 6.06% of mushrooms with a silky stalk surface above the stalk ring are edible, and hence mushrooms of this category can be said to be typically poisonous."
      ]
    },
    {
      "cell_type": "markdown",
      "metadata": {},
      "source": [
        "## Correlation Study - Which Mushroom Variables are Most Relevant for Plotting"
      ]
    },
    {
      "cell_type": "markdown",
      "metadata": {},
      "source": [
        "We can use `OrdinalEncoder` to transform categorical variables into integer values, so they may be numerically correlated to `edible`. This will allow the measuring of how entire varaiable correlates to ediblity (e.g. `odor`), rather than only individual variable categories as with `OneHotEncoder` previously (e.g. `odor=none`). Firstly, determining the categeorical variables in the dataset, and storing their labels in a string:"
      ]
    },
    {
      "cell_type": "code",
      "execution_count": 8,
      "metadata": {
        "tags": []
      },
      "outputs": [
        {
          "name": "stdout",
          "output_type": "stream",
          "text": [
            "cap-shape\n",
            "['convex' 'bell' 'sunken' 'flat' 'knobbed' 'conical']\n",
            "cap-surface\n",
            "['smooth' 'scaly' 'fibrous' 'grooves']\n",
            "cap-color\n",
            "['brown' 'yellow' 'white' 'gray' 'red' 'pink' 'buff' 'purple' 'cinnamon'\n",
            " 'green']\n",
            "bruises\n",
            "['bruises' 'no']\n",
            "odor\n",
            "['pungent' 'almond' 'anise' 'none' 'foul' 'creosote' 'fishy' 'spicy'\n",
            " 'musty']\n",
            "gill-attachment\n",
            "['free' 'attached']\n",
            "gill-spacing\n",
            "['close' 'crowded']\n",
            "gill-size\n",
            "['narrow' 'broad']\n",
            "gill-color\n",
            "['black' 'brown' 'gray' 'pink' 'white' 'chocolate' 'purple' 'red' 'buff'\n",
            " 'green' 'yellow' 'orange']\n",
            "stalk-shape\n",
            "['enlarging' 'tapering']\n",
            "stalk-root\n",
            "['equal' 'club' 'bulbous' 'rooted' 'missing']\n",
            "stalk-surface-above-ring\n",
            "['smooth' 'fibrous' 'silky' 'scaly']\n",
            "stalk-surface-below-ring\n",
            "['smooth' 'fibrous' 'scaly' 'silky']\n",
            "stalk-color-above-ring\n",
            "['white' 'gray' 'pink' 'brown' 'buff' 'red' 'orange' 'cinnamon' 'yellow']\n",
            "stalk-color-below-ring\n",
            "['white' 'pink' 'gray' 'buff' 'brown' 'red' 'yellow' 'orange' 'cinnamon']\n",
            "veil-type\n",
            "['partial']\n",
            "veil-color\n",
            "['white' 'brown' 'orange' 'yellow']\n",
            "ring-number\n",
            "['one' 'two' 'none']\n",
            "ring-type\n",
            "['pendant' 'evanescent' 'large' 'flaring' 'none']\n",
            "spore-print-color\n",
            "['black' 'brown' 'purple' 'chocolate' 'white' 'green' 'orange' 'yellow'\n",
            " 'buff']\n",
            "population\n",
            "['scattered' 'numerous' 'abundant' 'several' 'solitary' 'clustered']\n",
            "habitat\n",
            "['urban' 'grasses' 'meadows' 'woods' 'paths' 'waste' 'leaves']\n"
          ]
        }
      ],
      "source": [
        "df_oe = df.copy()\n",
        "cols = df.columns[df.dtypes=='object'].to_list()\n",
        "\n",
        "cat_list=[]\n",
        "\n",
        "for col in cols:\n",
        "    print(col)\n",
        "    print(df[col].unique())\n",
        "    cat_list.append(list(df[col].unique()))"
      ]
    },
    {
      "cell_type": "markdown",
      "metadata": {},
      "source": [
        "In order to pass these categories names as a list to the ordinal encoder, `cat_list` will be used."
      ]
    },
    {
      "cell_type": "code",
      "execution_count": 9,
      "metadata": {},
      "outputs": [
        {
          "name": "stdout",
          "output_type": "stream",
          "text": [
            "[['convex', 'bell', 'sunken', 'flat', 'knobbed', 'conical'], ['smooth', 'scaly', 'fibrous', 'grooves'], ['brown', 'yellow', 'white', 'gray', 'red', 'pink', 'buff', 'purple', 'cinnamon', 'green'], ['bruises', 'no'], ['pungent', 'almond', 'anise', 'none', 'foul', 'creosote', 'fishy', 'spicy', 'musty'], ['free', 'attached'], ['close', 'crowded'], ['narrow', 'broad'], ['black', 'brown', 'gray', 'pink', 'white', 'chocolate', 'purple', 'red', 'buff', 'green', 'yellow', 'orange'], ['enlarging', 'tapering'], ['equal', 'club', 'bulbous', 'rooted', 'missing'], ['smooth', 'fibrous', 'silky', 'scaly'], ['smooth', 'fibrous', 'scaly', 'silky'], ['white', 'gray', 'pink', 'brown', 'buff', 'red', 'orange', 'cinnamon', 'yellow'], ['white', 'pink', 'gray', 'buff', 'brown', 'red', 'yellow', 'orange', 'cinnamon'], ['partial'], ['white', 'brown', 'orange', 'yellow'], ['one', 'two', 'none'], ['pendant', 'evanescent', 'large', 'flaring', 'none'], ['black', 'brown', 'purple', 'chocolate', 'white', 'green', 'orange', 'yellow', 'buff'], ['scattered', 'numerous', 'abundant', 'several', 'solitary', 'clustered'], ['urban', 'grasses', 'meadows', 'woods', 'paths', 'waste', 'leaves']]\n"
          ]
        }
      ],
      "source": [
        "print(cat_list)"
      ]
    },
    {
      "cell_type": "markdown",
      "metadata": {},
      "source": [
        "The above can be input into the `categories` argument of `OrdinalEncoder`."
      ]
    },
    {
      "cell_type": "code",
      "execution_count": 10,
      "metadata": {},
      "outputs": [
        {
          "data": {
            "text/html": [
              "<div>\n",
              "<style scoped>\n",
              "    .dataframe tbody tr th:only-of-type {\n",
              "        vertical-align: middle;\n",
              "    }\n",
              "\n",
              "    .dataframe tbody tr th {\n",
              "        vertical-align: top;\n",
              "    }\n",
              "\n",
              "    .dataframe thead th {\n",
              "        text-align: right;\n",
              "    }\n",
              "</style>\n",
              "<table border=\"1\" class=\"dataframe\">\n",
              "  <thead>\n",
              "    <tr style=\"text-align: right;\">\n",
              "      <th></th>\n",
              "      <th>edible</th>\n",
              "      <th>cap-shape</th>\n",
              "      <th>cap-surface</th>\n",
              "      <th>cap-color</th>\n",
              "      <th>bruises</th>\n",
              "      <th>odor</th>\n",
              "      <th>gill-attachment</th>\n",
              "      <th>gill-spacing</th>\n",
              "      <th>gill-size</th>\n",
              "      <th>gill-color</th>\n",
              "      <th>...</th>\n",
              "      <th>stalk-surface-below-ring</th>\n",
              "      <th>stalk-color-above-ring</th>\n",
              "      <th>stalk-color-below-ring</th>\n",
              "      <th>veil-type</th>\n",
              "      <th>veil-color</th>\n",
              "      <th>ring-number</th>\n",
              "      <th>ring-type</th>\n",
              "      <th>spore-print-color</th>\n",
              "      <th>population</th>\n",
              "      <th>habitat</th>\n",
              "    </tr>\n",
              "  </thead>\n",
              "  <tbody>\n",
              "    <tr>\n",
              "      <th>0</th>\n",
              "      <td>0</td>\n",
              "      <td>0.0</td>\n",
              "      <td>0.0</td>\n",
              "      <td>0.0</td>\n",
              "      <td>0.0</td>\n",
              "      <td>0.0</td>\n",
              "      <td>0.0</td>\n",
              "      <td>0.0</td>\n",
              "      <td>0.0</td>\n",
              "      <td>0.0</td>\n",
              "      <td>...</td>\n",
              "      <td>0.0</td>\n",
              "      <td>0.0</td>\n",
              "      <td>0.0</td>\n",
              "      <td>0.0</td>\n",
              "      <td>0.0</td>\n",
              "      <td>0.0</td>\n",
              "      <td>0.0</td>\n",
              "      <td>0.0</td>\n",
              "      <td>0.0</td>\n",
              "      <td>0.0</td>\n",
              "    </tr>\n",
              "    <tr>\n",
              "      <th>1</th>\n",
              "      <td>1</td>\n",
              "      <td>0.0</td>\n",
              "      <td>0.0</td>\n",
              "      <td>1.0</td>\n",
              "      <td>0.0</td>\n",
              "      <td>1.0</td>\n",
              "      <td>0.0</td>\n",
              "      <td>0.0</td>\n",
              "      <td>1.0</td>\n",
              "      <td>0.0</td>\n",
              "      <td>...</td>\n",
              "      <td>0.0</td>\n",
              "      <td>0.0</td>\n",
              "      <td>0.0</td>\n",
              "      <td>0.0</td>\n",
              "      <td>0.0</td>\n",
              "      <td>0.0</td>\n",
              "      <td>0.0</td>\n",
              "      <td>1.0</td>\n",
              "      <td>1.0</td>\n",
              "      <td>1.0</td>\n",
              "    </tr>\n",
              "    <tr>\n",
              "      <th>2</th>\n",
              "      <td>1</td>\n",
              "      <td>1.0</td>\n",
              "      <td>0.0</td>\n",
              "      <td>2.0</td>\n",
              "      <td>0.0</td>\n",
              "      <td>2.0</td>\n",
              "      <td>0.0</td>\n",
              "      <td>0.0</td>\n",
              "      <td>1.0</td>\n",
              "      <td>1.0</td>\n",
              "      <td>...</td>\n",
              "      <td>0.0</td>\n",
              "      <td>0.0</td>\n",
              "      <td>0.0</td>\n",
              "      <td>0.0</td>\n",
              "      <td>0.0</td>\n",
              "      <td>0.0</td>\n",
              "      <td>0.0</td>\n",
              "      <td>1.0</td>\n",
              "      <td>1.0</td>\n",
              "      <td>2.0</td>\n",
              "    </tr>\n",
              "    <tr>\n",
              "      <th>3</th>\n",
              "      <td>0</td>\n",
              "      <td>0.0</td>\n",
              "      <td>1.0</td>\n",
              "      <td>2.0</td>\n",
              "      <td>0.0</td>\n",
              "      <td>0.0</td>\n",
              "      <td>0.0</td>\n",
              "      <td>0.0</td>\n",
              "      <td>0.0</td>\n",
              "      <td>1.0</td>\n",
              "      <td>...</td>\n",
              "      <td>0.0</td>\n",
              "      <td>0.0</td>\n",
              "      <td>0.0</td>\n",
              "      <td>0.0</td>\n",
              "      <td>0.0</td>\n",
              "      <td>0.0</td>\n",
              "      <td>0.0</td>\n",
              "      <td>0.0</td>\n",
              "      <td>0.0</td>\n",
              "      <td>0.0</td>\n",
              "    </tr>\n",
              "    <tr>\n",
              "      <th>4</th>\n",
              "      <td>1</td>\n",
              "      <td>0.0</td>\n",
              "      <td>0.0</td>\n",
              "      <td>3.0</td>\n",
              "      <td>1.0</td>\n",
              "      <td>3.0</td>\n",
              "      <td>0.0</td>\n",
              "      <td>1.0</td>\n",
              "      <td>1.0</td>\n",
              "      <td>0.0</td>\n",
              "      <td>...</td>\n",
              "      <td>0.0</td>\n",
              "      <td>0.0</td>\n",
              "      <td>0.0</td>\n",
              "      <td>0.0</td>\n",
              "      <td>0.0</td>\n",
              "      <td>0.0</td>\n",
              "      <td>1.0</td>\n",
              "      <td>1.0</td>\n",
              "      <td>2.0</td>\n",
              "      <td>1.0</td>\n",
              "    </tr>\n",
              "  </tbody>\n",
              "</table>\n",
              "<p>5 rows × 23 columns</p>\n",
              "</div>"
            ],
            "text/plain": [
              "   edible  cap-shape  cap-surface  cap-color  bruises  odor  gill-attachment  \\\n",
              "0       0        0.0          0.0        0.0      0.0   0.0              0.0   \n",
              "1       1        0.0          0.0        1.0      0.0   1.0              0.0   \n",
              "2       1        1.0          0.0        2.0      0.0   2.0              0.0   \n",
              "3       0        0.0          1.0        2.0      0.0   0.0              0.0   \n",
              "4       1        0.0          0.0        3.0      1.0   3.0              0.0   \n",
              "\n",
              "   gill-spacing  gill-size  gill-color  ...  stalk-surface-below-ring  \\\n",
              "0           0.0        0.0         0.0  ...                       0.0   \n",
              "1           0.0        1.0         0.0  ...                       0.0   \n",
              "2           0.0        1.0         1.0  ...                       0.0   \n",
              "3           0.0        0.0         1.0  ...                       0.0   \n",
              "4           1.0        1.0         0.0  ...                       0.0   \n",
              "\n",
              "   stalk-color-above-ring  stalk-color-below-ring  veil-type  veil-color  \\\n",
              "0                     0.0                     0.0        0.0         0.0   \n",
              "1                     0.0                     0.0        0.0         0.0   \n",
              "2                     0.0                     0.0        0.0         0.0   \n",
              "3                     0.0                     0.0        0.0         0.0   \n",
              "4                     0.0                     0.0        0.0         0.0   \n",
              "\n",
              "   ring-number  ring-type  spore-print-color  population  habitat  \n",
              "0          0.0        0.0                0.0         0.0      0.0  \n",
              "1          0.0        0.0                1.0         1.0      1.0  \n",
              "2          0.0        0.0                1.0         1.0      2.0  \n",
              "3          0.0        0.0                0.0         0.0      0.0  \n",
              "4          0.0        1.0                1.0         2.0      1.0  \n",
              "\n",
              "[5 rows x 23 columns]"
            ]
          },
          "execution_count": 10,
          "metadata": {},
          "output_type": "execute_result"
        }
      ],
      "source": [
        "from sklearn.preprocessing import OrdinalEncoder\n",
        "\n",
        "encoder = OrdinalEncoder(categories=cat_list)\n",
        "encoded_df = encoder.fit_transform(df[cols])\n",
        "\n",
        "for i, col in enumerate(cols):\n",
        "    df_oe[col] = encoded_df[:,i]\n",
        "\n",
        "df_oe.head()"
      ]
    },
    {
      "cell_type": "markdown",
      "metadata": {},
      "source": [
        "We will now run the correlation methods on the encoded dataframe, using both spearman and spearman methods, in order to determine the variables in the dataset most relevant to the target, `edible`"
      ]
    },
    {
      "cell_type": "code",
      "execution_count": 11,
      "metadata": {},
      "outputs": [
        {
          "data": {
            "text/plain": [
              "odor                       -0.771088\n",
              "ring-type                  -0.579335\n",
              "spore-print-color          -0.555944\n",
              "gill-size                   0.540024\n",
              "stalk-surface-above-ring   -0.536555\n",
              "bruises                    -0.501530\n",
              "stalk-surface-below-ring   -0.500008\n",
              "gill-color                 -0.399424\n",
              "gill-spacing                0.348387\n",
              "stalk-root                 -0.341438\n",
              "Name: edible, dtype: float64"
            ]
          },
          "execution_count": 11,
          "metadata": {},
          "output_type": "execute_result"
        }
      ],
      "source": [
        "corr_spearman = df_oe.corr(method='spearman')['edible'].sort_values(key=abs, ascending=False)[1:].head(10)\n",
        "corr_spearman"
      ]
    },
    {
      "cell_type": "code",
      "execution_count": 12,
      "metadata": {},
      "outputs": [
        {
          "data": {
            "text/plain": [
              "odor                       -0.582015\n",
              "spore-print-color          -0.560715\n",
              "ring-type                  -0.556515\n",
              "stalk-surface-above-ring   -0.552044\n",
              "gill-size                   0.540024\n",
              "stalk-surface-below-ring   -0.532452\n",
              "bruises                    -0.501530\n",
              "gill-color                 -0.412869\n",
              "gill-spacing                0.348387\n",
              "stalk-root                 -0.337542\n",
              "Name: edible, dtype: float64"
            ]
          },
          "execution_count": 12,
          "metadata": {},
          "output_type": "execute_result"
        }
      ],
      "source": [
        "corr_pearson = df_oe.corr(method='pearson')['edible'].sort_values(key=abs, ascending=False)[1:].head(10)\n",
        "corr_pearson"
      ]
    },
    {
      "cell_type": "markdown",
      "metadata": {},
      "source": [
        "There is an issue with extracting correlation coefficients from this method of encoding; it varies depending on ordering, which is determined purely by the order in which categories appear in the original dataframe and is thus entirely arbitrary. To illustrate this, we will randomize the ordering of the list elements in `cat_list`:"
      ]
    },
    {
      "cell_type": "code",
      "execution_count": 13,
      "metadata": {},
      "outputs": [
        {
          "name": "stdout",
          "output_type": "stream",
          "text": [
            "[['convex', 'bell', 'sunken', 'flat', 'knobbed', 'conical'], ['smooth', 'scaly', 'fibrous', 'grooves'], ['brown', 'yellow', 'white', 'gray', 'red', 'pink', 'buff', 'purple', 'cinnamon', 'green'], ['bruises', 'no'], ['pungent', 'almond', 'anise', 'none', 'foul', 'creosote', 'fishy', 'spicy', 'musty'], ['free', 'attached'], ['close', 'crowded'], ['narrow', 'broad'], ['black', 'brown', 'gray', 'pink', 'white', 'chocolate', 'purple', 'red', 'buff', 'green', 'yellow', 'orange'], ['enlarging', 'tapering'], ['equal', 'club', 'bulbous', 'rooted', 'missing'], ['smooth', 'fibrous', 'silky', 'scaly'], ['smooth', 'fibrous', 'scaly', 'silky'], ['white', 'gray', 'pink', 'brown', 'buff', 'red', 'orange', 'cinnamon', 'yellow'], ['white', 'pink', 'gray', 'buff', 'brown', 'red', 'yellow', 'orange', 'cinnamon'], ['partial'], ['white', 'brown', 'orange', 'yellow'], ['one', 'two', 'none'], ['pendant', 'evanescent', 'large', 'flaring', 'none'], ['black', 'brown', 'purple', 'chocolate', 'white', 'green', 'orange', 'yellow', 'buff'], ['scattered', 'numerous', 'abundant', 'several', 'solitary', 'clustered'], ['urban', 'grasses', 'meadows', 'woods', 'paths', 'waste', 'leaves']]\n",
            "[['flat', 'knobbed', 'bell', 'conical', 'sunken', 'convex'], ['fibrous', 'scaly', 'grooves', 'smooth'], ['purple', 'buff', 'gray', 'red', 'yellow', 'brown', 'white', 'pink', 'green', 'cinnamon'], ['no', 'bruises'], ['almond', 'musty', 'creosote', 'fishy', 'foul', 'spicy', 'none', 'pungent', 'anise'], ['free', 'attached'], ['close', 'crowded'], ['broad', 'narrow'], ['red', 'purple', 'yellow', 'chocolate', 'white', 'pink', 'buff', 'orange', 'green', 'gray', 'brown', 'black'], ['tapering', 'enlarging'], ['equal', 'club', 'rooted', 'missing', 'bulbous'], ['smooth', 'scaly', 'silky', 'fibrous'], ['silky', 'scaly', 'fibrous', 'smooth'], ['gray', 'white', 'orange', 'pink', 'brown', 'red', 'buff', 'cinnamon', 'yellow'], ['white', 'brown', 'yellow', 'orange', 'cinnamon', 'red', 'buff', 'pink', 'gray'], ['partial'], ['orange', 'brown', 'white', 'yellow'], ['one', 'none', 'two'], ['flaring', 'none', 'large', 'evanescent', 'pendant'], ['white', 'buff', 'orange', 'yellow', 'chocolate', 'brown', 'purple', 'black', 'green'], ['solitary', 'abundant', 'scattered', 'clustered', 'numerous', 'several'], ['grasses', 'meadows', 'urban', 'leaves', 'waste', 'woods', 'paths']]\n"
          ]
        }
      ],
      "source": [
        "import random\n",
        "random.seed(123)\n",
        "print(cat_list)\n",
        "for cat in cat_list:\n",
        "    random.shuffle(cat)\n",
        "print(cat_list)"
      ]
    },
    {
      "cell_type": "markdown",
      "metadata": {},
      "source": [
        "With the newly ordered list, rerun the encoding:"
      ]
    },
    {
      "cell_type": "code",
      "execution_count": null,
      "metadata": {},
      "outputs": [],
      "source": [
        "encoder = OrdinalEncoder(categories=cat_list)\n",
        "encoded_array = encoder.fit_transform(df[cols])\n",
        "df_new_oe = df.copy()\n",
        "\n",
        "for i, col in enumerate(cols):\n",
        "    df_new_oe[col] = encoded_array[:,i]\n",
        "\n",
        "df_new_oe.head()"
      ]
    },
    {
      "cell_type": "markdown",
      "metadata": {},
      "source": [
        "And rerun the correlation methods:"
      ]
    },
    {
      "cell_type": "code",
      "execution_count": null,
      "metadata": {},
      "outputs": [],
      "source": [
        "print(f\"Old Spearman correlation coefficients:\\n{corr_spearman}\")\n",
        "new_corr_spearman = df_new_oe.corr(method='spearman')['edible'].sort_values(key=abs, ascending=False)[1:].head(10)\n",
        "print(f\"New Spearman correlation coefficients:\\n{new_corr_spearman}\")"
      ]
    },
    {
      "cell_type": "code",
      "execution_count": null,
      "metadata": {},
      "outputs": [],
      "source": [
        "print(f\"Old Pearson correlation coefficients:\\n{corr_pearson}\")\n",
        "new_corr_pearson = df_new_oe.corr(method='pearson')['edible'].sort_values(key=abs, ascending=False)[1:].head(10)\n",
        "print(f\"New Pearson correlation coefficients:\\n{new_corr_pearson}\")"
      ]
    },
    {
      "cell_type": "markdown",
      "metadata": {},
      "source": [
        "The correlation coefficients have very clearly changed from changing the order in which categories are encoded, and may result in us selecting different variables as the most correlated to `edible`. As such, we would prefer an encoder which is wholly agnostic with respect to the ordering of the dataset, and is based on some immutable statistical reality of the data. To do this, we use a `TargetEncoder`, which encodes each category based on their frequency in the positive result for the target. In the case of this dataset this is how frequently a mushroom of each category type is edible, eg. for encoding `cap-shape=bell`, as 53.2823% of all mushrooms with a `cap-shape=bell` have `edible=1`, `cap-shape=bell` is encoded as `cap-shape=0.532823`. For demonstration, view the output of the following 2 code cells."
      ]
    },
    {
      "cell_type": "code",
      "execution_count": null,
      "metadata": {},
      "outputs": [],
      "source": [
        "df.head()"
      ]
    },
    {
      "cell_type": "code",
      "execution_count": null,
      "metadata": {},
      "outputs": [],
      "source": [
        "from category_encoders import TargetEncoder\n",
        "cols = df.columns[df.dtypes=='object'].to_list()\n",
        "encoder = TargetEncoder()\n",
        "df_te = df.copy()\n",
        "\n",
        "for col in cols:\n",
        "    df_te[col] = encoder.fit_transform(df[col], df['edible'])\n",
        "\n",
        "df_te.head()"
      ]
    },
    {
      "cell_type": "markdown",
      "metadata": {},
      "source": [
        "We now repeat the correlation methods for the dataset with the new encoding method."
      ]
    },
    {
      "cell_type": "code",
      "execution_count": null,
      "metadata": {},
      "outputs": [],
      "source": [
        "corr_spearman = df_te.corr(method='spearman')['edible'].sort_values(key=abs, ascending=False)[1:].head(10)\n",
        "corr_spearman"
      ]
    },
    {
      "cell_type": "code",
      "execution_count": null,
      "metadata": {},
      "outputs": [],
      "source": [
        "corr_pearson = df_te.corr(method='pearson')['edible'].sort_values(key=abs, ascending=False)[1:].head(10)\n",
        "corr_pearson"
      ]
    },
    {
      "cell_type": "markdown",
      "metadata": {},
      "source": [
        "This encoding method appears to provide much higher correlation constants than with ordinal encoding, which are also immutable as there is no way to alter the nature of the encoding. Hence these coefficients will be used to provide insight on which variables correlate most with edibility. \n",
        "\n",
        "It appears that there are few variables that have strong correlation to whether the mushrooms are edible or poisonous, with the strongest being `odor` with its correlation coefficient being 0.92 when calculated by the Spearman method, 0.97 when calculated by Pearson. As there are no numerical variables in this dataset, such correlation coefficients do not show a relationship between two measured variables, but rather how strongly different categorical properties of the mushrooms can be said to indicate edibility. "
      ]
    },
    {
      "cell_type": "code",
      "execution_count": null,
      "metadata": {},
      "outputs": [],
      "source": [
        "top_n = 5\n",
        "set(corr_pearson[:top_n].index.to_list() + corr_spearman[:top_n].index.to_list())"
      ]
    },
    {
      "cell_type": "markdown",
      "metadata": {},
      "source": [
        "Therefore we will study the following variables. We will investigate if:\n",
        "\n",
        "* Mushrooms with `buff` for `gill color` are most liable to be poisonous\n",
        "* Mushrooms with `foul` for `odor` are most liable to be poisonous\n",
        "* Mushrooms with `pendant` for `ring-type` have the best chance of being edible\n",
        "* Mushrooms with `buff` for `spore-print-color` have the best chance of being edible\n",
        "* Mushrooms with `silky` for `stalk-surface-above-ring` are most liable to be poisonous"
      ]
    },
    {
      "cell_type": "code",
      "execution_count": null,
      "metadata": {},
      "outputs": [],
      "source": [
        "vars_to_study = ['gill-color',\n",
        "                'odor',\n",
        "                'ring-type',\n",
        "                'spore-print-color',\n",
        "                'stalk-surface-above-ring']\n",
        "vars_to_study"
      ]
    },
    {
      "cell_type": "markdown",
      "metadata": {},
      "source": [
        "---"
      ]
    },
    {
      "cell_type": "markdown",
      "metadata": {},
      "source": [
        "# EDA on selected variables"
      ]
    },
    {
      "cell_type": "code",
      "execution_count": null,
      "metadata": {},
      "outputs": [],
      "source": [
        "df_eda = df.filter(vars_to_study + ['edible'])\n",
        "df_eda.head()"
      ]
    },
    {
      "cell_type": "markdown",
      "metadata": {},
      "source": [
        "## Variables Distibution by Edibility"
      ]
    },
    {
      "cell_type": "markdown",
      "metadata": {},
      "source": [
        "Plotting the distributions (categorical) coloured by `edible`, recalling that poisonous=0, edible=1:"
      ]
    },
    {
      "cell_type": "code",
      "execution_count": null,
      "metadata": {
        "tags": []
      },
      "outputs": [],
      "source": [
        "%matplotlib inline\n",
        "import matplotlib.pyplot as plt\n",
        "import seaborn as sns\n",
        "sns.set_style('whitegrid')\n",
        "\n",
        "\n",
        "def plot_categorical(df, col, target_var):\n",
        "    \"\"\" Plots distribution of categorical variables with respect to a target variable \"\"\"\n",
        "    plt.figure(figsize=(12, 5))\n",
        "    sns.countplot(data=df, x=col, hue=target_var, order=df[col].value_counts().index)\n",
        "    plt.xticks(rotation=90)\n",
        "    plt.title(f\"{col}\", fontsize=20, y=1.05)\n",
        "    plt.show()\n",
        "\n",
        "target_var = 'edible'\n",
        "for col in vars_to_study:\n",
        "    if df_eda[col].dtype == 'object':\n",
        "        plot_categorical(df_eda, col, target_var)\n",
        "        print(\"\\n\\n\")\n",
        "    else:\n",
        "        plot_numerical(df_eda, col, target_var)\n",
        "        print(\"\\n\\n\")"
      ]
    },
    {
      "cell_type": "markdown",
      "metadata": {},
      "source": [
        "## Parellel Plot"
      ]
    },
    {
      "cell_type": "markdown",
      "metadata": {},
      "source": [
        "Creates multi-dimensional categorical data plot"
      ]
    },
    {
      "cell_type": "code",
      "execution_count": null,
      "metadata": {},
      "outputs": [],
      "source": [
        "import plotly.express as px\n",
        "fig = px.parallel_categories(df_eda, color=\"edible\")\n",
        "fig.show()"
      ]
    },
    {
      "cell_type": "markdown",
      "metadata": {},
      "source": [
        "---"
      ]
    },
    {
      "cell_type": "markdown",
      "metadata": {},
      "source": [
        "# Conclusions"
      ]
    },
    {
      "cell_type": "markdown",
      "metadata": {},
      "source": [
        "The correlations and plot interpretations converge, in that it can be observed that the selected categories appear to be significant indicators of whether mushrooms are edible or not. It was found that:\n",
        "\n",
        "* Mushrooms with `buff` for `gill color` are most liable to be poisonous\n",
        "* Mushrooms with `foul` for `odor` are most liable to be poisonous\n",
        "* Mushrooms with `pendant` for `ring-type` have the best chance of being edible\n",
        "* Mushrooms with `buff` for `spore-print-color` have the best chance of being edible\n",
        "* Mushrooms with `silky` for `stalk-surface-above-ring` are most liable to be poisonous\n",
        "\n",
        "Furthermore, from the \"Correlation Study - Which Mushroom Categories are Most Relevant for Plotting\", it's clear the project hypotheses have been successfully validated:\n",
        "\n",
        "* A mushroom having no odor is strongly correlated to edibility, with the flag `odor_none` having Spearman correlation coefficient of 0.79 and Pearson coefficient of 0.79 to the `edible` flag. It was also found that 96.6% of all mushrooms in the dataset with no odor are edible. Hence, it can be said mushrooms without an odor are typically edible.\n",
        "* A mushroom having a silky consistency above the ring is strongly negatively correlated to a mushroom being edible, with the flag `stalk-surface-above-ring_silky` having a Spearman correlation coefficient of -0.59 and Pearson correlation coefficient of -0.59 to the `edible` flag. It was also found only 6.06% of mushrooms with a silky stalk surface above the stalk ring are edible. Hence mushrooms with a silky consistency on the stalk above the ring are typically poisonous."
      ]
    }
  ],
  "metadata": {
    "accelerator": "GPU",
    "colab": {
      "name": "Data Practitioner Jupyter Notebook.ipynb",
      "provenance": [],
      "toc_visible": true
    },
    "kernelspec": {
      "display_name": "Python 3.8.12 64-bit ('3.8.12')",
      "language": "python",
      "name": "python3"
    },
    "language_info": {
      "codemirror_mode": {
        "name": "ipython",
        "version": 3
      },
      "file_extension": ".py",
      "mimetype": "text/x-python",
      "name": "python",
      "nbconvert_exporter": "python",
      "pygments_lexer": "ipython3",
      "version": "3.8.12"
    },
    "orig_nbformat": 2,
    "vscode": {
      "interpreter": {
        "hash": "8b8334dab9339717f727a1deaf837b322d7a41c20d15cc86be99a8e69ceec8ce"
      }
    }
  },
  "nbformat": 4,
  "nbformat_minor": 2
}
